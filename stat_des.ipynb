{
  "nbformat": 4,
  "nbformat_minor": 0,
  "metadata": {
    "colab": {
      "name": "stat_des.ipynb",
      "provenance": [],
      "collapsed_sections": [],
      "toc_visible": true,
      "include_colab_link": true
    },
    "kernelspec": {
      "name": "python3",
      "display_name": "Python 3"
    },
    "language_info": {
      "name": "python"
    }
  },
  "cells": [
    {
      "cell_type": "markdown",
      "metadata": {
        "id": "view-in-github",
        "colab_type": "text"
      },
      "source": [
        "<a href=\"https://colab.research.google.com/github/darshan-jain/19CSE304-FDS/blob/main/stat_des.ipynb\" target=\"_parent\"><img src=\"https://colab.research.google.com/assets/colab-badge.svg\" alt=\"Open In Colab\"/></a>"
      ]
    },
    {
      "cell_type": "code",
      "metadata": {
        "id": "IiupO7g6rPWt"
      },
      "source": [
        "import pandas as pd\n",
        "import numpy as np"
      ],
      "execution_count": null,
      "outputs": []
    },
    {
      "cell_type": "code",
      "metadata": {
        "id": "yDJTlAaO7N3w"
      },
      "source": [
        "data = pd.read_csv('https://raw.githubusercontent.com/dayanandv/Data-Science/main/dataset/uk-500.csv')\n",
        "data.head()"
      ],
      "execution_count": null,
      "outputs": []
    },
    {
      "cell_type": "markdown",
      "metadata": {
        "id": "RyoGerAMrYma"
      },
      "source": [
        "# Populations and Samples"
      ]
    },
    {
      "cell_type": "markdown",
      "metadata": {
        "id": "LsE9XNi0reLA"
      },
      "source": [
        "## Sampling techniques"
      ]
    },
    {
      "cell_type": "markdown",
      "metadata": {
        "id": "RBwuT8HPrnd2"
      },
      "source": [
        "### Simple Random Sampling"
      ]
    },
    {
      "cell_type": "markdown",
      "metadata": {
        "id": "VH1GJM9Q8Y6X"
      },
      "source": [
        "df.sample(n, frac, replace, random_state)"
      ]
    },
    {
      "cell_type": "markdown",
      "metadata": {
        "id": "RzOW9GKar2Hi"
      },
      "source": [
        "### Stratified Sampling"
      ]
    },
    {
      "cell_type": "markdown",
      "metadata": {
        "id": "J_4DoZ6fr_85"
      },
      "source": [
        "### Systematic Sampling"
      ]
    },
    {
      "cell_type": "markdown",
      "metadata": {
        "id": "roTDxNtasAEr"
      },
      "source": [
        "### Clustered Sampling"
      ]
    },
    {
      "cell_type": "markdown",
      "metadata": {
        "id": "E4LZf7ti1aT7"
      },
      "source": [
        "Read: [Reservoir Sampling](https://en.wikipedia.org/wiki/Reservoir_sampling)\n",
        "\n",
        "\n",
        "---\n",
        "\n"
      ]
    },
    {
      "cell_type": "markdown",
      "metadata": {
        "id": "HMbPuZaG2zYq"
      },
      "source": [
        "## Handling imbalanced datasets"
      ]
    },
    {
      "cell_type": "markdown",
      "metadata": {
        "id": "iqi3igbt27GY"
      },
      "source": [
        "Undersampling"
      ]
    },
    {
      "cell_type": "markdown",
      "metadata": {
        "id": "RdfVmhQN3I6p"
      },
      "source": [
        "Oversampling"
      ]
    },
    {
      "cell_type": "markdown",
      "metadata": {
        "id": "82of0CRV3kGf"
      },
      "source": [
        "Read: [imblearn](https://github.com/scikit-learn-contrib/imbalanced-learn)"
      ]
    },
    {
      "cell_type": "markdown",
      "metadata": {
        "id": "_ZkQHHeP3hV6"
      },
      "source": [
        "\n",
        "\n",
        "---\n",
        "\n"
      ]
    },
    {
      "cell_type": "markdown",
      "metadata": {
        "id": "6S_enZUe13lE"
      },
      "source": [
        "Sampling error: Differences between the sam-\n",
        "ple and the population that exist only because of the observations that happened to be selected for the sample. Increasing sample size helps in reduction.\n",
        "\n",
        "Non-sampling error: Errors in data acquisition, Nonresponse errors, Selection bias etc. Increasing sample size may not help in reduction.\n",
        "\n",
        "[Reference](https://personal.utdallas.edu/~scniu/OPRE-6301/documents/Data_Collection_and_Sampling.pdf)"
      ]
    },
    {
      "cell_type": "markdown",
      "metadata": {
        "id": "HYUyPMPzsZxm"
      },
      "source": [
        "# Frequency Distribution"
      ]
    },
    {
      "cell_type": "markdown",
      "metadata": {
        "id": "ImWogy3LtiX8"
      },
      "source": [
        "## Range"
      ]
    },
    {
      "cell_type": "markdown",
      "metadata": {
        "id": "0EMmDkvqtxjf"
      },
      "source": [
        "## Number of classes"
      ]
    },
    {
      "cell_type": "markdown",
      "metadata": {
        "id": "TVqPbaSdtrDj"
      },
      "source": [
        "## Class Interval"
      ]
    },
    {
      "cell_type": "markdown",
      "metadata": {
        "id": "7N3JRuSgt6mA"
      },
      "source": [
        "## Class Midpoint"
      ]
    },
    {
      "cell_type": "markdown",
      "metadata": {
        "id": "uZXv5d-ktrL5"
      },
      "source": [
        "## Relative Frequency"
      ]
    },
    {
      "cell_type": "markdown",
      "metadata": {
        "id": "vj0zQS4fuGkZ"
      },
      "source": [
        "## Cumulative Frequency"
      ]
    },
    {
      "cell_type": "markdown",
      "metadata": {
        "id": "O5a7z2kArTMA"
      },
      "source": [
        "# Measures of central tendency"
      ]
    },
    {
      "cell_type": "markdown",
      "metadata": {
        "id": "owaI2CtCtk3n"
      },
      "source": [
        "## Mean"
      ]
    },
    {
      "cell_type": "code",
      "metadata": {
        "id": "MfmIfkPnu07f"
      },
      "source": [
        "n"
      ],
      "execution_count": null,
      "outputs": []
    },
    {
      "cell_type": "markdown",
      "metadata": {
        "id": "dHPWWuSAuuvO"
      },
      "source": [
        "## Median"
      ]
    },
    {
      "cell_type": "markdown",
      "metadata": {
        "id": "0yLl_8r6u_Dm"
      },
      "source": [
        "## Mode"
      ]
    },
    {
      "cell_type": "markdown",
      "metadata": {
        "id": "IJtSjhl5u_O3"
      },
      "source": [
        "## Percentile"
      ]
    },
    {
      "cell_type": "markdown",
      "metadata": {
        "id": "fqdvXZNGu_fi"
      },
      "source": [
        "## Quartile"
      ]
    },
    {
      "cell_type": "markdown",
      "metadata": {
        "id": "679ByOC5vOTK"
      },
      "source": [
        "## Recap of pandas describe()"
      ]
    },
    {
      "cell_type": "markdown",
      "metadata": {
        "id": "QOP-97L24WAx"
      },
      "source": [
        "# Measures of variance"
      ]
    },
    {
      "cell_type": "markdown",
      "metadata": {
        "id": "yExmHScb4an9"
      },
      "source": [
        "## Skewness"
      ]
    },
    {
      "cell_type": "markdown",
      "metadata": {
        "id": "6DeSTPyK4cmP"
      },
      "source": [
        "## Kurtosis"
      ]
    }
  ]
}