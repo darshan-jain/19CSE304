{
  "nbformat": 4,
  "nbformat_minor": 0,
  "metadata": {
    "colab": {
      "name": "CB.EN.U4CSE19126_FDS.ipynb",
      "provenance": [],
      "collapsed_sections": [],
      "toc_visible": true,
      "include_colab_link": true
    },
    "kernelspec": {
      "name": "python3",
      "display_name": "Python 3"
    },
    "language_info": {
      "name": "python"
    }
  },
  "cells": [
    {
      "cell_type": "markdown",
      "metadata": {
        "id": "view-in-github",
        "colab_type": "text"
      },
      "source": [
        "<a href=\"https://colab.research.google.com/github/darshan-jain/19CSE304-FDS/blob/main/CB_EN_U4CSE19126_FDS.ipynb\" target=\"_parent\"><img src=\"https://colab.research.google.com/assets/colab-badge.svg\" alt=\"Open In Colab\"/></a>"
      ]
    },
    {
      "cell_type": "markdown",
      "metadata": {
        "id": "JvWmEYvLe672"
      },
      "source": [
        "# Read and Preprocess"
      ]
    },
    {
      "cell_type": "markdown",
      "metadata": {
        "id": "sbVizKzNcO35"
      },
      "source": [
        "#Instruction: Import required libraries here"
      ]
    },
    {
      "cell_type": "code",
      "metadata": {
        "id": "bva5jvJ9ITlZ"
      },
      "source": [
        "# Import\n",
        "import matplotlib as mpl\n",
        "import matplotlib.pyplot as plt\n",
        "%matplotlib inline\n",
        "import seaborn as sns"
      ],
      "execution_count": 41,
      "outputs": []
    },
    {
      "cell_type": "code",
      "metadata": {
        "id": "CtxISvR7fqsR"
      },
      "source": [
        "import pandas as pd\n",
        "import numpy as np"
      ],
      "execution_count": 8,
      "outputs": []
    },
    {
      "cell_type": "markdown",
      "metadata": {
        "id": "wE6h5_Yfcbb5"
      },
      "source": [
        "#Instruction: From this [link](https://github.com/dayanandv/Data-Science/tree/main/Evaluation%201_Preprocessing), read the following files into dataframes:\n",
        "\n",
        "    \n",
        "\n",
        "1.   LokSabhaMPs.xls to the dataframe `mps`\n",
        "2.   Each sheet (there are six in total) of the file Seventeenth Lok Sabha_Attendance.xlsx to a list of DataFrames named `attendance`; i.e. each element of the list will be a DataFrame corresponding to a sheet in the file which represents one session.\n",
        "\n",
        "Preprocess, so that:\n",
        "\n",
        "1. The dataframe header map to the row number where column names are listed.\n",
        "2. Extra space at the end of Member Name are handled.\n",
        "\n",
        "Description of the attendance dataset from http://loksabhaph.nic.in\n",
        "\n",
        "S= The Member Signed the Register\n",
        "\n",
        "S*= The Member signed through Mobile Attendance Application\n",
        "\n",
        "S#= The Member signed through both the Register & Mobile Attendance Application\n",
        "\n",
        "NS= The Member did not sign the register. (A Member might have attended the sitting of the House on a particular day but did not sign or forgot to sign the Register for that day )\n",
        "\n",
        "NS@= Member was present but forgot to sign the Attendance Register\n",
        "\n",
        "NR= Not Required. (Hon'ble Speaker, Deputy Speaker, Prime Minister and Minister usually do not sign the Members' Attendance Register)\n"
      ]
    },
    {
      "cell_type": "code",
      "metadata": {
        "id": "57ANXZqhcXSb",
        "colab": {
          "base_uri": "https://localhost:8080/",
          "height": 419
        },
        "outputId": "b5bcb888-2ddc-4e88-c83e-14fb593bbbf0"
      },
      "source": [
        "from io import BytesIO\n",
        "import requests as rq\n",
        "\n",
        "url = \"https://github.com/dayanandv/Data-Science/blob/main/Evaluation%201_Preprocessing/LokSabha_MPs.xls?raw=true\"\n",
        "data = rq.get(url).content\n",
        "mps = pd.read_excel(BytesIO(data))\n",
        "mps "
      ],
      "execution_count": 9,
      "outputs": [
        {
          "output_type": "execute_result",
          "data": {
            "text/html": [
              "<div>\n",
              "<style scoped>\n",
              "    .dataframe tbody tr th:only-of-type {\n",
              "        vertical-align: middle;\n",
              "    }\n",
              "\n",
              "    .dataframe tbody tr th {\n",
              "        vertical-align: top;\n",
              "    }\n",
              "\n",
              "    .dataframe thead th {\n",
              "        text-align: right;\n",
              "    }\n",
              "</style>\n",
              "<table border=\"1\" class=\"dataframe\">\n",
              "  <thead>\n",
              "    <tr style=\"text-align: right;\">\n",
              "      <th></th>\n",
              "      <th>Seventeenth Lok Sabha</th>\n",
              "      <th>Unnamed: 1</th>\n",
              "      <th>Unnamed: 2</th>\n",
              "    </tr>\n",
              "  </thead>\n",
              "  <tbody>\n",
              "    <tr>\n",
              "      <th>0</th>\n",
              "      <td>Sitting Members (Alphabetical)</td>\n",
              "      <td>NaN</td>\n",
              "      <td>NaN</td>\n",
              "    </tr>\n",
              "    <tr>\n",
              "      <th>1</th>\n",
              "      <td>Name of Member</td>\n",
              "      <td>Party Name</td>\n",
              "      <td>Constituency &amp; State</td>\n",
              "    </tr>\n",
              "    <tr>\n",
              "      <th>2</th>\n",
              "      <td>Shri A. Raja</td>\n",
              "      <td>Dravida Munnetra Kazhagam</td>\n",
              "      <td>Nilgiris (SC)(Tamil Nadu)</td>\n",
              "    </tr>\n",
              "    <tr>\n",
              "      <th>3</th>\n",
              "      <td>Shri Narayana Swamy Abbaiah</td>\n",
              "      <td>Bharatiya Janata Party</td>\n",
              "      <td>Chitradurga (SC)(Karnataka)</td>\n",
              "    </tr>\n",
              "    <tr>\n",
              "      <th>4</th>\n",
              "      <td>Dr. Farooq Abdullah</td>\n",
              "      <td>Jammu and Kashmir National Conference</td>\n",
              "      <td>Srinagar (Jammu and Kashmir)</td>\n",
              "    </tr>\n",
              "    <tr>\n",
              "      <th>...</th>\n",
              "      <td>...</td>\n",
              "      <td>...</td>\n",
              "      <td>...</td>\n",
              "    </tr>\n",
              "    <tr>\n",
              "      <th>537</th>\n",
              "      <td>Dr. Krishnapal Singh Yadav</td>\n",
              "      <td>Bharatiya Janata Party</td>\n",
              "      <td>Guna (Madhya Pradesh)</td>\n",
              "    </tr>\n",
              "    <tr>\n",
              "      <th>538</th>\n",
              "      <td>Shri Mulayam Singh Yadav</td>\n",
              "      <td>Samajwadi Party</td>\n",
              "      <td>Mainpuri (Uttar Pradesh)</td>\n",
              "    </tr>\n",
              "    <tr>\n",
              "      <th>539</th>\n",
              "      <td>Shri Ram Kripal Yadav</td>\n",
              "      <td>Bharatiya Janata Party</td>\n",
              "      <td>Pataliputra (Bihar)</td>\n",
              "    </tr>\n",
              "    <tr>\n",
              "      <th>540</th>\n",
              "      <td>Shri Shyam Singh Yadav</td>\n",
              "      <td>Bahujan Samaj Party</td>\n",
              "      <td>Jaunpur (Uttar Pradesh)</td>\n",
              "    </tr>\n",
              "    <tr>\n",
              "      <th>541</th>\n",
              "      <td>Shri Tokheho Yepthomi</td>\n",
              "      <td>Nationalist Democratic Progressive Party</td>\n",
              "      <td>Nagaland (Nagaland)</td>\n",
              "    </tr>\n",
              "  </tbody>\n",
              "</table>\n",
              "<p>542 rows × 3 columns</p>\n",
              "</div>"
            ],
            "text/plain": [
              "              Seventeenth Lok Sabha  ...                    Unnamed: 2\n",
              "0    Sitting Members (Alphabetical)  ...                           NaN\n",
              "1                    Name of Member  ...          Constituency & State\n",
              "2                      Shri A. Raja  ...     Nilgiris (SC)(Tamil Nadu)\n",
              "3       Shri Narayana Swamy Abbaiah  ...   Chitradurga (SC)(Karnataka)\n",
              "4               Dr. Farooq Abdullah  ...  Srinagar (Jammu and Kashmir)\n",
              "..                              ...  ...                           ...\n",
              "537      Dr. Krishnapal Singh Yadav  ...         Guna (Madhya Pradesh)\n",
              "538        Shri Mulayam Singh Yadav  ...      Mainpuri (Uttar Pradesh)\n",
              "539           Shri Ram Kripal Yadav  ...           Pataliputra (Bihar)\n",
              "540          Shri Shyam Singh Yadav  ...       Jaunpur (Uttar Pradesh)\n",
              "541           Shri Tokheho Yepthomi  ...           Nagaland (Nagaland)\n",
              "\n",
              "[542 rows x 3 columns]"
            ]
          },
          "metadata": {},
          "execution_count": 9
        }
      ]
    },
    {
      "cell_type": "code",
      "metadata": {
        "id": "bhX327dCdyWD"
      },
      "source": [
        "url = \"https://github.com/dayanandv/Data-Science/blob/main/Evaluation%201_Preprocessing/Seventeenth%20Lok%20Sabha_Attendance.xlsx?raw=true\"\n",
        "xls = pd.ExcelFile(url)\n",
        "df1 = pd.read_excel(xls, '1')\n",
        "df2 = pd.read_excel(xls, '2')\n",
        "df3 = pd.read_excel(xls, '3')\n",
        "df4 = pd.read_excel(xls, '4')\n",
        "df5 = pd.read_excel(xls, '5')\n",
        "df6 = pd.read_excel(xls, '6')\n",
        "attendance = [df1,df2,df3,df4,df5,df6]\n",
        "# Write your code here"
      ],
      "execution_count": 14,
      "outputs": []
    },
    {
      "cell_type": "markdown",
      "metadata": {
        "id": "7OhvfFldcIKg"
      },
      "source": [
        "# Q1. Edit the function q1 such that it returns a tuple containing the the number of rows of `mps` and number of elements in `attendance` respectively."
      ]
    },
    {
      "cell_type": "code",
      "metadata": {
        "id": "gVT3UoGicKzh",
        "colab": {
          "base_uri": "https://localhost:8080/"
        },
        "outputId": "e8cb044b-848e-4014-9dd8-fae925e31b35"
      },
      "source": [
        "def q1():\n",
        "  # Write your code here\n",
        "  nor_mps,noc_mps = mps.shape\n",
        "  nor_attendance = 0\n",
        "  for i in range(6):\n",
        "    nor_attendance = nor_attendance + attendance[i].shape[0]\n",
        "  return (nor_mps, nor_attendance)\n",
        "\n",
        "q1()"
      ],
      "execution_count": 55,
      "outputs": [
        {
          "output_type": "execute_result",
          "data": {
            "text/plain": [
              "(542, 2909)"
            ]
          },
          "metadata": {},
          "execution_count": 55
        }
      ]
    },
    {
      "cell_type": "markdown",
      "metadata": {
        "id": "Ftnn61kJ0rKV"
      },
      "source": [
        "#Instruction: Have the attendance percentages of each session (sheet) calculated and added to its respective dataframe as a column named `Attendance Percentage`."
      ]
    },
    {
      "cell_type": "code",
      "metadata": {
        "id": "N1RK_enL1NMZ"
      },
      "source": [
        "# Write your code here\n",
        "df1['Attendance Percentage'] = (df1['No. of days Members signed the Register'] / (df1['No. of days Members signed the Register']+ df1['No. of days Members not signed the Register']))*100\n",
        "df2['Attendance Percentage'] = (df2['No. of days Members signed the Register'] / (df2['No. of days Members signed the Register']+ df2['No. of days Members not signed the Register']))*100\n",
        "df3['Attendance Percentage'] = (df3['No. of days Members signed the Register'] / (df3['No. of days Members signed the Register']+ df3['No. of days Members not signed the Register']))*100\n",
        "df4['Attendance Percentage'] = (df4['No. of days Members signed the Register'] / (df4['No. of days Members signed the Register']+ df4['No. of days Members not signed the Register']))*100\n",
        "df5['Attendance Percentage'] = (df5['No. of days Members signed the Register'] / (df5['No. of days Members signed the Register']+ df5['No. of days Members not signed the Register']))*100\n",
        "df6['Attendance Percentage'] = (df6['No. of days Members signed the Register'] / (df6['No. of days Members signed the Register']+ df6['No. of days Members not signed the Register']))*100\n"
      ],
      "execution_count": 18,
      "outputs": []
    },
    {
      "cell_type": "markdown",
      "metadata": {
        "id": "pGYny8A-iOVQ"
      },
      "source": [
        "#Q2. Edit the function q2 such that it returns the percentage of MPs among those who attended session 1 (round to two decimal places) who had 100% attendance."
      ]
    },
    {
      "cell_type": "code",
      "metadata": {
        "id": "p9d5M642hUiY",
        "colab": {
          "base_uri": "https://localhost:8080/"
        },
        "outputId": "8c7b3798-cc08-4aaa-81cb-a21f24520fd5"
      },
      "source": [
        "def q2():\n",
        "  # Write your code here\n",
        "  count_hundred = (df1['Attendance Percentage']==100).sum()\n",
        "  row_c, col_c = df1.shape\n",
        "  percentage = (count_hundred/row_c)*100\n",
        "  return round(percentage,2)\n",
        "\n",
        "q2()"
      ],
      "execution_count": 30,
      "outputs": [
        {
          "output_type": "execute_result",
          "data": {
            "text/plain": [
              "20.23"
            ]
          },
          "metadata": {},
          "execution_count": 30
        }
      ]
    },
    {
      "cell_type": "markdown",
      "metadata": {
        "id": "d3tDqa1iwMKz"
      },
      "source": [
        "#Q3. Edit the function q3 such that it returns the skew value (round to two decimal places) of the Attendance Percentages of MPs in session 2 (sheet 2).  "
      ]
    },
    {
      "cell_type": "code",
      "metadata": {
        "id": "UoNrGeJswz1W",
        "colab": {
          "base_uri": "https://localhost:8080/"
        },
        "outputId": "d2dda084-4e3c-4565-a7c4-539c2d3c139d"
      },
      "source": [
        "def q3():\n",
        "  # Write your code here\n",
        "  skew = df2['Attendance Percentage'].skew()\n",
        "  return round(skew,2)\n",
        "\n",
        "q3()"
      ],
      "execution_count": 33,
      "outputs": [
        {
          "output_type": "execute_result",
          "data": {
            "text/plain": [
              "-1.64"
            ]
          },
          "metadata": {},
          "execution_count": 33
        }
      ]
    },
    {
      "cell_type": "markdown",
      "metadata": {
        "id": "1TBy6RJ6yKQx"
      },
      "source": [
        "#Q4. Edit the function q4 such that it returns the kurtosis value of the number of days that the MPs have not signed in the register during session 3 (sheet 3).  "
      ]
    },
    {
      "cell_type": "code",
      "metadata": {
        "id": "Y-jVeoh1ySBg",
        "colab": {
          "base_uri": "https://localhost:8080/"
        },
        "outputId": "df87f7ea-d55b-4609-d426-fe3f4653d6ee"
      },
      "source": [
        "def q4():\n",
        "  # Write your code here\n",
        "  kurt = df3['No. of days Members not signed the Register'].kurt()\n",
        "  return round(kurt,2)\n",
        "\n",
        "q4()"
      ],
      "execution_count": 42,
      "outputs": [
        {
          "output_type": "execute_result",
          "data": {
            "text/plain": [
              "1.56"
            ]
          },
          "metadata": {},
          "execution_count": 42
        }
      ]
    },
    {
      "cell_type": "markdown",
      "metadata": {
        "id": "eLeL-slM0Zsx"
      },
      "source": [
        "#Instruction: Plot a histogram of the Attendance Percentage' column of session 4 (sheet 4) and use it to answer the following question."
      ]
    },
    {
      "cell_type": "code",
      "metadata": {
        "colab": {
          "base_uri": "https://localhost:8080/",
          "height": 296
        },
        "id": "DmmYiEuFEY_p",
        "outputId": "99d721f9-1d33-4cc8-ffdd-b415aba8e5b9"
      },
      "source": [
        "import seaborn as sns\n",
        "sns.histplot(attendance[3]['Attendance Percentage'])"
      ],
      "execution_count": 45,
      "outputs": [
        {
          "output_type": "execute_result",
          "data": {
            "text/plain": [
              "<matplotlib.axes._subplots.AxesSubplot at 0x7f91d92efa90>"
            ]
          },
          "metadata": {},
          "execution_count": 45
        },
        {
          "output_type": "display_data",
          "data": {
            "image/png": "[encoded data removed]",
            "text/plain": [
              "<Figure size 432x288 with 1 Axes>"
            ]
          },
          "metadata": {
            "needs_background": "light"
          }
        }
      ]
    },
    {
      "cell_type": "markdown",
      "metadata": {
        "id": "QoFIx4Al2Fgr"
      },
      "source": [
        "#Q5. Edit the function q5 such that it returns the boolean value corresponding to whether the histogram of the `Attendance Percentage` column of any arbitrary session shows a heavily skewed distribution (True/False). The session number is  to be passed onto the function as an integer argument.\n",
        "\n",
        "For this example, assume that we call a distribution as heavily skewed if it's absolute skew value is **more than 1.7**."
      ]
    },
    {
      "cell_type": "code",
      "metadata": {
        "id": "RzAId78AzTPb",
        "colab": {
          "base_uri": "https://localhost:8080/"
        },
        "outputId": "2705dbc4-42fb-4850-eb90-eaccbc57a575"
      },
      "source": [
        "def q5(session_number):\n",
        "  # Write your code here\n",
        "  skew_val = attendance[session_number -1]['Attendance Percentage'].skew()\n",
        "  skew_val = abs(skew_val)\n",
        "  if skew_val>1.7:\n",
        "    answer = True\n",
        "  else:\n",
        "    answer = False\n",
        "  return answer\n",
        "\n",
        "q5(5)"
      ],
      "execution_count": 54,
      "outputs": [
        {
          "output_type": "execute_result",
          "data": {
            "text/plain": [
              "False"
            ]
          },
          "metadata": {},
          "execution_count": 54
        }
      ]
    },
    {
      "cell_type": "markdown",
      "metadata": {
        "id": "VnMSEtYW60dC"
      },
      "source": [
        "#Q6. Edit the function q6 such that it goes through the mean values of the attendance percentages of each session and returns a list named `outliers` with the number(s) of the session(s) which is/are outlier(s). If there are no outliers return an empty list."
      ]
    },
    {
      "cell_type": "code",
      "metadata": {
        "id": "OV_97iCj4PJq",
        "colab": {
          "base_uri": "https://localhost:8080/"
        },
        "outputId": "d2a983ba-5c3f-472d-bb1d-5cec1992876d"
      },
      "source": [
        "def q6():\n",
        "  #Write your code here\n",
        "  \n",
        "  arr = []\n",
        "  for sheet in attendance:\n",
        "    arr.append(sheet['Attendance Percentage'].mean())\n",
        "    q1 = np.percentile(arr,25)\n",
        "    q2 = np.percentile(arr,50)\n",
        "    q3 = np.percentile(arr,75)\n",
        "    iqr = q3 - q1\n",
        "    lower_bound = q1 - 1.5 * iqr\n",
        "    upper_bound = q3 + 1.5 * iqr\n",
        "    outliers = []\n",
        "    for i in range(len(arr)):\n",
        "        if arr[i] < lower_bound or arr[i] > upper_bound:\n",
        "            outliers.append(i+1)\n",
        "  return outliers\n",
        "    \n",
        "\n",
        "q6()"
      ],
      "execution_count": 65,
      "outputs": [
        {
          "output_type": "execute_result",
          "data": {
            "text/plain": [
              "[5]"
            ]
          },
          "metadata": {},
          "execution_count": 65
        }
      ]
    },
    {
      "cell_type": "markdown",
      "metadata": {
        "id": "RADBblUEG9vl"
      },
      "source": [
        "#Q7. Edit the function q7 such that it returns a list named `dnos` having the 'Division No' (in the ascending order) of those MPs who are the most consistent in their attendance, as per the conditions listed below.\n",
        "\n",
        "* Consider only those MPs who have attended at least two sessions. \n",
        "* For this example, assume that consistency can be calculated via the standard \n",
        "deviation of their attendance percentages across sessions. The lesser the standard deviation, better consistant the attendace is."
      ]
    },
    {
      "cell_type": "code",
      "metadata": {
        "id": "mkHRkK3XIR5M",
        "colab": {
          "base_uri": "https://localhost:8080/",
          "height": 596
        },
        "outputId": "e7c4c41e-2c0c-4f5d-9210-8a1d0110bbf5"
      },
      "source": [
        "def q7():\n",
        "  # Write your code here\n",
        "  dnos=[]\n",
        "  merge = pd.concat([df1, df2,df3,df4,df5,df6]).groupby(['Division NO', 'Member Name']).sum().reset_index()\n",
        "  new_df = merge[:,merge['No. of days Members signed the Register']>2]\n",
        "  new_df['Std Dev'] = new_df['Attendance Percentage'].std()\n",
        "\n",
        "  \n",
        "  return dnos\n",
        "\n",
        "q7()"
      ],
      "execution_count": 77,
      "outputs": [
        {
          "output_type": "error",
          "ename": "TypeError",
          "evalue": "ignored",
          "traceback": [
            "\u001b[0;31m---------------------------------------------------------------------------\u001b[0m",
            "\u001b[0;31mTypeError\u001b[0m                                 Traceback (most recent call last)",
            "\u001b[0;32m<ipython-input-77-40f07dc4ada1>\u001b[0m in \u001b[0;36m<module>\u001b[0;34m()\u001b[0m\n\u001b[1;32m      9\u001b[0m   \u001b[0;32mreturn\u001b[0m \u001b[0mdnos\u001b[0m\u001b[0;34m\u001b[0m\u001b[0;34m\u001b[0m\u001b[0m\n\u001b[1;32m     10\u001b[0m \u001b[0;34m\u001b[0m\u001b[0m\n\u001b[0;32m---> 11\u001b[0;31m \u001b[0mq7\u001b[0m\u001b[0;34m(\u001b[0m\u001b[0;34m)\u001b[0m\u001b[0;34m\u001b[0m\u001b[0;34m\u001b[0m\u001b[0m\n\u001b[0m",
            "\u001b[0;32m<ipython-input-77-40f07dc4ada1>\u001b[0m in \u001b[0;36mq7\u001b[0;34m()\u001b[0m\n\u001b[1;32m      3\u001b[0m   \u001b[0mdnos\u001b[0m\u001b[0;34m=\u001b[0m\u001b[0;34m[\u001b[0m\u001b[0;34m]\u001b[0m\u001b[0;34m\u001b[0m\u001b[0;34m\u001b[0m\u001b[0m\n\u001b[1;32m      4\u001b[0m   \u001b[0mmerge\u001b[0m \u001b[0;34m=\u001b[0m \u001b[0mpd\u001b[0m\u001b[0;34m.\u001b[0m\u001b[0mconcat\u001b[0m\u001b[0;34m(\u001b[0m\u001b[0;34m[\u001b[0m\u001b[0mdf1\u001b[0m\u001b[0;34m,\u001b[0m \u001b[0mdf2\u001b[0m\u001b[0;34m,\u001b[0m\u001b[0mdf3\u001b[0m\u001b[0;34m,\u001b[0m\u001b[0mdf4\u001b[0m\u001b[0;34m,\u001b[0m\u001b[0mdf5\u001b[0m\u001b[0;34m,\u001b[0m\u001b[0mdf6\u001b[0m\u001b[0;34m]\u001b[0m\u001b[0;34m)\u001b[0m\u001b[0;34m.\u001b[0m\u001b[0mgroupby\u001b[0m\u001b[0;34m(\u001b[0m\u001b[0;34m[\u001b[0m\u001b[0;34m'Division NO'\u001b[0m\u001b[0;34m,\u001b[0m \u001b[0;34m'Member Name'\u001b[0m\u001b[0;34m]\u001b[0m\u001b[0;34m)\u001b[0m\u001b[0;34m.\u001b[0m\u001b[0msum\u001b[0m\u001b[0;34m(\u001b[0m\u001b[0;34m)\u001b[0m\u001b[0;34m.\u001b[0m\u001b[0mreset_index\u001b[0m\u001b[0;34m(\u001b[0m\u001b[0;34m)\u001b[0m\u001b[0;34m\u001b[0m\u001b[0;34m\u001b[0m\u001b[0m\n\u001b[0;32m----> 5\u001b[0;31m   \u001b[0mnew_df\u001b[0m \u001b[0;34m=\u001b[0m \u001b[0mmerge\u001b[0m\u001b[0;34m[\u001b[0m\u001b[0;34m:\u001b[0m\u001b[0;34m,\u001b[0m\u001b[0mmerge\u001b[0m\u001b[0;34m[\u001b[0m\u001b[0;34m'No. of days Members signed the Register'\u001b[0m\u001b[0;34m]\u001b[0m\u001b[0;34m>\u001b[0m\u001b[0;36m2\u001b[0m\u001b[0;34m]\u001b[0m\u001b[0;34m\u001b[0m\u001b[0;34m\u001b[0m\u001b[0m\n\u001b[0m\u001b[1;32m      6\u001b[0m   \u001b[0mnew_df\u001b[0m\u001b[0;34m[\u001b[0m\u001b[0;34m'Std Dev'\u001b[0m\u001b[0;34m]\u001b[0m \u001b[0;34m=\u001b[0m \u001b[0mnew_df\u001b[0m\u001b[0;34m[\u001b[0m\u001b[0;34m'Attendance Percentage'\u001b[0m\u001b[0;34m]\u001b[0m\u001b[0;34m.\u001b[0m\u001b[0mstd\u001b[0m\u001b[0;34m(\u001b[0m\u001b[0;34m)\u001b[0m\u001b[0;34m\u001b[0m\u001b[0;34m\u001b[0m\u001b[0m\n\u001b[1;32m      7\u001b[0m \u001b[0;34m\u001b[0m\u001b[0m\n",
            "\u001b[0;32m/usr/local/lib/python3.7/dist-packages/pandas/core/frame.py\u001b[0m in \u001b[0;36m__getitem__\u001b[0;34m(self, key)\u001b[0m\n\u001b[1;32m   2904\u001b[0m             \u001b[0;32mif\u001b[0m \u001b[0mself\u001b[0m\u001b[0;34m.\u001b[0m\u001b[0mcolumns\u001b[0m\u001b[0;34m.\u001b[0m\u001b[0mnlevels\u001b[0m \u001b[0;34m>\u001b[0m \u001b[0;36m1\u001b[0m\u001b[0;34m:\u001b[0m\u001b[0;34m\u001b[0m\u001b[0;34m\u001b[0m\u001b[0m\n\u001b[1;32m   2905\u001b[0m                 \u001b[0;32mreturn\u001b[0m \u001b[0mself\u001b[0m\u001b[0;34m.\u001b[0m\u001b[0m_getitem_multilevel\u001b[0m\u001b[0;34m(\u001b[0m\u001b[0mkey\u001b[0m\u001b[0;34m)\u001b[0m\u001b[0;34m\u001b[0m\u001b[0;34m\u001b[0m\u001b[0m\n\u001b[0;32m-> 2906\u001b[0;31m             \u001b[0mindexer\u001b[0m \u001b[0;34m=\u001b[0m \u001b[0mself\u001b[0m\u001b[0;34m.\u001b[0m\u001b[0mcolumns\u001b[0m\u001b[0;34m.\u001b[0m\u001b[0mget_loc\u001b[0m\u001b[0;34m(\u001b[0m\u001b[0mkey\u001b[0m\u001b[0;34m)\u001b[0m\u001b[0;34m\u001b[0m\u001b[0;34m\u001b[0m\u001b[0m\n\u001b[0m\u001b[1;32m   2907\u001b[0m             \u001b[0;32mif\u001b[0m \u001b[0mis_integer\u001b[0m\u001b[0;34m(\u001b[0m\u001b[0mindexer\u001b[0m\u001b[0;34m)\u001b[0m\u001b[0;34m:\u001b[0m\u001b[0;34m\u001b[0m\u001b[0;34m\u001b[0m\u001b[0m\n\u001b[1;32m   2908\u001b[0m                 \u001b[0mindexer\u001b[0m \u001b[0;34m=\u001b[0m \u001b[0;34m[\u001b[0m\u001b[0mindexer\u001b[0m\u001b[0;34m]\u001b[0m\u001b[0;34m\u001b[0m\u001b[0;34m\u001b[0m\u001b[0m\n",
            "\u001b[0;32m/usr/local/lib/python3.7/dist-packages/pandas/core/indexes/base.py\u001b[0m in \u001b[0;36mget_loc\u001b[0;34m(self, key, method, tolerance)\u001b[0m\n\u001b[1;32m   2896\u001b[0m             \u001b[0mcasted_key\u001b[0m \u001b[0;34m=\u001b[0m \u001b[0mself\u001b[0m\u001b[0;34m.\u001b[0m\u001b[0m_maybe_cast_indexer\u001b[0m\u001b[0;34m(\u001b[0m\u001b[0mkey\u001b[0m\u001b[0;34m)\u001b[0m\u001b[0;34m\u001b[0m\u001b[0;34m\u001b[0m\u001b[0m\n\u001b[1;32m   2897\u001b[0m             \u001b[0;32mtry\u001b[0m\u001b[0;34m:\u001b[0m\u001b[0;34m\u001b[0m\u001b[0;34m\u001b[0m\u001b[0m\n\u001b[0;32m-> 2898\u001b[0;31m                 \u001b[0;32mreturn\u001b[0m \u001b[0mself\u001b[0m\u001b[0;34m.\u001b[0m\u001b[0m_engine\u001b[0m\u001b[0;34m.\u001b[0m\u001b[0mget_loc\u001b[0m\u001b[0;34m(\u001b[0m\u001b[0mcasted_key\u001b[0m\u001b[0;34m)\u001b[0m\u001b[0;34m\u001b[0m\u001b[0;34m\u001b[0m\u001b[0m\n\u001b[0m\u001b[1;32m   2899\u001b[0m             \u001b[0;32mexcept\u001b[0m \u001b[0mKeyError\u001b[0m \u001b[0;32mas\u001b[0m \u001b[0merr\u001b[0m\u001b[0;34m:\u001b[0m\u001b[0;34m\u001b[0m\u001b[0;34m\u001b[0m\u001b[0m\n\u001b[1;32m   2900\u001b[0m                 \u001b[0;32mraise\u001b[0m \u001b[0mKeyError\u001b[0m\u001b[0;34m(\u001b[0m\u001b[0mkey\u001b[0m\u001b[0;34m)\u001b[0m \u001b[0;32mfrom\u001b[0m \u001b[0merr\u001b[0m\u001b[0;34m\u001b[0m\u001b[0;34m\u001b[0m\u001b[0m\n",
            "\u001b[0;32mpandas/_libs/index.pyx\u001b[0m in \u001b[0;36mpandas._libs.index.IndexEngine.get_loc\u001b[0;34m()\u001b[0m\n",
            "\u001b[0;32mpandas/_libs/index.pyx\u001b[0m in \u001b[0;36mpandas._libs.index.IndexEngine.get_loc\u001b[0;34m()\u001b[0m\n",
            "\u001b[0;31mTypeError\u001b[0m: '(slice(None, None, None), 0      False\n1       True\n2      False\n3       True\n4      False\n       ...  \n528     True\n529     True\n530     True\n531     True\n532     True\nName: No. of days Members signed the Register, Length: 533, dtype: bool)' is an invalid key"
          ]
        }
      ]
    },
    {
      "cell_type": "code",
      "metadata": {
        "colab": {
          "base_uri": "https://localhost:8080/",
          "height": 255
        },
        "id": "DQvf3JgsJeNx",
        "outputId": "96749821-8131-41c0-b8d9-93d5fb7f5752"
      },
      "source": [
        "df1.head()"
      ],
      "execution_count": 63,
      "outputs": [
        {
          "output_type": "execute_result",
          "data": {
            "text/html": [
              "<div>\n",
              "<style scoped>\n",
              "    .dataframe tbody tr th:only-of-type {\n",
              "        vertical-align: middle;\n",
              "    }\n",
              "\n",
              "    .dataframe tbody tr th {\n",
              "        vertical-align: top;\n",
              "    }\n",
              "\n",
              "    .dataframe thead th {\n",
              "        text-align: right;\n",
              "    }\n",
              "</style>\n",
              "<table border=\"1\" class=\"dataframe\">\n",
              "  <thead>\n",
              "    <tr style=\"text-align: right;\">\n",
              "      <th></th>\n",
              "      <th>Division NO</th>\n",
              "      <th>Member Name</th>\n",
              "      <th>No. of days Members signed the Register</th>\n",
              "      <th>No. of days Members not signed the Register</th>\n",
              "      <th>Attendance Percentage</th>\n",
              "    </tr>\n",
              "  </thead>\n",
              "  <tbody>\n",
              "    <tr>\n",
              "      <th>0</th>\n",
              "      <td>3</td>\n",
              "      <td>Shri Amit Shah</td>\n",
              "      <td>1</td>\n",
              "      <td>36</td>\n",
              "      <td>2.702703</td>\n",
              "    </tr>\n",
              "    <tr>\n",
              "      <th>1</th>\n",
              "      <td>5</td>\n",
              "      <td>Shri D.V. Sadananda Gowda</td>\n",
              "      <td>1</td>\n",
              "      <td>36</td>\n",
              "      <td>2.702703</td>\n",
              "    </tr>\n",
              "    <tr>\n",
              "      <th>2</th>\n",
              "      <td>7</td>\n",
              "      <td>Shri Pralhad Joshi</td>\n",
              "      <td>1</td>\n",
              "      <td>36</td>\n",
              "      <td>2.702703</td>\n",
              "    </tr>\n",
              "    <tr>\n",
              "      <th>3</th>\n",
              "      <td>9</td>\n",
              "      <td>Dr. Harsh Vardhan</td>\n",
              "      <td>1</td>\n",
              "      <td>36</td>\n",
              "      <td>2.702703</td>\n",
              "    </tr>\n",
              "    <tr>\n",
              "      <th>4</th>\n",
              "      <td>10</td>\n",
              "      <td>Dr. Mahendra Nath Pandey</td>\n",
              "      <td>1</td>\n",
              "      <td>36</td>\n",
              "      <td>2.702703</td>\n",
              "    </tr>\n",
              "  </tbody>\n",
              "</table>\n",
              "</div>"
            ],
            "text/plain": [
              "   Division NO  ... Attendance Percentage\n",
              "0            3  ...              2.702703\n",
              "1            5  ...              2.702703\n",
              "2            7  ...              2.702703\n",
              "3            9  ...              2.702703\n",
              "4           10  ...              2.702703\n",
              "\n",
              "[5 rows x 5 columns]"
            ]
          },
          "metadata": {},
          "execution_count": 63
        }
      ]
    },
    {
      "cell_type": "code",
      "metadata": {
        "colab": {
          "base_uri": "https://localhost:8080/",
          "height": 334
        },
        "id": "y4WJMhJRMFsK",
        "outputId": "32d6adea-a9a0-455e-9634-11e023bc394a"
      },
      "source": [
        "\n"
      ],
      "execution_count": 70,
      "outputs": [
        {
          "output_type": "error",
          "ename": "KeyError",
          "evalue": "ignored",
          "traceback": [
            "\u001b[0;31m---------------------------------------------------------------------------\u001b[0m",
            "\u001b[0;31mKeyError\u001b[0m                                  Traceback (most recent call last)",
            "\u001b[0;32m<ipython-input-70-928643a6f12c>\u001b[0m in \u001b[0;36m<module>\u001b[0;34m()\u001b[0m\n\u001b[0;32m----> 1\u001b[0;31m \u001b[0mdf2\u001b[0m\u001b[0;34m.\u001b[0m\u001b[0mset_index\u001b[0m\u001b[0;34m(\u001b[0m\u001b[0;34m\"Member Name\"\u001b[0m\u001b[0;34m)\u001b[0m\u001b[0;34m\u001b[0m\u001b[0;34m\u001b[0m\u001b[0m\n\u001b[0m\u001b[1;32m      2\u001b[0m \u001b[0mdf3\u001b[0m\u001b[0;34m.\u001b[0m\u001b[0mset_index\u001b[0m\u001b[0;34m(\u001b[0m\u001b[0;34m\"Member Name\"\u001b[0m\u001b[0;34m)\u001b[0m\u001b[0;34m\u001b[0m\u001b[0;34m\u001b[0m\u001b[0m\n\u001b[1;32m      3\u001b[0m \u001b[0;34m\u001b[0m\u001b[0m\n",
            "\u001b[0;32m/usr/local/lib/python3.7/dist-packages/pandas/core/frame.py\u001b[0m in \u001b[0;36mset_index\u001b[0;34m(self, keys, drop, append, inplace, verify_integrity)\u001b[0m\n\u001b[1;32m   4553\u001b[0m \u001b[0;34m\u001b[0m\u001b[0m\n\u001b[1;32m   4554\u001b[0m         \u001b[0;32mif\u001b[0m \u001b[0mmissing\u001b[0m\u001b[0;34m:\u001b[0m\u001b[0;34m\u001b[0m\u001b[0;34m\u001b[0m\u001b[0m\n\u001b[0;32m-> 4555\u001b[0;31m             \u001b[0;32mraise\u001b[0m \u001b[0mKeyError\u001b[0m\u001b[0;34m(\u001b[0m\u001b[0;34mf\"None of {missing} are in the columns\"\u001b[0m\u001b[0;34m)\u001b[0m\u001b[0;34m\u001b[0m\u001b[0;34m\u001b[0m\u001b[0m\n\u001b[0m\u001b[1;32m   4556\u001b[0m \u001b[0;34m\u001b[0m\u001b[0m\n\u001b[1;32m   4557\u001b[0m         \u001b[0;32mif\u001b[0m \u001b[0minplace\u001b[0m\u001b[0;34m:\u001b[0m\u001b[0;34m\u001b[0m\u001b[0;34m\u001b[0m\u001b[0m\n",
            "\u001b[0;31mKeyError\u001b[0m: \"None of ['Member Name'] are in the columns\""
          ]
        }
      ]
    },
    {
      "cell_type": "code",
      "metadata": {
        "colab": {
          "base_uri": "https://localhost:8080/",
          "height": 504
        },
        "id": "FC7CbEkpNYED",
        "outputId": "71c1d664-0564-4f04-fa5f-718dc04a7e07"
      },
      "source": [
        "merge = pd.concat([df1, df2,df3,df4,df5,df6]).groupby(['Division NO', 'Member Name']).sum().reset_index()\n",
        "merge"
      ],
      "execution_count": 79,
      "outputs": [
        {
          "output_type": "execute_result",
          "data": {
            "text/html": [
              "<div>\n",
              "<style scoped>\n",
              "    .dataframe tbody tr th:only-of-type {\n",
              "        vertical-align: middle;\n",
              "    }\n",
              "\n",
              "    .dataframe tbody tr th {\n",
              "        vertical-align: top;\n",
              "    }\n",
              "\n",
              "    .dataframe thead th {\n",
              "        text-align: right;\n",
              "    }\n",
              "</style>\n",
              "<table border=\"1\" class=\"dataframe\">\n",
              "  <thead>\n",
              "    <tr style=\"text-align: right;\">\n",
              "      <th></th>\n",
              "      <th>Division NO</th>\n",
              "      <th>Member Name</th>\n",
              "      <th>No. of days Members signed the Register</th>\n",
              "      <th>No. of days Members not signed the Register</th>\n",
              "      <th>Attendance Percentage</th>\n",
              "    </tr>\n",
              "  </thead>\n",
              "  <tbody>\n",
              "    <tr>\n",
              "      <th>0</th>\n",
              "      <td>3</td>\n",
              "      <td>Shri Amit Shah</td>\n",
              "      <td>1</td>\n",
              "      <td>36</td>\n",
              "      <td>2.702703</td>\n",
              "    </tr>\n",
              "    <tr>\n",
              "      <th>1</th>\n",
              "      <td>5</td>\n",
              "      <td>Shri D.V. Sadananda Gowda</td>\n",
              "      <td>14</td>\n",
              "      <td>36</td>\n",
              "      <td>102.702703</td>\n",
              "    </tr>\n",
              "    <tr>\n",
              "      <th>2</th>\n",
              "      <td>7</td>\n",
              "      <td>Shri Pralhad Joshi</td>\n",
              "      <td>1</td>\n",
              "      <td>36</td>\n",
              "      <td>2.702703</td>\n",
              "    </tr>\n",
              "    <tr>\n",
              "      <th>3</th>\n",
              "      <td>9</td>\n",
              "      <td>Dr. Harsh Vardhan</td>\n",
              "      <td>14</td>\n",
              "      <td>36</td>\n",
              "      <td>102.702703</td>\n",
              "    </tr>\n",
              "    <tr>\n",
              "      <th>4</th>\n",
              "      <td>10</td>\n",
              "      <td>Dr. Mahendra Nath Pandey</td>\n",
              "      <td>1</td>\n",
              "      <td>36</td>\n",
              "      <td>2.702703</td>\n",
              "    </tr>\n",
              "    <tr>\n",
              "      <th>...</th>\n",
              "      <td>...</td>\n",
              "      <td>...</td>\n",
              "      <td>...</td>\n",
              "      <td>...</td>\n",
              "      <td>...</td>\n",
              "    </tr>\n",
              "    <tr>\n",
              "      <th>528</th>\n",
              "      <td>552</td>\n",
              "      <td>Shri Ramchandra Paswan</td>\n",
              "      <td>19</td>\n",
              "      <td>8</td>\n",
              "      <td>70.370370</td>\n",
              "    </tr>\n",
              "    <tr>\n",
              "      <th>529</th>\n",
              "      <td>552</td>\n",
              "      <td>Shri Vijaykumar alias Vijay Vasanth</td>\n",
              "      <td>12</td>\n",
              "      <td>1</td>\n",
              "      <td>92.307692</td>\n",
              "    </tr>\n",
              "    <tr>\n",
              "      <th>530</th>\n",
              "      <td>553</td>\n",
              "      <td>Smt. Mangal Suresh Angadi</td>\n",
              "      <td>11</td>\n",
              "      <td>2</td>\n",
              "      <td>84.615385</td>\n",
              "    </tr>\n",
              "    <tr>\n",
              "      <th>531</th>\n",
              "      <td>554</td>\n",
              "      <td>Shri M. P. Abdussamad Samadani</td>\n",
              "      <td>13</td>\n",
              "      <td>0</td>\n",
              "      <td>100.000000</td>\n",
              "    </tr>\n",
              "    <tr>\n",
              "      <th>532</th>\n",
              "      <td>555</td>\n",
              "      <td>Shri M. Gurumoorthy</td>\n",
              "      <td>13</td>\n",
              "      <td>0</td>\n",
              "      <td>100.000000</td>\n",
              "    </tr>\n",
              "  </tbody>\n",
              "</table>\n",
              "<p>533 rows × 5 columns</p>\n",
              "</div>"
            ],
            "text/plain": [
              "     Division NO  ... Attendance Percentage\n",
              "0              3  ...              2.702703\n",
              "1              5  ...            102.702703\n",
              "2              7  ...              2.702703\n",
              "3              9  ...            102.702703\n",
              "4             10  ...              2.702703\n",
              "..           ...  ...                   ...\n",
              "528          552  ...             70.370370\n",
              "529          552  ...             92.307692\n",
              "530          553  ...             84.615385\n",
              "531          554  ...            100.000000\n",
              "532          555  ...            100.000000\n",
              "\n",
              "[533 rows x 5 columns]"
            ]
          },
          "metadata": {},
          "execution_count": 79
        }
      ]
    },
    {
      "cell_type": "code",
      "metadata": {
        "id": "ff5Q2oI0OWJW"
      },
      "source": [
        ""
      ],
      "execution_count": null,
      "outputs": []
    }
  ]
}