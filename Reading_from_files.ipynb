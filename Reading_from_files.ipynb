{
  "nbformat": 4,
  "nbformat_minor": 0,
  "metadata": {
    "colab": {
      "name": "Reading from files.ipynb",
      "provenance": [],
      "authorship_tag": "ABX9TyOACD/uoyqzQphPEqdinwGq",
      "include_colab_link": true
    },
    "kernelspec": {
      "name": "python3",
      "display_name": "Python 3"
    },
    "language_info": {
      "name": "python"
    }
  },
  "cells": [
    {
      "cell_type": "markdown",
      "metadata": {
        "id": "view-in-github",
        "colab_type": "text"
      },
      "source": [
        "<a href=\"https://colab.research.google.com/github/darshan-jain/19CSE304/blob/main/Reading_from_files.ipynb\" target=\"_parent\"><img src=\"https://colab.research.google.com/assets/colab-badge.svg\" alt=\"Open In Colab\"/></a>"
      ]
    },
    {
      "cell_type": "code",
      "metadata": {
        "colab": {
          "base_uri": "https://localhost:8080/"
        },
        "id": "KoVrvykUgRGu",
        "outputId": "454f74b1-5f7d-42ce-80f5-b024e6fc6671"
      },
      "source": [
        "ls"
      ],
      "execution_count": 1,
      "outputs": [
        {
          "output_type": "stream",
          "text": [
            "\u001b[0m\u001b[01;34mdata\u001b[0m/  \u001b[01;34msample_data\u001b[0m/\n"
          ],
          "name": "stdout"
        }
      ]
    },
    {
      "cell_type": "code",
      "metadata": {
        "colab": {
          "base_uri": "https://localhost:8080/"
        },
        "id": "s1zI9PuthCRh",
        "outputId": "a9607a85-46c1-4cb8-e999-bc6bfa587369"
      },
      "source": [
        "cd .."
      ],
      "execution_count": 2,
      "outputs": [
        {
          "output_type": "stream",
          "text": [
            "/\n"
          ],
          "name": "stdout"
        }
      ]
    },
    {
      "cell_type": "code",
      "metadata": {
        "colab": {
          "base_uri": "https://localhost:8080/"
        },
        "id": "4Wg3HLWDhGGD",
        "outputId": "7b34c16e-138e-4696-989b-6e44efab481c"
      },
      "source": [
        "ls\n"
      ],
      "execution_count": 5,
      "outputs": [
        {
          "output_type": "stream",
          "text": [
            "\u001b[0m\u001b[01;34mbin\u001b[0m/      \u001b[01;34mdatalab\u001b[0m/  \u001b[01;34mhome\u001b[0m/   \u001b[01;34mlib64\u001b[0m/  \u001b[01;34mopt\u001b[0m/   \u001b[01;34mrun\u001b[0m/   \u001b[01;34msys\u001b[0m/                \u001b[01;34mtools\u001b[0m/\n",
            "\u001b[01;34mboot\u001b[0m/     \u001b[01;34mdev\u001b[0m/      \u001b[01;34mlib\u001b[0m/    \u001b[01;34mmedia\u001b[0m/  \u001b[01;34mproc\u001b[0m/  \u001b[01;34msbin\u001b[0m/  \u001b[01;34mtensorflow-1.15.2\u001b[0m/  \u001b[01;34musr\u001b[0m/\n",
            "\u001b[01;34mcontent\u001b[0m/  \u001b[01;34metc\u001b[0m/      \u001b[01;34mlib32\u001b[0m/  \u001b[01;34mmnt\u001b[0m/    \u001b[01;34mroot\u001b[0m/  \u001b[01;34msrv\u001b[0m/   \u001b[30;42mtmp\u001b[0m/                \u001b[01;34mvar\u001b[0m/\n"
          ],
          "name": "stdout"
        }
      ]
    },
    {
      "cell_type": "code",
      "metadata": {
        "colab": {
          "base_uri": "https://localhost:8080/"
        },
        "id": "qcXnaetFhHxo",
        "outputId": "b9f00ac6-b220-40f2-8144-334dbc8beb4e"
      },
      "source": [
        "cd tmp/"
      ],
      "execution_count": 6,
      "outputs": [
        {
          "output_type": "stream",
          "text": [
            "/tmp\n"
          ],
          "name": "stdout"
        }
      ]
    },
    {
      "cell_type": "code",
      "metadata": {
        "colab": {
          "base_uri": "https://localhost:8080/"
        },
        "id": "sBpZ7jRahS91",
        "outputId": "f2c78499-4b41-4996-93da-5b64386c1b8b"
      },
      "source": [
        "ls\n"
      ],
      "execution_count": 7,
      "outputs": [
        {
          "output_type": "stream",
          "text": [
            "dap_multiplexer.06c392354d48.root.log.INFO.20210719-064351.50\n",
            "\u001b[0m\u001b[01;36mdap_multiplexer.INFO\u001b[0m@\n",
            "\u001b[01;35mdebugger_2ayjw4is1l\u001b[0m=\n",
            "\u001b[01;34minitgoogle_syslog_dir.0\u001b[0m/\n"
          ],
          "name": "stdout"
        }
      ]
    },
    {
      "cell_type": "code",
      "metadata": {
        "colab": {
          "base_uri": "https://localhost:8080/"
        },
        "id": "yGGM2o6fhTvM",
        "outputId": "c53b0837-1cff-47a5-f83b-93d1dee0e845"
      },
      "source": [
        "cd .."
      ],
      "execution_count": 8,
      "outputs": [
        {
          "output_type": "stream",
          "text": [
            "/\n"
          ],
          "name": "stdout"
        }
      ]
    },
    {
      "cell_type": "code",
      "metadata": {
        "colab": {
          "base_uri": "https://localhost:8080/"
        },
        "id": "ApOIcg58hUqo",
        "outputId": "1caeb546-edb6-4924-d436-780ca1c76866"
      },
      "source": [
        "cd data"
      ],
      "execution_count": 9,
      "outputs": [
        {
          "output_type": "stream",
          "text": [
            "[Errno 2] No such file or directory: 'data'\n",
            "/\n"
          ],
          "name": "stdout"
        }
      ]
    },
    {
      "cell_type": "code",
      "metadata": {
        "id": "pDh0JdFphXnY"
      },
      "source": [
        "import pandas as pd"
      ],
      "execution_count": 10,
      "outputs": []
    },
    {
      "cell_type": "code",
      "metadata": {
        "colab": {
          "base_uri": "https://localhost:8080/"
        },
        "id": "EN5KAcTKha-N",
        "outputId": "cd668e9c-145b-45a9-a92d-ee7394820639"
      },
      "source": [
        "cd content"
      ],
      "execution_count": 11,
      "outputs": [
        {
          "output_type": "stream",
          "text": [
            "/content\n"
          ],
          "name": "stdout"
        }
      ]
    },
    {
      "cell_type": "code",
      "metadata": {
        "colab": {
          "base_uri": "https://localhost:8080/"
        },
        "id": "13jfChr1hewc",
        "outputId": "ca8e53b9-e61c-4277-b7be-210c7268fc0b"
      },
      "source": [
        "cd data"
      ],
      "execution_count": 12,
      "outputs": [
        {
          "output_type": "stream",
          "text": [
            "/content/data\n"
          ],
          "name": "stdout"
        }
      ]
    },
    {
      "cell_type": "code",
      "metadata": {
        "id": "o0u7cSevhfq-"
      },
      "source": [
        "df1 = pd.read_csv(\"CSV_EX_1.csv\")"
      ],
      "execution_count": 13,
      "outputs": []
    },
    {
      "cell_type": "code",
      "metadata": {
        "colab": {
          "base_uri": "https://localhost:8080/",
          "height": 204
        },
        "id": "1Bx7yYHhhmpo",
        "outputId": "64b8a4a2-cc8c-4eb0-a044-7e14d8a266f4"
      },
      "source": [
        "df1"
      ],
      "execution_count": 14,
      "outputs": [
        {
          "output_type": "execute_result",
          "data": {
            "text/html": [
              "<div>\n",
              "<style scoped>\n",
              "    .dataframe tbody tr th:only-of-type {\n",
              "        vertical-align: middle;\n",
              "    }\n",
              "\n",
              "    .dataframe tbody tr th {\n",
              "        vertical-align: top;\n",
              "    }\n",
              "\n",
              "    .dataframe thead th {\n",
              "        text-align: right;\n",
              "    }\n",
              "</style>\n",
              "<table border=\"1\" class=\"dataframe\">\n",
              "  <thead>\n",
              "    <tr style=\"text-align: right;\">\n",
              "      <th></th>\n",
              "      <th>Bedroom</th>\n",
              "      <th>Sq. foot</th>\n",
              "      <th>Locality</th>\n",
              "      <th>Price ($)</th>\n",
              "    </tr>\n",
              "  </thead>\n",
              "  <tbody>\n",
              "    <tr>\n",
              "      <th>0</th>\n",
              "      <td>2</td>\n",
              "      <td>1500</td>\n",
              "      <td>Good</td>\n",
              "      <td>300000</td>\n",
              "    </tr>\n",
              "    <tr>\n",
              "      <th>1</th>\n",
              "      <td>3</td>\n",
              "      <td>1300</td>\n",
              "      <td>Fair</td>\n",
              "      <td>240000</td>\n",
              "    </tr>\n",
              "    <tr>\n",
              "      <th>2</th>\n",
              "      <td>3</td>\n",
              "      <td>1900</td>\n",
              "      <td>Very good</td>\n",
              "      <td>450000</td>\n",
              "    </tr>\n",
              "    <tr>\n",
              "      <th>3</th>\n",
              "      <td>3</td>\n",
              "      <td>1850</td>\n",
              "      <td>Bad</td>\n",
              "      <td>280000</td>\n",
              "    </tr>\n",
              "    <tr>\n",
              "      <th>4</th>\n",
              "      <td>2</td>\n",
              "      <td>1640</td>\n",
              "      <td>Good</td>\n",
              "      <td>310000</td>\n",
              "    </tr>\n",
              "  </tbody>\n",
              "</table>\n",
              "</div>"
            ],
            "text/plain": [
              "   Bedroom   Sq. foot    Locality   Price ($)\n",
              "0        2       1500        Good      300000\n",
              "1        3       1300        Fair      240000\n",
              "2        3       1900   Very good      450000\n",
              "3        3       1850         Bad      280000\n",
              "4        2       1640        Good      310000"
            ]
          },
          "metadata": {
            "tags": []
          },
          "execution_count": 14
        }
      ]
    },
    {
      "cell_type": "code",
      "metadata": {
        "id": "sUxbsQvwhn62"
      },
      "source": [
        "df2 = pd.read_csv(\"CSV_EX_2.csv\",header=None)"
      ],
      "execution_count": 19,
      "outputs": []
    },
    {
      "cell_type": "code",
      "metadata": {
        "colab": {
          "base_uri": "https://localhost:8080/",
          "height": 204
        },
        "id": "PzVnTuxsiFmN",
        "outputId": "fdc1b17b-ad44-49fe-83ff-06d42d05925a"
      },
      "source": [
        "df2"
      ],
      "execution_count": 20,
      "outputs": [
        {
          "output_type": "execute_result",
          "data": {
            "text/html": [
              "<div>\n",
              "<style scoped>\n",
              "    .dataframe tbody tr th:only-of-type {\n",
              "        vertical-align: middle;\n",
              "    }\n",
              "\n",
              "    .dataframe tbody tr th {\n",
              "        vertical-align: top;\n",
              "    }\n",
              "\n",
              "    .dataframe thead th {\n",
              "        text-align: right;\n",
              "    }\n",
              "</style>\n",
              "<table border=\"1\" class=\"dataframe\">\n",
              "  <thead>\n",
              "    <tr style=\"text-align: right;\">\n",
              "      <th></th>\n",
              "      <th>0</th>\n",
              "      <th>1</th>\n",
              "      <th>2</th>\n",
              "      <th>3</th>\n",
              "    </tr>\n",
              "  </thead>\n",
              "  <tbody>\n",
              "    <tr>\n",
              "      <th>0</th>\n",
              "      <td>2</td>\n",
              "      <td>1500</td>\n",
              "      <td>Good</td>\n",
              "      <td>300000</td>\n",
              "    </tr>\n",
              "    <tr>\n",
              "      <th>1</th>\n",
              "      <td>3</td>\n",
              "      <td>1300</td>\n",
              "      <td>Fair</td>\n",
              "      <td>240000</td>\n",
              "    </tr>\n",
              "    <tr>\n",
              "      <th>2</th>\n",
              "      <td>3</td>\n",
              "      <td>1900</td>\n",
              "      <td>Very good</td>\n",
              "      <td>450000</td>\n",
              "    </tr>\n",
              "    <tr>\n",
              "      <th>3</th>\n",
              "      <td>3</td>\n",
              "      <td>1850</td>\n",
              "      <td>Bad</td>\n",
              "      <td>280000</td>\n",
              "    </tr>\n",
              "    <tr>\n",
              "      <th>4</th>\n",
              "      <td>2</td>\n",
              "      <td>1640</td>\n",
              "      <td>Good</td>\n",
              "      <td>310000</td>\n",
              "    </tr>\n",
              "  </tbody>\n",
              "</table>\n",
              "</div>"
            ],
            "text/plain": [
              "   0     1           2       3\n",
              "0  2  1500        Good  300000\n",
              "1  3  1300        Fair  240000\n",
              "2  3  1900   Very good  450000\n",
              "3  3  1850         Bad  280000\n",
              "4  2  1640        Good  310000"
            ]
          },
          "metadata": {
            "tags": []
          },
          "execution_count": 20
        }
      ]
    },
    {
      "cell_type": "code",
      "metadata": {
        "id": "wHGE80riiQv5"
      },
      "source": [
        "df2 = pd.read_csv(\"CSV_EX_2.csv\",header=None,names=['Bedroom','Sq.foot','Locality','Price'])"
      ],
      "execution_count": 21,
      "outputs": []
    },
    {
      "cell_type": "code",
      "metadata": {
        "colab": {
          "base_uri": "https://localhost:8080/",
          "height": 204
        },
        "id": "tuyUaxOPjo3Y",
        "outputId": "c895b0d8-8efb-417b-aef6-a010f987faed"
      },
      "source": [
        "df2"
      ],
      "execution_count": 22,
      "outputs": [
        {
          "output_type": "execute_result",
          "data": {
            "text/html": [
              "<div>\n",
              "<style scoped>\n",
              "    .dataframe tbody tr th:only-of-type {\n",
              "        vertical-align: middle;\n",
              "    }\n",
              "\n",
              "    .dataframe tbody tr th {\n",
              "        vertical-align: top;\n",
              "    }\n",
              "\n",
              "    .dataframe thead th {\n",
              "        text-align: right;\n",
              "    }\n",
              "</style>\n",
              "<table border=\"1\" class=\"dataframe\">\n",
              "  <thead>\n",
              "    <tr style=\"text-align: right;\">\n",
              "      <th></th>\n",
              "      <th>Bedroom</th>\n",
              "      <th>Sq.foot</th>\n",
              "      <th>Locality</th>\n",
              "      <th>Price</th>\n",
              "    </tr>\n",
              "  </thead>\n",
              "  <tbody>\n",
              "    <tr>\n",
              "      <th>0</th>\n",
              "      <td>2</td>\n",
              "      <td>1500</td>\n",
              "      <td>Good</td>\n",
              "      <td>300000</td>\n",
              "    </tr>\n",
              "    <tr>\n",
              "      <th>1</th>\n",
              "      <td>3</td>\n",
              "      <td>1300</td>\n",
              "      <td>Fair</td>\n",
              "      <td>240000</td>\n",
              "    </tr>\n",
              "    <tr>\n",
              "      <th>2</th>\n",
              "      <td>3</td>\n",
              "      <td>1900</td>\n",
              "      <td>Very good</td>\n",
              "      <td>450000</td>\n",
              "    </tr>\n",
              "    <tr>\n",
              "      <th>3</th>\n",
              "      <td>3</td>\n",
              "      <td>1850</td>\n",
              "      <td>Bad</td>\n",
              "      <td>280000</td>\n",
              "    </tr>\n",
              "    <tr>\n",
              "      <th>4</th>\n",
              "      <td>2</td>\n",
              "      <td>1640</td>\n",
              "      <td>Good</td>\n",
              "      <td>310000</td>\n",
              "    </tr>\n",
              "  </tbody>\n",
              "</table>\n",
              "</div>"
            ],
            "text/plain": [
              "   Bedroom  Sq.foot    Locality   Price\n",
              "0        2     1500        Good  300000\n",
              "1        3     1300        Fair  240000\n",
              "2        3     1900   Very good  450000\n",
              "3        3     1850         Bad  280000\n",
              "4        2     1640        Good  310000"
            ]
          },
          "metadata": {
            "tags": []
          },
          "execution_count": 22
        }
      ]
    },
    {
      "cell_type": "code",
      "metadata": {
        "colab": {
          "base_uri": "https://localhost:8080/"
        },
        "id": "001BfBLEjpmP",
        "outputId": "2dbb6871-07c2-4dde-e30e-f877fce4cd92"
      },
      "source": [
        "df2.columns"
      ],
      "execution_count": 23,
      "outputs": [
        {
          "output_type": "execute_result",
          "data": {
            "text/plain": [
              "Index(['Bedroom', 'Sq.foot', 'Locality', 'Price'], dtype='object')"
            ]
          },
          "metadata": {
            "tags": []
          },
          "execution_count": 23
        }
      ]
    },
    {
      "cell_type": "code",
      "metadata": {
        "colab": {
          "base_uri": "https://localhost:8080/"
        },
        "id": "WG_KGDtSjtVA",
        "outputId": "887c66d1-cc3d-43e8-a9ff-29cf136db798"
      },
      "source": [
        "cat ./CSV_EX_3.csv"
      ],
      "execution_count": 25,
      "outputs": [
        {
          "output_type": "stream",
          "text": [
            "Bedroom; Sq. foot; Locality; Price ($)\n",
            "2; 1500; Good; 300000\n",
            "3; 1300; Fair; 240000\n",
            "3; 1900; Very good; 450000\n",
            "3; 1850; Bad; 280000\n",
            "2; 1640; Good; 310000"
          ],
          "name": "stdout"
        }
      ]
    },
    {
      "cell_type": "code",
      "metadata": {
        "id": "1qCKohxCkFoH"
      },
      "source": [
        "df3 = pd.read_csv(\"CSV_EX_3.csv\")"
      ],
      "execution_count": 26,
      "outputs": []
    },
    {
      "cell_type": "code",
      "metadata": {
        "colab": {
          "base_uri": "https://localhost:8080/",
          "height": 204
        },
        "id": "in-BIi_4kT48",
        "outputId": "8246fd93-d6a1-43cc-a7c0-6a205c180081"
      },
      "source": [
        "df3 #all rows are considered as one "
      ],
      "execution_count": 27,
      "outputs": [
        {
          "output_type": "execute_result",
          "data": {
            "text/html": [
              "<div>\n",
              "<style scoped>\n",
              "    .dataframe tbody tr th:only-of-type {\n",
              "        vertical-align: middle;\n",
              "    }\n",
              "\n",
              "    .dataframe tbody tr th {\n",
              "        vertical-align: top;\n",
              "    }\n",
              "\n",
              "    .dataframe thead th {\n",
              "        text-align: right;\n",
              "    }\n",
              "</style>\n",
              "<table border=\"1\" class=\"dataframe\">\n",
              "  <thead>\n",
              "    <tr style=\"text-align: right;\">\n",
              "      <th></th>\n",
              "      <th>Bedroom; Sq. foot; Locality; Price ($)</th>\n",
              "    </tr>\n",
              "  </thead>\n",
              "  <tbody>\n",
              "    <tr>\n",
              "      <th>0</th>\n",
              "      <td>2; 1500; Good; 300000</td>\n",
              "    </tr>\n",
              "    <tr>\n",
              "      <th>1</th>\n",
              "      <td>3; 1300; Fair; 240000</td>\n",
              "    </tr>\n",
              "    <tr>\n",
              "      <th>2</th>\n",
              "      <td>3; 1900; Very good; 450000</td>\n",
              "    </tr>\n",
              "    <tr>\n",
              "      <th>3</th>\n",
              "      <td>3; 1850; Bad; 280000</td>\n",
              "    </tr>\n",
              "    <tr>\n",
              "      <th>4</th>\n",
              "      <td>2; 1640; Good; 310000</td>\n",
              "    </tr>\n",
              "  </tbody>\n",
              "</table>\n",
              "</div>"
            ],
            "text/plain": [
              "  Bedroom; Sq. foot; Locality; Price ($)\n",
              "0                  2; 1500; Good; 300000\n",
              "1                  3; 1300; Fair; 240000\n",
              "2             3; 1900; Very good; 450000\n",
              "3                   3; 1850; Bad; 280000\n",
              "4                  2; 1640; Good; 310000"
            ]
          },
          "metadata": {
            "tags": []
          },
          "execution_count": 27
        }
      ]
    },
    {
      "cell_type": "code",
      "metadata": {
        "id": "qaiKeHQXkWmp"
      },
      "source": [
        "df3 = pd.read_csv(\"CSV_EX_3.csv\",sep=';')"
      ],
      "execution_count": 28,
      "outputs": []
    },
    {
      "cell_type": "code",
      "metadata": {
        "colab": {
          "base_uri": "https://localhost:8080/",
          "height": 204
        },
        "id": "9bLkyeeykjOD",
        "outputId": "7633a74a-d942-48b1-ca63-ddb09228d97f"
      },
      "source": [
        "df3"
      ],
      "execution_count": 29,
      "outputs": [
        {
          "output_type": "execute_result",
          "data": {
            "text/html": [
              "<div>\n",
              "<style scoped>\n",
              "    .dataframe tbody tr th:only-of-type {\n",
              "        vertical-align: middle;\n",
              "    }\n",
              "\n",
              "    .dataframe tbody tr th {\n",
              "        vertical-align: top;\n",
              "    }\n",
              "\n",
              "    .dataframe thead th {\n",
              "        text-align: right;\n",
              "    }\n",
              "</style>\n",
              "<table border=\"1\" class=\"dataframe\">\n",
              "  <thead>\n",
              "    <tr style=\"text-align: right;\">\n",
              "      <th></th>\n",
              "      <th>Bedroom</th>\n",
              "      <th>Sq. foot</th>\n",
              "      <th>Locality</th>\n",
              "      <th>Price ($)</th>\n",
              "    </tr>\n",
              "  </thead>\n",
              "  <tbody>\n",
              "    <tr>\n",
              "      <th>0</th>\n",
              "      <td>2</td>\n",
              "      <td>1500</td>\n",
              "      <td>Good</td>\n",
              "      <td>300000</td>\n",
              "    </tr>\n",
              "    <tr>\n",
              "      <th>1</th>\n",
              "      <td>3</td>\n",
              "      <td>1300</td>\n",
              "      <td>Fair</td>\n",
              "      <td>240000</td>\n",
              "    </tr>\n",
              "    <tr>\n",
              "      <th>2</th>\n",
              "      <td>3</td>\n",
              "      <td>1900</td>\n",
              "      <td>Very good</td>\n",
              "      <td>450000</td>\n",
              "    </tr>\n",
              "    <tr>\n",
              "      <th>3</th>\n",
              "      <td>3</td>\n",
              "      <td>1850</td>\n",
              "      <td>Bad</td>\n",
              "      <td>280000</td>\n",
              "    </tr>\n",
              "    <tr>\n",
              "      <th>4</th>\n",
              "      <td>2</td>\n",
              "      <td>1640</td>\n",
              "      <td>Good</td>\n",
              "      <td>310000</td>\n",
              "    </tr>\n",
              "  </tbody>\n",
              "</table>\n",
              "</div>"
            ],
            "text/plain": [
              "   Bedroom   Sq. foot    Locality   Price ($)\n",
              "0        2       1500        Good      300000\n",
              "1        3       1300        Fair      240000\n",
              "2        3       1900   Very good      450000\n",
              "3        3       1850         Bad      280000\n",
              "4        2       1640        Good      310000"
            ]
          },
          "metadata": {
            "tags": []
          },
          "execution_count": 29
        }
      ]
    },
    {
      "cell_type": "code",
      "metadata": {
        "id": "6Y5_mNQFkj5A"
      },
      "source": [
        "df5 = pd.read_csv(\"CSV_EX_skiprows.csv\")"
      ],
      "execution_count": 30,
      "outputs": []
    },
    {
      "cell_type": "code",
      "metadata": {
        "colab": {
          "base_uri": "https://localhost:8080/",
          "height": 266
        },
        "id": "f90jCLg9k88f",
        "outputId": "69274c3b-1f84-4c87-d804-72e99e962e2e"
      },
      "source": [
        "df5"
      ],
      "execution_count": 31,
      "outputs": [
        {
          "output_type": "execute_result",
          "data": {
            "text/html": [
              "<div>\n",
              "<style scoped>\n",
              "    .dataframe tbody tr th:only-of-type {\n",
              "        vertical-align: middle;\n",
              "    }\n",
              "\n",
              "    .dataframe tbody tr th {\n",
              "        vertical-align: top;\n",
              "    }\n",
              "\n",
              "    .dataframe thead th {\n",
              "        text-align: right;\n",
              "    }\n",
              "</style>\n",
              "<table border=\"1\" class=\"dataframe\">\n",
              "  <thead>\n",
              "    <tr style=\"text-align: right;\">\n",
              "      <th></th>\n",
              "      <th>Filetype: CSV</th>\n",
              "      <th>Unnamed: 1</th>\n",
              "      <th>Unnamed: 2</th>\n",
              "      <th>Unnamed: 3</th>\n",
              "    </tr>\n",
              "  </thead>\n",
              "  <tbody>\n",
              "    <tr>\n",
              "      <th>0</th>\n",
              "      <td>NaN</td>\n",
              "      <td>Info about some houses</td>\n",
              "      <td>NaN</td>\n",
              "      <td>NaN</td>\n",
              "    </tr>\n",
              "    <tr>\n",
              "      <th>1</th>\n",
              "      <td>Bedroom</td>\n",
              "      <td>Sq. foot</td>\n",
              "      <td>Locality</td>\n",
              "      <td>Price ($)</td>\n",
              "    </tr>\n",
              "    <tr>\n",
              "      <th>2</th>\n",
              "      <td>2</td>\n",
              "      <td>1500</td>\n",
              "      <td>Good</td>\n",
              "      <td>300000</td>\n",
              "    </tr>\n",
              "    <tr>\n",
              "      <th>3</th>\n",
              "      <td>3</td>\n",
              "      <td>1300</td>\n",
              "      <td>Fair</td>\n",
              "      <td>240000</td>\n",
              "    </tr>\n",
              "    <tr>\n",
              "      <th>4</th>\n",
              "      <td>3</td>\n",
              "      <td>1900</td>\n",
              "      <td>Very good</td>\n",
              "      <td>450000</td>\n",
              "    </tr>\n",
              "    <tr>\n",
              "      <th>5</th>\n",
              "      <td>3</td>\n",
              "      <td>1850</td>\n",
              "      <td>Bad</td>\n",
              "      <td>280000</td>\n",
              "    </tr>\n",
              "    <tr>\n",
              "      <th>6</th>\n",
              "      <td>2</td>\n",
              "      <td>1640</td>\n",
              "      <td>Good</td>\n",
              "      <td>310000</td>\n",
              "    </tr>\n",
              "  </tbody>\n",
              "</table>\n",
              "</div>"
            ],
            "text/plain": [
              "  Filetype: CSV              Unnamed: 1  Unnamed: 2  Unnamed: 3\n",
              "0           NaN  Info about some houses         NaN         NaN\n",
              "1       Bedroom                Sq. foot    Locality   Price ($)\n",
              "2             2                    1500        Good      300000\n",
              "3             3                    1300        Fair      240000\n",
              "4             3                    1900   Very good      450000\n",
              "5             3                    1850         Bad      280000\n",
              "6             2                    1640        Good      310000"
            ]
          },
          "metadata": {
            "tags": []
          },
          "execution_count": 31
        }
      ]
    },
    {
      "cell_type": "code",
      "metadata": {
        "id": "k4zkDnEck9u4"
      },
      "source": [
        "df5 = pd.read_csv(\"CSV_EX_skiprows.csv\",skiprows=1)"
      ],
      "execution_count": 34,
      "outputs": []
    },
    {
      "cell_type": "code",
      "metadata": {
        "colab": {
          "base_uri": "https://localhost:8080/",
          "height": 235
        },
        "id": "Emy1yoqwlNWU",
        "outputId": "25482946-e23e-4771-a1bb-310d2aaf4aad"
      },
      "source": [
        "df5"
      ],
      "execution_count": 35,
      "outputs": [
        {
          "output_type": "execute_result",
          "data": {
            "text/html": [
              "<div>\n",
              "<style scoped>\n",
              "    .dataframe tbody tr th:only-of-type {\n",
              "        vertical-align: middle;\n",
              "    }\n",
              "\n",
              "    .dataframe tbody tr th {\n",
              "        vertical-align: top;\n",
              "    }\n",
              "\n",
              "    .dataframe thead th {\n",
              "        text-align: right;\n",
              "    }\n",
              "</style>\n",
              "<table border=\"1\" class=\"dataframe\">\n",
              "  <thead>\n",
              "    <tr style=\"text-align: right;\">\n",
              "      <th></th>\n",
              "      <th>Unnamed: 0</th>\n",
              "      <th>Info about some houses</th>\n",
              "      <th>Unnamed: 2</th>\n",
              "      <th>Unnamed: 3</th>\n",
              "    </tr>\n",
              "  </thead>\n",
              "  <tbody>\n",
              "    <tr>\n",
              "      <th>0</th>\n",
              "      <td>Bedroom</td>\n",
              "      <td>Sq. foot</td>\n",
              "      <td>Locality</td>\n",
              "      <td>Price ($)</td>\n",
              "    </tr>\n",
              "    <tr>\n",
              "      <th>1</th>\n",
              "      <td>2</td>\n",
              "      <td>1500</td>\n",
              "      <td>Good</td>\n",
              "      <td>300000</td>\n",
              "    </tr>\n",
              "    <tr>\n",
              "      <th>2</th>\n",
              "      <td>3</td>\n",
              "      <td>1300</td>\n",
              "      <td>Fair</td>\n",
              "      <td>240000</td>\n",
              "    </tr>\n",
              "    <tr>\n",
              "      <th>3</th>\n",
              "      <td>3</td>\n",
              "      <td>1900</td>\n",
              "      <td>Very good</td>\n",
              "      <td>450000</td>\n",
              "    </tr>\n",
              "    <tr>\n",
              "      <th>4</th>\n",
              "      <td>3</td>\n",
              "      <td>1850</td>\n",
              "      <td>Bad</td>\n",
              "      <td>280000</td>\n",
              "    </tr>\n",
              "    <tr>\n",
              "      <th>5</th>\n",
              "      <td>2</td>\n",
              "      <td>1640</td>\n",
              "      <td>Good</td>\n",
              "      <td>310000</td>\n",
              "    </tr>\n",
              "  </tbody>\n",
              "</table>\n",
              "</div>"
            ],
            "text/plain": [
              "  Unnamed: 0 Info about some houses  Unnamed: 2  Unnamed: 3\n",
              "0    Bedroom               Sq. foot    Locality   Price ($)\n",
              "1          2                   1500        Good      300000\n",
              "2          3                   1300        Fair      240000\n",
              "3          3                   1900   Very good      450000\n",
              "4          3                   1850         Bad      280000\n",
              "5          2                   1640        Good      310000"
            ]
          },
          "metadata": {
            "tags": []
          },
          "execution_count": 35
        }
      ]
    },
    {
      "cell_type": "code",
      "metadata": {
        "id": "RaWkKWFOlOD6"
      },
      "source": [
        "df6 = pd.read_csv(\"CSV_EX_skipfooter.csv\")"
      ],
      "execution_count": 36,
      "outputs": []
    },
    {
      "cell_type": "code",
      "metadata": {
        "colab": {
          "base_uri": "https://localhost:8080/",
          "height": 297
        },
        "id": "3Y2V7FctlZe6",
        "outputId": "1bbf79fd-b228-4913-9d47-e5aa2516582a"
      },
      "source": [
        "df6"
      ],
      "execution_count": 37,
      "outputs": [
        {
          "output_type": "execute_result",
          "data": {
            "text/html": [
              "<div>\n",
              "<style scoped>\n",
              "    .dataframe tbody tr th:only-of-type {\n",
              "        vertical-align: middle;\n",
              "    }\n",
              "\n",
              "    .dataframe tbody tr th {\n",
              "        vertical-align: top;\n",
              "    }\n",
              "\n",
              "    .dataframe thead th {\n",
              "        text-align: right;\n",
              "    }\n",
              "</style>\n",
              "<table border=\"1\" class=\"dataframe\">\n",
              "  <thead>\n",
              "    <tr style=\"text-align: right;\">\n",
              "      <th></th>\n",
              "      <th>Filetype: CSV</th>\n",
              "      <th>Unnamed: 1</th>\n",
              "      <th>Unnamed: 2</th>\n",
              "      <th>Unnamed: 3</th>\n",
              "    </tr>\n",
              "  </thead>\n",
              "  <tbody>\n",
              "    <tr>\n",
              "      <th>0</th>\n",
              "      <td>NaN</td>\n",
              "      <td>Info about some houses</td>\n",
              "      <td>NaN</td>\n",
              "      <td>NaN</td>\n",
              "    </tr>\n",
              "    <tr>\n",
              "      <th>1</th>\n",
              "      <td>Bedroom</td>\n",
              "      <td>Sq. foot</td>\n",
              "      <td>Locality</td>\n",
              "      <td>Price ($)</td>\n",
              "    </tr>\n",
              "    <tr>\n",
              "      <th>2</th>\n",
              "      <td>2</td>\n",
              "      <td>1500</td>\n",
              "      <td>Good</td>\n",
              "      <td>300000</td>\n",
              "    </tr>\n",
              "    <tr>\n",
              "      <th>3</th>\n",
              "      <td>3</td>\n",
              "      <td>1300</td>\n",
              "      <td>Fair</td>\n",
              "      <td>240000</td>\n",
              "    </tr>\n",
              "    <tr>\n",
              "      <th>4</th>\n",
              "      <td>3</td>\n",
              "      <td>1900</td>\n",
              "      <td>Very good</td>\n",
              "      <td>450000</td>\n",
              "    </tr>\n",
              "    <tr>\n",
              "      <th>5</th>\n",
              "      <td>3</td>\n",
              "      <td>1850</td>\n",
              "      <td>Bad</td>\n",
              "      <td>280000</td>\n",
              "    </tr>\n",
              "    <tr>\n",
              "      <th>6</th>\n",
              "      <td>2</td>\n",
              "      <td>1640</td>\n",
              "      <td>Good</td>\n",
              "      <td>310000</td>\n",
              "    </tr>\n",
              "    <tr>\n",
              "      <th>7</th>\n",
              "      <td>NaN</td>\n",
              "      <td>This is the end of file</td>\n",
              "      <td>NaN</td>\n",
              "      <td>NaN</td>\n",
              "    </tr>\n",
              "  </tbody>\n",
              "</table>\n",
              "</div>"
            ],
            "text/plain": [
              "  Filetype: CSV                Unnamed: 1  Unnamed: 2  Unnamed: 3\n",
              "0           NaN    Info about some houses         NaN         NaN\n",
              "1       Bedroom                  Sq. foot    Locality   Price ($)\n",
              "2             2                      1500        Good      300000\n",
              "3             3                      1300        Fair      240000\n",
              "4             3                      1900   Very good      450000\n",
              "5             3                      1850         Bad      280000\n",
              "6             2                      1640        Good      310000\n",
              "7           NaN   This is the end of file         NaN         NaN"
            ]
          },
          "metadata": {
            "tags": []
          },
          "execution_count": 37
        }
      ]
    },
    {
      "cell_type": "code",
      "metadata": {
        "colab": {
          "base_uri": "https://localhost:8080/"
        },
        "id": "PE6qrQVzla6S",
        "outputId": "45ff010d-0d99-45cc-d2cc-a8c800fab343"
      },
      "source": [
        "df6 = pd.read_csv(\"CSV_EX_skipfooter.csv\",skiprows=1,skipfooter=1)"
      ],
      "execution_count": 38,
      "outputs": [
        {
          "output_type": "stream",
          "text": [
            "/usr/local/lib/python3.7/dist-packages/ipykernel_launcher.py:1: ParserWarning: Falling back to the 'python' engine because the 'c' engine does not support skipfooter; you can avoid this warning by specifying engine='python'.\n",
            "  \"\"\"Entry point for launching an IPython kernel.\n"
          ],
          "name": "stderr"
        }
      ]
    },
    {
      "cell_type": "code",
      "metadata": {
        "colab": {
          "base_uri": "https://localhost:8080/",
          "height": 235
        },
        "id": "bvqU1LzElgqT",
        "outputId": "114c8c20-ecd6-418f-8cb6-06006d5e46f9"
      },
      "source": [
        "df6"
      ],
      "execution_count": 39,
      "outputs": [
        {
          "output_type": "execute_result",
          "data": {
            "text/html": [
              "<div>\n",
              "<style scoped>\n",
              "    .dataframe tbody tr th:only-of-type {\n",
              "        vertical-align: middle;\n",
              "    }\n",
              "\n",
              "    .dataframe tbody tr th {\n",
              "        vertical-align: top;\n",
              "    }\n",
              "\n",
              "    .dataframe thead th {\n",
              "        text-align: right;\n",
              "    }\n",
              "</style>\n",
              "<table border=\"1\" class=\"dataframe\">\n",
              "  <thead>\n",
              "    <tr style=\"text-align: right;\">\n",
              "      <th></th>\n",
              "      <th>Unnamed: 0</th>\n",
              "      <th>Info about some houses</th>\n",
              "      <th>Unnamed: 2</th>\n",
              "      <th>Unnamed: 3</th>\n",
              "    </tr>\n",
              "  </thead>\n",
              "  <tbody>\n",
              "    <tr>\n",
              "      <th>0</th>\n",
              "      <td>Bedroom</td>\n",
              "      <td>Sq. foot</td>\n",
              "      <td>Locality</td>\n",
              "      <td>Price ($)</td>\n",
              "    </tr>\n",
              "    <tr>\n",
              "      <th>1</th>\n",
              "      <td>2</td>\n",
              "      <td>1500</td>\n",
              "      <td>Good</td>\n",
              "      <td>300000</td>\n",
              "    </tr>\n",
              "    <tr>\n",
              "      <th>2</th>\n",
              "      <td>3</td>\n",
              "      <td>1300</td>\n",
              "      <td>Fair</td>\n",
              "      <td>240000</td>\n",
              "    </tr>\n",
              "    <tr>\n",
              "      <th>3</th>\n",
              "      <td>3</td>\n",
              "      <td>1900</td>\n",
              "      <td>Very good</td>\n",
              "      <td>450000</td>\n",
              "    </tr>\n",
              "    <tr>\n",
              "      <th>4</th>\n",
              "      <td>3</td>\n",
              "      <td>1850</td>\n",
              "      <td>Bad</td>\n",
              "      <td>280000</td>\n",
              "    </tr>\n",
              "    <tr>\n",
              "      <th>5</th>\n",
              "      <td>2</td>\n",
              "      <td>1640</td>\n",
              "      <td>Good</td>\n",
              "      <td>310000</td>\n",
              "    </tr>\n",
              "  </tbody>\n",
              "</table>\n",
              "</div>"
            ],
            "text/plain": [
              "  Unnamed: 0 Info about some houses  Unnamed: 2  Unnamed: 3\n",
              "0    Bedroom               Sq. foot    Locality   Price ($)\n",
              "1          2                   1500        Good      300000\n",
              "2          3                   1300        Fair      240000\n",
              "3          3                   1900   Very good      450000\n",
              "4          3                   1850         Bad      280000\n",
              "5          2                   1640        Good      310000"
            ]
          },
          "metadata": {
            "tags": []
          },
          "execution_count": 39
        }
      ]
    },
    {
      "cell_type": "code",
      "metadata": {
        "id": "ZJtxLdkGljJt"
      },
      "source": [
        "df7 = pd.read_csv(\"CSV_EX_1.csv\",nrows=3)"
      ],
      "execution_count": 41,
      "outputs": []
    },
    {
      "cell_type": "code",
      "metadata": {
        "colab": {
          "base_uri": "https://localhost:8080/",
          "height": 142
        },
        "id": "hrye-xpRmp_U",
        "outputId": "13985a25-1194-4459-98bc-4c6ea57e345f"
      },
      "source": [
        "df7"
      ],
      "execution_count": 42,
      "outputs": [
        {
          "output_type": "execute_result",
          "data": {
            "text/html": [
              "<div>\n",
              "<style scoped>\n",
              "    .dataframe tbody tr th:only-of-type {\n",
              "        vertical-align: middle;\n",
              "    }\n",
              "\n",
              "    .dataframe tbody tr th {\n",
              "        vertical-align: top;\n",
              "    }\n",
              "\n",
              "    .dataframe thead th {\n",
              "        text-align: right;\n",
              "    }\n",
              "</style>\n",
              "<table border=\"1\" class=\"dataframe\">\n",
              "  <thead>\n",
              "    <tr style=\"text-align: right;\">\n",
              "      <th></th>\n",
              "      <th>Bedroom</th>\n",
              "      <th>Sq. foot</th>\n",
              "      <th>Locality</th>\n",
              "      <th>Price ($)</th>\n",
              "    </tr>\n",
              "  </thead>\n",
              "  <tbody>\n",
              "    <tr>\n",
              "      <th>0</th>\n",
              "      <td>2</td>\n",
              "      <td>1500</td>\n",
              "      <td>Good</td>\n",
              "      <td>300000</td>\n",
              "    </tr>\n",
              "    <tr>\n",
              "      <th>1</th>\n",
              "      <td>3</td>\n",
              "      <td>1300</td>\n",
              "      <td>Fair</td>\n",
              "      <td>240000</td>\n",
              "    </tr>\n",
              "    <tr>\n",
              "      <th>2</th>\n",
              "      <td>3</td>\n",
              "      <td>1900</td>\n",
              "      <td>Very good</td>\n",
              "      <td>450000</td>\n",
              "    </tr>\n",
              "  </tbody>\n",
              "</table>\n",
              "</div>"
            ],
            "text/plain": [
              "   Bedroom   Sq. foot    Locality   Price ($)\n",
              "0        2       1500        Good      300000\n",
              "1        3       1300        Fair      240000\n",
              "2        3       1900   Very good      450000"
            ]
          },
          "metadata": {
            "tags": []
          },
          "execution_count": 42
        }
      ]
    },
    {
      "cell_type": "code",
      "metadata": {
        "id": "nEBpCuSAmr2Z"
      },
      "source": [
        "list_of_dfs = []\n",
        "rows_in_a_chunk = 10 \n",
        "num_chunks = 5\n",
        "df_dummy = pd.read_csv(\"Boston_housing.csv\",nrows=2)\n",
        "col_names = df_dummy.columns\n",
        "for i in range(0,num_chunks*rows_in_a_chunk):\n",
        "  df = pd.read_csv(\"Boston_housing.csv\",header=0,skiprows =2)\n",
        "  list_of_dfs.append(df)\n",
        "  "
      ],
      "execution_count": 44,
      "outputs": []
    },
    {
      "cell_type": "code",
      "metadata": {
        "colab": {
          "base_uri": "https://localhost:8080/"
        },
        "id": "VICtJ0HdnpB1",
        "outputId": "83cec629-c9b4-44c7-f354-93a6a96562a6"
      },
      "source": [
        "list_of_dfs"
      ],
      "execution_count": 46,
      "outputs": [
        {
          "output_type": "execute_result",
          "data": {
            "text/plain": [
              "[     0.02731     0   7.07  0.1  0.469  6.421  ...  2  242  17.8   396.9   9.14  21.6\n",
              " 0    0.02729   0.0   7.07    0  0.469  7.185  ...  2  242  17.8  392.83   4.03  34.7\n",
              " 1    0.03237   0.0   2.18    0  0.458  6.998  ...  3  222  18.7  394.63   2.94  33.4\n",
              " 2    0.06905   0.0   2.18    0  0.458  7.147  ...  3  222  18.7  396.90   5.33  36.2\n",
              " 3    0.02985   0.0   2.18    0  0.458  6.430  ...  3  222  18.7  394.12   5.21  28.7\n",
              " 4    0.08829  12.5   7.87    0  0.524  6.012  ...  5  311  15.2  395.60  12.43  22.9\n",
              " ..       ...   ...    ...  ...    ...    ...  ... ..  ...   ...     ...    ...   ...\n",
              " 499  0.06263   0.0  11.93    0  0.573  6.593  ...  1  273  21.0  391.99   9.67  22.4\n",
              " 500  0.04527   0.0  11.93    0  0.573  6.120  ...  1  273  21.0  396.90   9.08  20.6\n",
              " 501  0.06076   0.0  11.93    0  0.573  6.976  ...  1  273  21.0  396.90   5.64  23.9\n",
              " 502  0.10959   0.0  11.93    0  0.573  6.794  ...  1  273  21.0  393.45   6.48  22.0\n",
              " 503  0.04741   0.0  11.93    0  0.573  6.030  ...  1  273  21.0  396.90   7.88  11.9\n",
              " \n",
              " [504 rows x 14 columns],\n",
              "      0.02731     0   7.07  0.1  0.469  6.421  ...  2  242  17.8   396.9   9.14  21.6\n",
              " 0    0.02729   0.0   7.07    0  0.469  7.185  ...  2  242  17.8  392.83   4.03  34.7\n",
              " 1    0.03237   0.0   2.18    0  0.458  6.998  ...  3  222  18.7  394.63   2.94  33.4\n",
              " 2    0.06905   0.0   2.18    0  0.458  7.147  ...  3  222  18.7  396.90   5.33  36.2\n",
              " 3    0.02985   0.0   2.18    0  0.458  6.430  ...  3  222  18.7  394.12   5.21  28.7\n",
              " 4    0.08829  12.5   7.87    0  0.524  6.012  ...  5  311  15.2  395.60  12.43  22.9\n",
              " ..       ...   ...    ...  ...    ...    ...  ... ..  ...   ...     ...    ...   ...\n",
              " 499  0.06263   0.0  11.93    0  0.573  6.593  ...  1  273  21.0  391.99   9.67  22.4\n",
              " 500  0.04527   0.0  11.93    0  0.573  6.120  ...  1  273  21.0  396.90   9.08  20.6\n",
              " 501  0.06076   0.0  11.93    0  0.573  6.976  ...  1  273  21.0  396.90   5.64  23.9\n",
              " 502  0.10959   0.0  11.93    0  0.573  6.794  ...  1  273  21.0  393.45   6.48  22.0\n",
              " 503  0.04741   0.0  11.93    0  0.573  6.030  ...  1  273  21.0  396.90   7.88  11.9\n",
              " \n",
              " [504 rows x 14 columns],\n",
              "      0.02731     0   7.07  0.1  0.469  6.421  ...  2  242  17.8   396.9   9.14  21.6\n",
              " 0    0.02729   0.0   7.07    0  0.469  7.185  ...  2  242  17.8  392.83   4.03  34.7\n",
              " 1    0.03237   0.0   2.18    0  0.458  6.998  ...  3  222  18.7  394.63   2.94  33.4\n",
              " 2    0.06905   0.0   2.18    0  0.458  7.147  ...  3  222  18.7  396.90   5.33  36.2\n",
              " 3    0.02985   0.0   2.18    0  0.458  6.430  ...  3  222  18.7  394.12   5.21  28.7\n",
              " 4    0.08829  12.5   7.87    0  0.524  6.012  ...  5  311  15.2  395.60  12.43  22.9\n",
              " ..       ...   ...    ...  ...    ...    ...  ... ..  ...   ...     ...    ...   ...\n",
              " 499  0.06263   0.0  11.93    0  0.573  6.593  ...  1  273  21.0  391.99   9.67  22.4\n",
              " 500  0.04527   0.0  11.93    0  0.573  6.120  ...  1  273  21.0  396.90   9.08  20.6\n",
              " 501  0.06076   0.0  11.93    0  0.573  6.976  ...  1  273  21.0  396.90   5.64  23.9\n",
              " 502  0.10959   0.0  11.93    0  0.573  6.794  ...  1  273  21.0  393.45   6.48  22.0\n",
              " 503  0.04741   0.0  11.93    0  0.573  6.030  ...  1  273  21.0  396.90   7.88  11.9\n",
              " \n",
              " [504 rows x 14 columns],\n",
              "      0.02731     0   7.07  0.1  0.469  6.421  ...  2  242  17.8   396.9   9.14  21.6\n",
              " 0    0.02729   0.0   7.07    0  0.469  7.185  ...  2  242  17.8  392.83   4.03  34.7\n",
              " 1    0.03237   0.0   2.18    0  0.458  6.998  ...  3  222  18.7  394.63   2.94  33.4\n",
              " 2    0.06905   0.0   2.18    0  0.458  7.147  ...  3  222  18.7  396.90   5.33  36.2\n",
              " 3    0.02985   0.0   2.18    0  0.458  6.430  ...  3  222  18.7  394.12   5.21  28.7\n",
              " 4    0.08829  12.5   7.87    0  0.524  6.012  ...  5  311  15.2  395.60  12.43  22.9\n",
              " ..       ...   ...    ...  ...    ...    ...  ... ..  ...   ...     ...    ...   ...\n",
              " 499  0.06263   0.0  11.93    0  0.573  6.593  ...  1  273  21.0  391.99   9.67  22.4\n",
              " 500  0.04527   0.0  11.93    0  0.573  6.120  ...  1  273  21.0  396.90   9.08  20.6\n",
              " 501  0.06076   0.0  11.93    0  0.573  6.976  ...  1  273  21.0  396.90   5.64  23.9\n",
              " 502  0.10959   0.0  11.93    0  0.573  6.794  ...  1  273  21.0  393.45   6.48  22.0\n",
              " 503  0.04741   0.0  11.93    0  0.573  6.030  ...  1  273  21.0  396.90   7.88  11.9\n",
              " \n",
              " [504 rows x 14 columns],\n",
              "      0.02731     0   7.07  0.1  0.469  6.421  ...  2  242  17.8   396.9   9.14  21.6\n",
              " 0    0.02729   0.0   7.07    0  0.469  7.185  ...  2  242  17.8  392.83   4.03  34.7\n",
              " 1    0.03237   0.0   2.18    0  0.458  6.998  ...  3  222  18.7  394.63   2.94  33.4\n",
              " 2    0.06905   0.0   2.18    0  0.458  7.147  ...  3  222  18.7  396.90   5.33  36.2\n",
              " 3    0.02985   0.0   2.18    0  0.458  6.430  ...  3  222  18.7  394.12   5.21  28.7\n",
              " 4    0.08829  12.5   7.87    0  0.524  6.012  ...  5  311  15.2  395.60  12.43  22.9\n",
              " ..       ...   ...    ...  ...    ...    ...  ... ..  ...   ...     ...    ...   ...\n",
              " 499  0.06263   0.0  11.93    0  0.573  6.593  ...  1  273  21.0  391.99   9.67  22.4\n",
              " 500  0.04527   0.0  11.93    0  0.573  6.120  ...  1  273  21.0  396.90   9.08  20.6\n",
              " 501  0.06076   0.0  11.93    0  0.573  6.976  ...  1  273  21.0  396.90   5.64  23.9\n",
              " 502  0.10959   0.0  11.93    0  0.573  6.794  ...  1  273  21.0  393.45   6.48  22.0\n",
              " 503  0.04741   0.0  11.93    0  0.573  6.030  ...  1  273  21.0  396.90   7.88  11.9\n",
              " \n",
              " [504 rows x 14 columns],\n",
              "      0.02731     0   7.07  0.1  0.469  6.421  ...  2  242  17.8   396.9   9.14  21.6\n",
              " 0    0.02729   0.0   7.07    0  0.469  7.185  ...  2  242  17.8  392.83   4.03  34.7\n",
              " 1    0.03237   0.0   2.18    0  0.458  6.998  ...  3  222  18.7  394.63   2.94  33.4\n",
              " 2    0.06905   0.0   2.18    0  0.458  7.147  ...  3  222  18.7  396.90   5.33  36.2\n",
              " 3    0.02985   0.0   2.18    0  0.458  6.430  ...  3  222  18.7  394.12   5.21  28.7\n",
              " 4    0.08829  12.5   7.87    0  0.524  6.012  ...  5  311  15.2  395.60  12.43  22.9\n",
              " ..       ...   ...    ...  ...    ...    ...  ... ..  ...   ...     ...    ...   ...\n",
              " 499  0.06263   0.0  11.93    0  0.573  6.593  ...  1  273  21.0  391.99   9.67  22.4\n",
              " 500  0.04527   0.0  11.93    0  0.573  6.120  ...  1  273  21.0  396.90   9.08  20.6\n",
              " 501  0.06076   0.0  11.93    0  0.573  6.976  ...  1  273  21.0  396.90   5.64  23.9\n",
              " 502  0.10959   0.0  11.93    0  0.573  6.794  ...  1  273  21.0  393.45   6.48  22.0\n",
              " 503  0.04741   0.0  11.93    0  0.573  6.030  ...  1  273  21.0  396.90   7.88  11.9\n",
              " \n",
              " [504 rows x 14 columns],\n",
              "      0.02731     0   7.07  0.1  0.469  6.421  ...  2  242  17.8   396.9   9.14  21.6\n",
              " 0    0.02729   0.0   7.07    0  0.469  7.185  ...  2  242  17.8  392.83   4.03  34.7\n",
              " 1    0.03237   0.0   2.18    0  0.458  6.998  ...  3  222  18.7  394.63   2.94  33.4\n",
              " 2    0.06905   0.0   2.18    0  0.458  7.147  ...  3  222  18.7  396.90   5.33  36.2\n",
              " 3    0.02985   0.0   2.18    0  0.458  6.430  ...  3  222  18.7  394.12   5.21  28.7\n",
              " 4    0.08829  12.5   7.87    0  0.524  6.012  ...  5  311  15.2  395.60  12.43  22.9\n",
              " ..       ...   ...    ...  ...    ...    ...  ... ..  ...   ...     ...    ...   ...\n",
              " 499  0.06263   0.0  11.93    0  0.573  6.593  ...  1  273  21.0  391.99   9.67  22.4\n",
              " 500  0.04527   0.0  11.93    0  0.573  6.120  ...  1  273  21.0  396.90   9.08  20.6\n",
              " 501  0.06076   0.0  11.93    0  0.573  6.976  ...  1  273  21.0  396.90   5.64  23.9\n",
              " 502  0.10959   0.0  11.93    0  0.573  6.794  ...  1  273  21.0  393.45   6.48  22.0\n",
              " 503  0.04741   0.0  11.93    0  0.573  6.030  ...  1  273  21.0  396.90   7.88  11.9\n",
              " \n",
              " [504 rows x 14 columns],\n",
              "      0.02731     0   7.07  0.1  0.469  6.421  ...  2  242  17.8   396.9   9.14  21.6\n",
              " 0    0.02729   0.0   7.07    0  0.469  7.185  ...  2  242  17.8  392.83   4.03  34.7\n",
              " 1    0.03237   0.0   2.18    0  0.458  6.998  ...  3  222  18.7  394.63   2.94  33.4\n",
              " 2    0.06905   0.0   2.18    0  0.458  7.147  ...  3  222  18.7  396.90   5.33  36.2\n",
              " 3    0.02985   0.0   2.18    0  0.458  6.430  ...  3  222  18.7  394.12   5.21  28.7\n",
              " 4    0.08829  12.5   7.87    0  0.524  6.012  ...  5  311  15.2  395.60  12.43  22.9\n",
              " ..       ...   ...    ...  ...    ...    ...  ... ..  ...   ...     ...    ...   ...\n",
              " 499  0.06263   0.0  11.93    0  0.573  6.593  ...  1  273  21.0  391.99   9.67  22.4\n",
              " 500  0.04527   0.0  11.93    0  0.573  6.120  ...  1  273  21.0  396.90   9.08  20.6\n",
              " 501  0.06076   0.0  11.93    0  0.573  6.976  ...  1  273  21.0  396.90   5.64  23.9\n",
              " 502  0.10959   0.0  11.93    0  0.573  6.794  ...  1  273  21.0  393.45   6.48  22.0\n",
              " 503  0.04741   0.0  11.93    0  0.573  6.030  ...  1  273  21.0  396.90   7.88  11.9\n",
              " \n",
              " [504 rows x 14 columns],\n",
              "      0.02731     0   7.07  0.1  0.469  6.421  ...  2  242  17.8   396.9   9.14  21.6\n",
              " 0    0.02729   0.0   7.07    0  0.469  7.185  ...  2  242  17.8  392.83   4.03  34.7\n",
              " 1    0.03237   0.0   2.18    0  0.458  6.998  ...  3  222  18.7  394.63   2.94  33.4\n",
              " 2    0.06905   0.0   2.18    0  0.458  7.147  ...  3  222  18.7  396.90   5.33  36.2\n",
              " 3    0.02985   0.0   2.18    0  0.458  6.430  ...  3  222  18.7  394.12   5.21  28.7\n",
              " 4    0.08829  12.5   7.87    0  0.524  6.012  ...  5  311  15.2  395.60  12.43  22.9\n",
              " ..       ...   ...    ...  ...    ...    ...  ... ..  ...   ...     ...    ...   ...\n",
              " 499  0.06263   0.0  11.93    0  0.573  6.593  ...  1  273  21.0  391.99   9.67  22.4\n",
              " 500  0.04527   0.0  11.93    0  0.573  6.120  ...  1  273  21.0  396.90   9.08  20.6\n",
              " 501  0.06076   0.0  11.93    0  0.573  6.976  ...  1  273  21.0  396.90   5.64  23.9\n",
              " 502  0.10959   0.0  11.93    0  0.573  6.794  ...  1  273  21.0  393.45   6.48  22.0\n",
              " 503  0.04741   0.0  11.93    0  0.573  6.030  ...  1  273  21.0  396.90   7.88  11.9\n",
              " \n",
              " [504 rows x 14 columns],\n",
              "      0.02731     0   7.07  0.1  0.469  6.421  ...  2  242  17.8   396.9   9.14  21.6\n",
              " 0    0.02729   0.0   7.07    0  0.469  7.185  ...  2  242  17.8  392.83   4.03  34.7\n",
              " 1    0.03237   0.0   2.18    0  0.458  6.998  ...  3  222  18.7  394.63   2.94  33.4\n",
              " 2    0.06905   0.0   2.18    0  0.458  7.147  ...  3  222  18.7  396.90   5.33  36.2\n",
              " 3    0.02985   0.0   2.18    0  0.458  6.430  ...  3  222  18.7  394.12   5.21  28.7\n",
              " 4    0.08829  12.5   7.87    0  0.524  6.012  ...  5  311  15.2  395.60  12.43  22.9\n",
              " ..       ...   ...    ...  ...    ...    ...  ... ..  ...   ...     ...    ...   ...\n",
              " 499  0.06263   0.0  11.93    0  0.573  6.593  ...  1  273  21.0  391.99   9.67  22.4\n",
              " 500  0.04527   0.0  11.93    0  0.573  6.120  ...  1  273  21.0  396.90   9.08  20.6\n",
              " 501  0.06076   0.0  11.93    0  0.573  6.976  ...  1  273  21.0  396.90   5.64  23.9\n",
              " 502  0.10959   0.0  11.93    0  0.573  6.794  ...  1  273  21.0  393.45   6.48  22.0\n",
              " 503  0.04741   0.0  11.93    0  0.573  6.030  ...  1  273  21.0  396.90   7.88  11.9\n",
              " \n",
              " [504 rows x 14 columns],\n",
              "      0.02731     0   7.07  0.1  0.469  6.421  ...  2  242  17.8   396.9   9.14  21.6\n",
              " 0    0.02729   0.0   7.07    0  0.469  7.185  ...  2  242  17.8  392.83   4.03  34.7\n",
              " 1    0.03237   0.0   2.18    0  0.458  6.998  ...  3  222  18.7  394.63   2.94  33.4\n",
              " 2    0.06905   0.0   2.18    0  0.458  7.147  ...  3  222  18.7  396.90   5.33  36.2\n",
              " 3    0.02985   0.0   2.18    0  0.458  6.430  ...  3  222  18.7  394.12   5.21  28.7\n",
              " 4    0.08829  12.5   7.87    0  0.524  6.012  ...  5  311  15.2  395.60  12.43  22.9\n",
              " ..       ...   ...    ...  ...    ...    ...  ... ..  ...   ...     ...    ...   ...\n",
              " 499  0.06263   0.0  11.93    0  0.573  6.593  ...  1  273  21.0  391.99   9.67  22.4\n",
              " 500  0.04527   0.0  11.93    0  0.573  6.120  ...  1  273  21.0  396.90   9.08  20.6\n",
              " 501  0.06076   0.0  11.93    0  0.573  6.976  ...  1  273  21.0  396.90   5.64  23.9\n",
              " 502  0.10959   0.0  11.93    0  0.573  6.794  ...  1  273  21.0  393.45   6.48  22.0\n",
              " 503  0.04741   0.0  11.93    0  0.573  6.030  ...  1  273  21.0  396.90   7.88  11.9\n",
              " \n",
              " [504 rows x 14 columns],\n",
              "      0.02731     0   7.07  0.1  0.469  6.421  ...  2  242  17.8   396.9   9.14  21.6\n",
              " 0    0.02729   0.0   7.07    0  0.469  7.185  ...  2  242  17.8  392.83   4.03  34.7\n",
              " 1    0.03237   0.0   2.18    0  0.458  6.998  ...  3  222  18.7  394.63   2.94  33.4\n",
              " 2    0.06905   0.0   2.18    0  0.458  7.147  ...  3  222  18.7  396.90   5.33  36.2\n",
              " 3    0.02985   0.0   2.18    0  0.458  6.430  ...  3  222  18.7  394.12   5.21  28.7\n",
              " 4    0.08829  12.5   7.87    0  0.524  6.012  ...  5  311  15.2  395.60  12.43  22.9\n",
              " ..       ...   ...    ...  ...    ...    ...  ... ..  ...   ...     ...    ...   ...\n",
              " 499  0.06263   0.0  11.93    0  0.573  6.593  ...  1  273  21.0  391.99   9.67  22.4\n",
              " 500  0.04527   0.0  11.93    0  0.573  6.120  ...  1  273  21.0  396.90   9.08  20.6\n",
              " 501  0.06076   0.0  11.93    0  0.573  6.976  ...  1  273  21.0  396.90   5.64  23.9\n",
              " 502  0.10959   0.0  11.93    0  0.573  6.794  ...  1  273  21.0  393.45   6.48  22.0\n",
              " 503  0.04741   0.0  11.93    0  0.573  6.030  ...  1  273  21.0  396.90   7.88  11.9\n",
              " \n",
              " [504 rows x 14 columns],\n",
              "      0.02731     0   7.07  0.1  0.469  6.421  ...  2  242  17.8   396.9   9.14  21.6\n",
              " 0    0.02729   0.0   7.07    0  0.469  7.185  ...  2  242  17.8  392.83   4.03  34.7\n",
              " 1    0.03237   0.0   2.18    0  0.458  6.998  ...  3  222  18.7  394.63   2.94  33.4\n",
              " 2    0.06905   0.0   2.18    0  0.458  7.147  ...  3  222  18.7  396.90   5.33  36.2\n",
              " 3    0.02985   0.0   2.18    0  0.458  6.430  ...  3  222  18.7  394.12   5.21  28.7\n",
              " 4    0.08829  12.5   7.87    0  0.524  6.012  ...  5  311  15.2  395.60  12.43  22.9\n",
              " ..       ...   ...    ...  ...    ...    ...  ... ..  ...   ...     ...    ...   ...\n",
              " 499  0.06263   0.0  11.93    0  0.573  6.593  ...  1  273  21.0  391.99   9.67  22.4\n",
              " 500  0.04527   0.0  11.93    0  0.573  6.120  ...  1  273  21.0  396.90   9.08  20.6\n",
              " 501  0.06076   0.0  11.93    0  0.573  6.976  ...  1  273  21.0  396.90   5.64  23.9\n",
              " 502  0.10959   0.0  11.93    0  0.573  6.794  ...  1  273  21.0  393.45   6.48  22.0\n",
              " 503  0.04741   0.0  11.93    0  0.573  6.030  ...  1  273  21.0  396.90   7.88  11.9\n",
              " \n",
              " [504 rows x 14 columns],\n",
              "      0.02731     0   7.07  0.1  0.469  6.421  ...  2  242  17.8   396.9   9.14  21.6\n",
              " 0    0.02729   0.0   7.07    0  0.469  7.185  ...  2  242  17.8  392.83   4.03  34.7\n",
              " 1    0.03237   0.0   2.18    0  0.458  6.998  ...  3  222  18.7  394.63   2.94  33.4\n",
              " 2    0.06905   0.0   2.18    0  0.458  7.147  ...  3  222  18.7  396.90   5.33  36.2\n",
              " 3    0.02985   0.0   2.18    0  0.458  6.430  ...  3  222  18.7  394.12   5.21  28.7\n",
              " 4    0.08829  12.5   7.87    0  0.524  6.012  ...  5  311  15.2  395.60  12.43  22.9\n",
              " ..       ...   ...    ...  ...    ...    ...  ... ..  ...   ...     ...    ...   ...\n",
              " 499  0.06263   0.0  11.93    0  0.573  6.593  ...  1  273  21.0  391.99   9.67  22.4\n",
              " 500  0.04527   0.0  11.93    0  0.573  6.120  ...  1  273  21.0  396.90   9.08  20.6\n",
              " 501  0.06076   0.0  11.93    0  0.573  6.976  ...  1  273  21.0  396.90   5.64  23.9\n",
              " 502  0.10959   0.0  11.93    0  0.573  6.794  ...  1  273  21.0  393.45   6.48  22.0\n",
              " 503  0.04741   0.0  11.93    0  0.573  6.030  ...  1  273  21.0  396.90   7.88  11.9\n",
              " \n",
              " [504 rows x 14 columns],\n",
              "      0.02731     0   7.07  0.1  0.469  6.421  ...  2  242  17.8   396.9   9.14  21.6\n",
              " 0    0.02729   0.0   7.07    0  0.469  7.185  ...  2  242  17.8  392.83   4.03  34.7\n",
              " 1    0.03237   0.0   2.18    0  0.458  6.998  ...  3  222  18.7  394.63   2.94  33.4\n",
              " 2    0.06905   0.0   2.18    0  0.458  7.147  ...  3  222  18.7  396.90   5.33  36.2\n",
              " 3    0.02985   0.0   2.18    0  0.458  6.430  ...  3  222  18.7  394.12   5.21  28.7\n",
              " 4    0.08829  12.5   7.87    0  0.524  6.012  ...  5  311  15.2  395.60  12.43  22.9\n",
              " ..       ...   ...    ...  ...    ...    ...  ... ..  ...   ...     ...    ...   ...\n",
              " 499  0.06263   0.0  11.93    0  0.573  6.593  ...  1  273  21.0  391.99   9.67  22.4\n",
              " 500  0.04527   0.0  11.93    0  0.573  6.120  ...  1  273  21.0  396.90   9.08  20.6\n",
              " 501  0.06076   0.0  11.93    0  0.573  6.976  ...  1  273  21.0  396.90   5.64  23.9\n",
              " 502  0.10959   0.0  11.93    0  0.573  6.794  ...  1  273  21.0  393.45   6.48  22.0\n",
              " 503  0.04741   0.0  11.93    0  0.573  6.030  ...  1  273  21.0  396.90   7.88  11.9\n",
              " \n",
              " [504 rows x 14 columns],\n",
              "      0.02731     0   7.07  0.1  0.469  6.421  ...  2  242  17.8   396.9   9.14  21.6\n",
              " 0    0.02729   0.0   7.07    0  0.469  7.185  ...  2  242  17.8  392.83   4.03  34.7\n",
              " 1    0.03237   0.0   2.18    0  0.458  6.998  ...  3  222  18.7  394.63   2.94  33.4\n",
              " 2    0.06905   0.0   2.18    0  0.458  7.147  ...  3  222  18.7  396.90   5.33  36.2\n",
              " 3    0.02985   0.0   2.18    0  0.458  6.430  ...  3  222  18.7  394.12   5.21  28.7\n",
              " 4    0.08829  12.5   7.87    0  0.524  6.012  ...  5  311  15.2  395.60  12.43  22.9\n",
              " ..       ...   ...    ...  ...    ...    ...  ... ..  ...   ...     ...    ...   ...\n",
              " 499  0.06263   0.0  11.93    0  0.573  6.593  ...  1  273  21.0  391.99   9.67  22.4\n",
              " 500  0.04527   0.0  11.93    0  0.573  6.120  ...  1  273  21.0  396.90   9.08  20.6\n",
              " 501  0.06076   0.0  11.93    0  0.573  6.976  ...  1  273  21.0  396.90   5.64  23.9\n",
              " 502  0.10959   0.0  11.93    0  0.573  6.794  ...  1  273  21.0  393.45   6.48  22.0\n",
              " 503  0.04741   0.0  11.93    0  0.573  6.030  ...  1  273  21.0  396.90   7.88  11.9\n",
              " \n",
              " [504 rows x 14 columns],\n",
              "      0.02731     0   7.07  0.1  0.469  6.421  ...  2  242  17.8   396.9   9.14  21.6\n",
              " 0    0.02729   0.0   7.07    0  0.469  7.185  ...  2  242  17.8  392.83   4.03  34.7\n",
              " 1    0.03237   0.0   2.18    0  0.458  6.998  ...  3  222  18.7  394.63   2.94  33.4\n",
              " 2    0.06905   0.0   2.18    0  0.458  7.147  ...  3  222  18.7  396.90   5.33  36.2\n",
              " 3    0.02985   0.0   2.18    0  0.458  6.430  ...  3  222  18.7  394.12   5.21  28.7\n",
              " 4    0.08829  12.5   7.87    0  0.524  6.012  ...  5  311  15.2  395.60  12.43  22.9\n",
              " ..       ...   ...    ...  ...    ...    ...  ... ..  ...   ...     ...    ...   ...\n",
              " 499  0.06263   0.0  11.93    0  0.573  6.593  ...  1  273  21.0  391.99   9.67  22.4\n",
              " 500  0.04527   0.0  11.93    0  0.573  6.120  ...  1  273  21.0  396.90   9.08  20.6\n",
              " 501  0.06076   0.0  11.93    0  0.573  6.976  ...  1  273  21.0  396.90   5.64  23.9\n",
              " 502  0.10959   0.0  11.93    0  0.573  6.794  ...  1  273  21.0  393.45   6.48  22.0\n",
              " 503  0.04741   0.0  11.93    0  0.573  6.030  ...  1  273  21.0  396.90   7.88  11.9\n",
              " \n",
              " [504 rows x 14 columns],\n",
              "      0.02731     0   7.07  0.1  0.469  6.421  ...  2  242  17.8   396.9   9.14  21.6\n",
              " 0    0.02729   0.0   7.07    0  0.469  7.185  ...  2  242  17.8  392.83   4.03  34.7\n",
              " 1    0.03237   0.0   2.18    0  0.458  6.998  ...  3  222  18.7  394.63   2.94  33.4\n",
              " 2    0.06905   0.0   2.18    0  0.458  7.147  ...  3  222  18.7  396.90   5.33  36.2\n",
              " 3    0.02985   0.0   2.18    0  0.458  6.430  ...  3  222  18.7  394.12   5.21  28.7\n",
              " 4    0.08829  12.5   7.87    0  0.524  6.012  ...  5  311  15.2  395.60  12.43  22.9\n",
              " ..       ...   ...    ...  ...    ...    ...  ... ..  ...   ...     ...    ...   ...\n",
              " 499  0.06263   0.0  11.93    0  0.573  6.593  ...  1  273  21.0  391.99   9.67  22.4\n",
              " 500  0.04527   0.0  11.93    0  0.573  6.120  ...  1  273  21.0  396.90   9.08  20.6\n",
              " 501  0.06076   0.0  11.93    0  0.573  6.976  ...  1  273  21.0  396.90   5.64  23.9\n",
              " 502  0.10959   0.0  11.93    0  0.573  6.794  ...  1  273  21.0  393.45   6.48  22.0\n",
              " 503  0.04741   0.0  11.93    0  0.573  6.030  ...  1  273  21.0  396.90   7.88  11.9\n",
              " \n",
              " [504 rows x 14 columns],\n",
              "      0.02731     0   7.07  0.1  0.469  6.421  ...  2  242  17.8   396.9   9.14  21.6\n",
              " 0    0.02729   0.0   7.07    0  0.469  7.185  ...  2  242  17.8  392.83   4.03  34.7\n",
              " 1    0.03237   0.0   2.18    0  0.458  6.998  ...  3  222  18.7  394.63   2.94  33.4\n",
              " 2    0.06905   0.0   2.18    0  0.458  7.147  ...  3  222  18.7  396.90   5.33  36.2\n",
              " 3    0.02985   0.0   2.18    0  0.458  6.430  ...  3  222  18.7  394.12   5.21  28.7\n",
              " 4    0.08829  12.5   7.87    0  0.524  6.012  ...  5  311  15.2  395.60  12.43  22.9\n",
              " ..       ...   ...    ...  ...    ...    ...  ... ..  ...   ...     ...    ...   ...\n",
              " 499  0.06263   0.0  11.93    0  0.573  6.593  ...  1  273  21.0  391.99   9.67  22.4\n",
              " 500  0.04527   0.0  11.93    0  0.573  6.120  ...  1  273  21.0  396.90   9.08  20.6\n",
              " 501  0.06076   0.0  11.93    0  0.573  6.976  ...  1  273  21.0  396.90   5.64  23.9\n",
              " 502  0.10959   0.0  11.93    0  0.573  6.794  ...  1  273  21.0  393.45   6.48  22.0\n",
              " 503  0.04741   0.0  11.93    0  0.573  6.030  ...  1  273  21.0  396.90   7.88  11.9\n",
              " \n",
              " [504 rows x 14 columns],\n",
              "      0.02731     0   7.07  0.1  0.469  6.421  ...  2  242  17.8   396.9   9.14  21.6\n",
              " 0    0.02729   0.0   7.07    0  0.469  7.185  ...  2  242  17.8  392.83   4.03  34.7\n",
              " 1    0.03237   0.0   2.18    0  0.458  6.998  ...  3  222  18.7  394.63   2.94  33.4\n",
              " 2    0.06905   0.0   2.18    0  0.458  7.147  ...  3  222  18.7  396.90   5.33  36.2\n",
              " 3    0.02985   0.0   2.18    0  0.458  6.430  ...  3  222  18.7  394.12   5.21  28.7\n",
              " 4    0.08829  12.5   7.87    0  0.524  6.012  ...  5  311  15.2  395.60  12.43  22.9\n",
              " ..       ...   ...    ...  ...    ...    ...  ... ..  ...   ...     ...    ...   ...\n",
              " 499  0.06263   0.0  11.93    0  0.573  6.593  ...  1  273  21.0  391.99   9.67  22.4\n",
              " 500  0.04527   0.0  11.93    0  0.573  6.120  ...  1  273  21.0  396.90   9.08  20.6\n",
              " 501  0.06076   0.0  11.93    0  0.573  6.976  ...  1  273  21.0  396.90   5.64  23.9\n",
              " 502  0.10959   0.0  11.93    0  0.573  6.794  ...  1  273  21.0  393.45   6.48  22.0\n",
              " 503  0.04741   0.0  11.93    0  0.573  6.030  ...  1  273  21.0  396.90   7.88  11.9\n",
              " \n",
              " [504 rows x 14 columns],\n",
              "      0.02731     0   7.07  0.1  0.469  6.421  ...  2  242  17.8   396.9   9.14  21.6\n",
              " 0    0.02729   0.0   7.07    0  0.469  7.185  ...  2  242  17.8  392.83   4.03  34.7\n",
              " 1    0.03237   0.0   2.18    0  0.458  6.998  ...  3  222  18.7  394.63   2.94  33.4\n",
              " 2    0.06905   0.0   2.18    0  0.458  7.147  ...  3  222  18.7  396.90   5.33  36.2\n",
              " 3    0.02985   0.0   2.18    0  0.458  6.430  ...  3  222  18.7  394.12   5.21  28.7\n",
              " 4    0.08829  12.5   7.87    0  0.524  6.012  ...  5  311  15.2  395.60  12.43  22.9\n",
              " ..       ...   ...    ...  ...    ...    ...  ... ..  ...   ...     ...    ...   ...\n",
              " 499  0.06263   0.0  11.93    0  0.573  6.593  ...  1  273  21.0  391.99   9.67  22.4\n",
              " 500  0.04527   0.0  11.93    0  0.573  6.120  ...  1  273  21.0  396.90   9.08  20.6\n",
              " 501  0.06076   0.0  11.93    0  0.573  6.976  ...  1  273  21.0  396.90   5.64  23.9\n",
              " 502  0.10959   0.0  11.93    0  0.573  6.794  ...  1  273  21.0  393.45   6.48  22.0\n",
              " 503  0.04741   0.0  11.93    0  0.573  6.030  ...  1  273  21.0  396.90   7.88  11.9\n",
              " \n",
              " [504 rows x 14 columns],\n",
              "      0.02731     0   7.07  0.1  0.469  6.421  ...  2  242  17.8   396.9   9.14  21.6\n",
              " 0    0.02729   0.0   7.07    0  0.469  7.185  ...  2  242  17.8  392.83   4.03  34.7\n",
              " 1    0.03237   0.0   2.18    0  0.458  6.998  ...  3  222  18.7  394.63   2.94  33.4\n",
              " 2    0.06905   0.0   2.18    0  0.458  7.147  ...  3  222  18.7  396.90   5.33  36.2\n",
              " 3    0.02985   0.0   2.18    0  0.458  6.430  ...  3  222  18.7  394.12   5.21  28.7\n",
              " 4    0.08829  12.5   7.87    0  0.524  6.012  ...  5  311  15.2  395.60  12.43  22.9\n",
              " ..       ...   ...    ...  ...    ...    ...  ... ..  ...   ...     ...    ...   ...\n",
              " 499  0.06263   0.0  11.93    0  0.573  6.593  ...  1  273  21.0  391.99   9.67  22.4\n",
              " 500  0.04527   0.0  11.93    0  0.573  6.120  ...  1  273  21.0  396.90   9.08  20.6\n",
              " 501  0.06076   0.0  11.93    0  0.573  6.976  ...  1  273  21.0  396.90   5.64  23.9\n",
              " 502  0.10959   0.0  11.93    0  0.573  6.794  ...  1  273  21.0  393.45   6.48  22.0\n",
              " 503  0.04741   0.0  11.93    0  0.573  6.030  ...  1  273  21.0  396.90   7.88  11.9\n",
              " \n",
              " [504 rows x 14 columns],\n",
              "      0.02731     0   7.07  0.1  0.469  6.421  ...  2  242  17.8   396.9   9.14  21.6\n",
              " 0    0.02729   0.0   7.07    0  0.469  7.185  ...  2  242  17.8  392.83   4.03  34.7\n",
              " 1    0.03237   0.0   2.18    0  0.458  6.998  ...  3  222  18.7  394.63   2.94  33.4\n",
              " 2    0.06905   0.0   2.18    0  0.458  7.147  ...  3  222  18.7  396.90   5.33  36.2\n",
              " 3    0.02985   0.0   2.18    0  0.458  6.430  ...  3  222  18.7  394.12   5.21  28.7\n",
              " 4    0.08829  12.5   7.87    0  0.524  6.012  ...  5  311  15.2  395.60  12.43  22.9\n",
              " ..       ...   ...    ...  ...    ...    ...  ... ..  ...   ...     ...    ...   ...\n",
              " 499  0.06263   0.0  11.93    0  0.573  6.593  ...  1  273  21.0  391.99   9.67  22.4\n",
              " 500  0.04527   0.0  11.93    0  0.573  6.120  ...  1  273  21.0  396.90   9.08  20.6\n",
              " 501  0.06076   0.0  11.93    0  0.573  6.976  ...  1  273  21.0  396.90   5.64  23.9\n",
              " 502  0.10959   0.0  11.93    0  0.573  6.794  ...  1  273  21.0  393.45   6.48  22.0\n",
              " 503  0.04741   0.0  11.93    0  0.573  6.030  ...  1  273  21.0  396.90   7.88  11.9\n",
              " \n",
              " [504 rows x 14 columns],\n",
              "      0.02731     0   7.07  0.1  0.469  6.421  ...  2  242  17.8   396.9   9.14  21.6\n",
              " 0    0.02729   0.0   7.07    0  0.469  7.185  ...  2  242  17.8  392.83   4.03  34.7\n",
              " 1    0.03237   0.0   2.18    0  0.458  6.998  ...  3  222  18.7  394.63   2.94  33.4\n",
              " 2    0.06905   0.0   2.18    0  0.458  7.147  ...  3  222  18.7  396.90   5.33  36.2\n",
              " 3    0.02985   0.0   2.18    0  0.458  6.430  ...  3  222  18.7  394.12   5.21  28.7\n",
              " 4    0.08829  12.5   7.87    0  0.524  6.012  ...  5  311  15.2  395.60  12.43  22.9\n",
              " ..       ...   ...    ...  ...    ...    ...  ... ..  ...   ...     ...    ...   ...\n",
              " 499  0.06263   0.0  11.93    0  0.573  6.593  ...  1  273  21.0  391.99   9.67  22.4\n",
              " 500  0.04527   0.0  11.93    0  0.573  6.120  ...  1  273  21.0  396.90   9.08  20.6\n",
              " 501  0.06076   0.0  11.93    0  0.573  6.976  ...  1  273  21.0  396.90   5.64  23.9\n",
              " 502  0.10959   0.0  11.93    0  0.573  6.794  ...  1  273  21.0  393.45   6.48  22.0\n",
              " 503  0.04741   0.0  11.93    0  0.573  6.030  ...  1  273  21.0  396.90   7.88  11.9\n",
              " \n",
              " [504 rows x 14 columns],\n",
              "      0.02731     0   7.07  0.1  0.469  6.421  ...  2  242  17.8   396.9   9.14  21.6\n",
              " 0    0.02729   0.0   7.07    0  0.469  7.185  ...  2  242  17.8  392.83   4.03  34.7\n",
              " 1    0.03237   0.0   2.18    0  0.458  6.998  ...  3  222  18.7  394.63   2.94  33.4\n",
              " 2    0.06905   0.0   2.18    0  0.458  7.147  ...  3  222  18.7  396.90   5.33  36.2\n",
              " 3    0.02985   0.0   2.18    0  0.458  6.430  ...  3  222  18.7  394.12   5.21  28.7\n",
              " 4    0.08829  12.5   7.87    0  0.524  6.012  ...  5  311  15.2  395.60  12.43  22.9\n",
              " ..       ...   ...    ...  ...    ...    ...  ... ..  ...   ...     ...    ...   ...\n",
              " 499  0.06263   0.0  11.93    0  0.573  6.593  ...  1  273  21.0  391.99   9.67  22.4\n",
              " 500  0.04527   0.0  11.93    0  0.573  6.120  ...  1  273  21.0  396.90   9.08  20.6\n",
              " 501  0.06076   0.0  11.93    0  0.573  6.976  ...  1  273  21.0  396.90   5.64  23.9\n",
              " 502  0.10959   0.0  11.93    0  0.573  6.794  ...  1  273  21.0  393.45   6.48  22.0\n",
              " 503  0.04741   0.0  11.93    0  0.573  6.030  ...  1  273  21.0  396.90   7.88  11.9\n",
              " \n",
              " [504 rows x 14 columns],\n",
              "      0.02731     0   7.07  0.1  0.469  6.421  ...  2  242  17.8   396.9   9.14  21.6\n",
              " 0    0.02729   0.0   7.07    0  0.469  7.185  ...  2  242  17.8  392.83   4.03  34.7\n",
              " 1    0.03237   0.0   2.18    0  0.458  6.998  ...  3  222  18.7  394.63   2.94  33.4\n",
              " 2    0.06905   0.0   2.18    0  0.458  7.147  ...  3  222  18.7  396.90   5.33  36.2\n",
              " 3    0.02985   0.0   2.18    0  0.458  6.430  ...  3  222  18.7  394.12   5.21  28.7\n",
              " 4    0.08829  12.5   7.87    0  0.524  6.012  ...  5  311  15.2  395.60  12.43  22.9\n",
              " ..       ...   ...    ...  ...    ...    ...  ... ..  ...   ...     ...    ...   ...\n",
              " 499  0.06263   0.0  11.93    0  0.573  6.593  ...  1  273  21.0  391.99   9.67  22.4\n",
              " 500  0.04527   0.0  11.93    0  0.573  6.120  ...  1  273  21.0  396.90   9.08  20.6\n",
              " 501  0.06076   0.0  11.93    0  0.573  6.976  ...  1  273  21.0  396.90   5.64  23.9\n",
              " 502  0.10959   0.0  11.93    0  0.573  6.794  ...  1  273  21.0  393.45   6.48  22.0\n",
              " 503  0.04741   0.0  11.93    0  0.573  6.030  ...  1  273  21.0  396.90   7.88  11.9\n",
              " \n",
              " [504 rows x 14 columns],\n",
              "      0.02731     0   7.07  0.1  0.469  6.421  ...  2  242  17.8   396.9   9.14  21.6\n",
              " 0    0.02729   0.0   7.07    0  0.469  7.185  ...  2  242  17.8  392.83   4.03  34.7\n",
              " 1    0.03237   0.0   2.18    0  0.458  6.998  ...  3  222  18.7  394.63   2.94  33.4\n",
              " 2    0.06905   0.0   2.18    0  0.458  7.147  ...  3  222  18.7  396.90   5.33  36.2\n",
              " 3    0.02985   0.0   2.18    0  0.458  6.430  ...  3  222  18.7  394.12   5.21  28.7\n",
              " 4    0.08829  12.5   7.87    0  0.524  6.012  ...  5  311  15.2  395.60  12.43  22.9\n",
              " ..       ...   ...    ...  ...    ...    ...  ... ..  ...   ...     ...    ...   ...\n",
              " 499  0.06263   0.0  11.93    0  0.573  6.593  ...  1  273  21.0  391.99   9.67  22.4\n",
              " 500  0.04527   0.0  11.93    0  0.573  6.120  ...  1  273  21.0  396.90   9.08  20.6\n",
              " 501  0.06076   0.0  11.93    0  0.573  6.976  ...  1  273  21.0  396.90   5.64  23.9\n",
              " 502  0.10959   0.0  11.93    0  0.573  6.794  ...  1  273  21.0  393.45   6.48  22.0\n",
              " 503  0.04741   0.0  11.93    0  0.573  6.030  ...  1  273  21.0  396.90   7.88  11.9\n",
              " \n",
              " [504 rows x 14 columns],\n",
              "      0.02731     0   7.07  0.1  0.469  6.421  ...  2  242  17.8   396.9   9.14  21.6\n",
              " 0    0.02729   0.0   7.07    0  0.469  7.185  ...  2  242  17.8  392.83   4.03  34.7\n",
              " 1    0.03237   0.0   2.18    0  0.458  6.998  ...  3  222  18.7  394.63   2.94  33.4\n",
              " 2    0.06905   0.0   2.18    0  0.458  7.147  ...  3  222  18.7  396.90   5.33  36.2\n",
              " 3    0.02985   0.0   2.18    0  0.458  6.430  ...  3  222  18.7  394.12   5.21  28.7\n",
              " 4    0.08829  12.5   7.87    0  0.524  6.012  ...  5  311  15.2  395.60  12.43  22.9\n",
              " ..       ...   ...    ...  ...    ...    ...  ... ..  ...   ...     ...    ...   ...\n",
              " 499  0.06263   0.0  11.93    0  0.573  6.593  ...  1  273  21.0  391.99   9.67  22.4\n",
              " 500  0.04527   0.0  11.93    0  0.573  6.120  ...  1  273  21.0  396.90   9.08  20.6\n",
              " 501  0.06076   0.0  11.93    0  0.573  6.976  ...  1  273  21.0  396.90   5.64  23.9\n",
              " 502  0.10959   0.0  11.93    0  0.573  6.794  ...  1  273  21.0  393.45   6.48  22.0\n",
              " 503  0.04741   0.0  11.93    0  0.573  6.030  ...  1  273  21.0  396.90   7.88  11.9\n",
              " \n",
              " [504 rows x 14 columns],\n",
              "      0.02731     0   7.07  0.1  0.469  6.421  ...  2  242  17.8   396.9   9.14  21.6\n",
              " 0    0.02729   0.0   7.07    0  0.469  7.185  ...  2  242  17.8  392.83   4.03  34.7\n",
              " 1    0.03237   0.0   2.18    0  0.458  6.998  ...  3  222  18.7  394.63   2.94  33.4\n",
              " 2    0.06905   0.0   2.18    0  0.458  7.147  ...  3  222  18.7  396.90   5.33  36.2\n",
              " 3    0.02985   0.0   2.18    0  0.458  6.430  ...  3  222  18.7  394.12   5.21  28.7\n",
              " 4    0.08829  12.5   7.87    0  0.524  6.012  ...  5  311  15.2  395.60  12.43  22.9\n",
              " ..       ...   ...    ...  ...    ...    ...  ... ..  ...   ...     ...    ...   ...\n",
              " 499  0.06263   0.0  11.93    0  0.573  6.593  ...  1  273  21.0  391.99   9.67  22.4\n",
              " 500  0.04527   0.0  11.93    0  0.573  6.120  ...  1  273  21.0  396.90   9.08  20.6\n",
              " 501  0.06076   0.0  11.93    0  0.573  6.976  ...  1  273  21.0  396.90   5.64  23.9\n",
              " 502  0.10959   0.0  11.93    0  0.573  6.794  ...  1  273  21.0  393.45   6.48  22.0\n",
              " 503  0.04741   0.0  11.93    0  0.573  6.030  ...  1  273  21.0  396.90   7.88  11.9\n",
              " \n",
              " [504 rows x 14 columns],\n",
              "      0.02731     0   7.07  0.1  0.469  6.421  ...  2  242  17.8   396.9   9.14  21.6\n",
              " 0    0.02729   0.0   7.07    0  0.469  7.185  ...  2  242  17.8  392.83   4.03  34.7\n",
              " 1    0.03237   0.0   2.18    0  0.458  6.998  ...  3  222  18.7  394.63   2.94  33.4\n",
              " 2    0.06905   0.0   2.18    0  0.458  7.147  ...  3  222  18.7  396.90   5.33  36.2\n",
              " 3    0.02985   0.0   2.18    0  0.458  6.430  ...  3  222  18.7  394.12   5.21  28.7\n",
              " 4    0.08829  12.5   7.87    0  0.524  6.012  ...  5  311  15.2  395.60  12.43  22.9\n",
              " ..       ...   ...    ...  ...    ...    ...  ... ..  ...   ...     ...    ...   ...\n",
              " 499  0.06263   0.0  11.93    0  0.573  6.593  ...  1  273  21.0  391.99   9.67  22.4\n",
              " 500  0.04527   0.0  11.93    0  0.573  6.120  ...  1  273  21.0  396.90   9.08  20.6\n",
              " 501  0.06076   0.0  11.93    0  0.573  6.976  ...  1  273  21.0  396.90   5.64  23.9\n",
              " 502  0.10959   0.0  11.93    0  0.573  6.794  ...  1  273  21.0  393.45   6.48  22.0\n",
              " 503  0.04741   0.0  11.93    0  0.573  6.030  ...  1  273  21.0  396.90   7.88  11.9\n",
              " \n",
              " [504 rows x 14 columns],\n",
              "      0.02731     0   7.07  0.1  0.469  6.421  ...  2  242  17.8   396.9   9.14  21.6\n",
              " 0    0.02729   0.0   7.07    0  0.469  7.185  ...  2  242  17.8  392.83   4.03  34.7\n",
              " 1    0.03237   0.0   2.18    0  0.458  6.998  ...  3  222  18.7  394.63   2.94  33.4\n",
              " 2    0.06905   0.0   2.18    0  0.458  7.147  ...  3  222  18.7  396.90   5.33  36.2\n",
              " 3    0.02985   0.0   2.18    0  0.458  6.430  ...  3  222  18.7  394.12   5.21  28.7\n",
              " 4    0.08829  12.5   7.87    0  0.524  6.012  ...  5  311  15.2  395.60  12.43  22.9\n",
              " ..       ...   ...    ...  ...    ...    ...  ... ..  ...   ...     ...    ...   ...\n",
              " 499  0.06263   0.0  11.93    0  0.573  6.593  ...  1  273  21.0  391.99   9.67  22.4\n",
              " 500  0.04527   0.0  11.93    0  0.573  6.120  ...  1  273  21.0  396.90   9.08  20.6\n",
              " 501  0.06076   0.0  11.93    0  0.573  6.976  ...  1  273  21.0  396.90   5.64  23.9\n",
              " 502  0.10959   0.0  11.93    0  0.573  6.794  ...  1  273  21.0  393.45   6.48  22.0\n",
              " 503  0.04741   0.0  11.93    0  0.573  6.030  ...  1  273  21.0  396.90   7.88  11.9\n",
              " \n",
              " [504 rows x 14 columns],\n",
              "      0.02731     0   7.07  0.1  0.469  6.421  ...  2  242  17.8   396.9   9.14  21.6\n",
              " 0    0.02729   0.0   7.07    0  0.469  7.185  ...  2  242  17.8  392.83   4.03  34.7\n",
              " 1    0.03237   0.0   2.18    0  0.458  6.998  ...  3  222  18.7  394.63   2.94  33.4\n",
              " 2    0.06905   0.0   2.18    0  0.458  7.147  ...  3  222  18.7  396.90   5.33  36.2\n",
              " 3    0.02985   0.0   2.18    0  0.458  6.430  ...  3  222  18.7  394.12   5.21  28.7\n",
              " 4    0.08829  12.5   7.87    0  0.524  6.012  ...  5  311  15.2  395.60  12.43  22.9\n",
              " ..       ...   ...    ...  ...    ...    ...  ... ..  ...   ...     ...    ...   ...\n",
              " 499  0.06263   0.0  11.93    0  0.573  6.593  ...  1  273  21.0  391.99   9.67  22.4\n",
              " 500  0.04527   0.0  11.93    0  0.573  6.120  ...  1  273  21.0  396.90   9.08  20.6\n",
              " 501  0.06076   0.0  11.93    0  0.573  6.976  ...  1  273  21.0  396.90   5.64  23.9\n",
              " 502  0.10959   0.0  11.93    0  0.573  6.794  ...  1  273  21.0  393.45   6.48  22.0\n",
              " 503  0.04741   0.0  11.93    0  0.573  6.030  ...  1  273  21.0  396.90   7.88  11.9\n",
              " \n",
              " [504 rows x 14 columns],\n",
              "      0.02731     0   7.07  0.1  0.469  6.421  ...  2  242  17.8   396.9   9.14  21.6\n",
              " 0    0.02729   0.0   7.07    0  0.469  7.185  ...  2  242  17.8  392.83   4.03  34.7\n",
              " 1    0.03237   0.0   2.18    0  0.458  6.998  ...  3  222  18.7  394.63   2.94  33.4\n",
              " 2    0.06905   0.0   2.18    0  0.458  7.147  ...  3  222  18.7  396.90   5.33  36.2\n",
              " 3    0.02985   0.0   2.18    0  0.458  6.430  ...  3  222  18.7  394.12   5.21  28.7\n",
              " 4    0.08829  12.5   7.87    0  0.524  6.012  ...  5  311  15.2  395.60  12.43  22.9\n",
              " ..       ...   ...    ...  ...    ...    ...  ... ..  ...   ...     ...    ...   ...\n",
              " 499  0.06263   0.0  11.93    0  0.573  6.593  ...  1  273  21.0  391.99   9.67  22.4\n",
              " 500  0.04527   0.0  11.93    0  0.573  6.120  ...  1  273  21.0  396.90   9.08  20.6\n",
              " 501  0.06076   0.0  11.93    0  0.573  6.976  ...  1  273  21.0  396.90   5.64  23.9\n",
              " 502  0.10959   0.0  11.93    0  0.573  6.794  ...  1  273  21.0  393.45   6.48  22.0\n",
              " 503  0.04741   0.0  11.93    0  0.573  6.030  ...  1  273  21.0  396.90   7.88  11.9\n",
              " \n",
              " [504 rows x 14 columns],\n",
              "      0.02731     0   7.07  0.1  0.469  6.421  ...  2  242  17.8   396.9   9.14  21.6\n",
              " 0    0.02729   0.0   7.07    0  0.469  7.185  ...  2  242  17.8  392.83   4.03  34.7\n",
              " 1    0.03237   0.0   2.18    0  0.458  6.998  ...  3  222  18.7  394.63   2.94  33.4\n",
              " 2    0.06905   0.0   2.18    0  0.458  7.147  ...  3  222  18.7  396.90   5.33  36.2\n",
              " 3    0.02985   0.0   2.18    0  0.458  6.430  ...  3  222  18.7  394.12   5.21  28.7\n",
              " 4    0.08829  12.5   7.87    0  0.524  6.012  ...  5  311  15.2  395.60  12.43  22.9\n",
              " ..       ...   ...    ...  ...    ...    ...  ... ..  ...   ...     ...    ...   ...\n",
              " 499  0.06263   0.0  11.93    0  0.573  6.593  ...  1  273  21.0  391.99   9.67  22.4\n",
              " 500  0.04527   0.0  11.93    0  0.573  6.120  ...  1  273  21.0  396.90   9.08  20.6\n",
              " 501  0.06076   0.0  11.93    0  0.573  6.976  ...  1  273  21.0  396.90   5.64  23.9\n",
              " 502  0.10959   0.0  11.93    0  0.573  6.794  ...  1  273  21.0  393.45   6.48  22.0\n",
              " 503  0.04741   0.0  11.93    0  0.573  6.030  ...  1  273  21.0  396.90   7.88  11.9\n",
              " \n",
              " [504 rows x 14 columns],\n",
              "      0.02731     0   7.07  0.1  0.469  6.421  ...  2  242  17.8   396.9   9.14  21.6\n",
              " 0    0.02729   0.0   7.07    0  0.469  7.185  ...  2  242  17.8  392.83   4.03  34.7\n",
              " 1    0.03237   0.0   2.18    0  0.458  6.998  ...  3  222  18.7  394.63   2.94  33.4\n",
              " 2    0.06905   0.0   2.18    0  0.458  7.147  ...  3  222  18.7  396.90   5.33  36.2\n",
              " 3    0.02985   0.0   2.18    0  0.458  6.430  ...  3  222  18.7  394.12   5.21  28.7\n",
              " 4    0.08829  12.5   7.87    0  0.524  6.012  ...  5  311  15.2  395.60  12.43  22.9\n",
              " ..       ...   ...    ...  ...    ...    ...  ... ..  ...   ...     ...    ...   ...\n",
              " 499  0.06263   0.0  11.93    0  0.573  6.593  ...  1  273  21.0  391.99   9.67  22.4\n",
              " 500  0.04527   0.0  11.93    0  0.573  6.120  ...  1  273  21.0  396.90   9.08  20.6\n",
              " 501  0.06076   0.0  11.93    0  0.573  6.976  ...  1  273  21.0  396.90   5.64  23.9\n",
              " 502  0.10959   0.0  11.93    0  0.573  6.794  ...  1  273  21.0  393.45   6.48  22.0\n",
              " 503  0.04741   0.0  11.93    0  0.573  6.030  ...  1  273  21.0  396.90   7.88  11.9\n",
              " \n",
              " [504 rows x 14 columns],\n",
              "      0.02731     0   7.07  0.1  0.469  6.421  ...  2  242  17.8   396.9   9.14  21.6\n",
              " 0    0.02729   0.0   7.07    0  0.469  7.185  ...  2  242  17.8  392.83   4.03  34.7\n",
              " 1    0.03237   0.0   2.18    0  0.458  6.998  ...  3  222  18.7  394.63   2.94  33.4\n",
              " 2    0.06905   0.0   2.18    0  0.458  7.147  ...  3  222  18.7  396.90   5.33  36.2\n",
              " 3    0.02985   0.0   2.18    0  0.458  6.430  ...  3  222  18.7  394.12   5.21  28.7\n",
              " 4    0.08829  12.5   7.87    0  0.524  6.012  ...  5  311  15.2  395.60  12.43  22.9\n",
              " ..       ...   ...    ...  ...    ...    ...  ... ..  ...   ...     ...    ...   ...\n",
              " 499  0.06263   0.0  11.93    0  0.573  6.593  ...  1  273  21.0  391.99   9.67  22.4\n",
              " 500  0.04527   0.0  11.93    0  0.573  6.120  ...  1  273  21.0  396.90   9.08  20.6\n",
              " 501  0.06076   0.0  11.93    0  0.573  6.976  ...  1  273  21.0  396.90   5.64  23.9\n",
              " 502  0.10959   0.0  11.93    0  0.573  6.794  ...  1  273  21.0  393.45   6.48  22.0\n",
              " 503  0.04741   0.0  11.93    0  0.573  6.030  ...  1  273  21.0  396.90   7.88  11.9\n",
              " \n",
              " [504 rows x 14 columns],\n",
              "      0.02731     0   7.07  0.1  0.469  6.421  ...  2  242  17.8   396.9   9.14  21.6\n",
              " 0    0.02729   0.0   7.07    0  0.469  7.185  ...  2  242  17.8  392.83   4.03  34.7\n",
              " 1    0.03237   0.0   2.18    0  0.458  6.998  ...  3  222  18.7  394.63   2.94  33.4\n",
              " 2    0.06905   0.0   2.18    0  0.458  7.147  ...  3  222  18.7  396.90   5.33  36.2\n",
              " 3    0.02985   0.0   2.18    0  0.458  6.430  ...  3  222  18.7  394.12   5.21  28.7\n",
              " 4    0.08829  12.5   7.87    0  0.524  6.012  ...  5  311  15.2  395.60  12.43  22.9\n",
              " ..       ...   ...    ...  ...    ...    ...  ... ..  ...   ...     ...    ...   ...\n",
              " 499  0.06263   0.0  11.93    0  0.573  6.593  ...  1  273  21.0  391.99   9.67  22.4\n",
              " 500  0.04527   0.0  11.93    0  0.573  6.120  ...  1  273  21.0  396.90   9.08  20.6\n",
              " 501  0.06076   0.0  11.93    0  0.573  6.976  ...  1  273  21.0  396.90   5.64  23.9\n",
              " 502  0.10959   0.0  11.93    0  0.573  6.794  ...  1  273  21.0  393.45   6.48  22.0\n",
              " 503  0.04741   0.0  11.93    0  0.573  6.030  ...  1  273  21.0  396.90   7.88  11.9\n",
              " \n",
              " [504 rows x 14 columns],\n",
              "      0.02731     0   7.07  0.1  0.469  6.421  ...  2  242  17.8   396.9   9.14  21.6\n",
              " 0    0.02729   0.0   7.07    0  0.469  7.185  ...  2  242  17.8  392.83   4.03  34.7\n",
              " 1    0.03237   0.0   2.18    0  0.458  6.998  ...  3  222  18.7  394.63   2.94  33.4\n",
              " 2    0.06905   0.0   2.18    0  0.458  7.147  ...  3  222  18.7  396.90   5.33  36.2\n",
              " 3    0.02985   0.0   2.18    0  0.458  6.430  ...  3  222  18.7  394.12   5.21  28.7\n",
              " 4    0.08829  12.5   7.87    0  0.524  6.012  ...  5  311  15.2  395.60  12.43  22.9\n",
              " ..       ...   ...    ...  ...    ...    ...  ... ..  ...   ...     ...    ...   ...\n",
              " 499  0.06263   0.0  11.93    0  0.573  6.593  ...  1  273  21.0  391.99   9.67  22.4\n",
              " 500  0.04527   0.0  11.93    0  0.573  6.120  ...  1  273  21.0  396.90   9.08  20.6\n",
              " 501  0.06076   0.0  11.93    0  0.573  6.976  ...  1  273  21.0  396.90   5.64  23.9\n",
              " 502  0.10959   0.0  11.93    0  0.573  6.794  ...  1  273  21.0  393.45   6.48  22.0\n",
              " 503  0.04741   0.0  11.93    0  0.573  6.030  ...  1  273  21.0  396.90   7.88  11.9\n",
              " \n",
              " [504 rows x 14 columns],\n",
              "      0.02731     0   7.07  0.1  0.469  6.421  ...  2  242  17.8   396.9   9.14  21.6\n",
              " 0    0.02729   0.0   7.07    0  0.469  7.185  ...  2  242  17.8  392.83   4.03  34.7\n",
              " 1    0.03237   0.0   2.18    0  0.458  6.998  ...  3  222  18.7  394.63   2.94  33.4\n",
              " 2    0.06905   0.0   2.18    0  0.458  7.147  ...  3  222  18.7  396.90   5.33  36.2\n",
              " 3    0.02985   0.0   2.18    0  0.458  6.430  ...  3  222  18.7  394.12   5.21  28.7\n",
              " 4    0.08829  12.5   7.87    0  0.524  6.012  ...  5  311  15.2  395.60  12.43  22.9\n",
              " ..       ...   ...    ...  ...    ...    ...  ... ..  ...   ...     ...    ...   ...\n",
              " 499  0.06263   0.0  11.93    0  0.573  6.593  ...  1  273  21.0  391.99   9.67  22.4\n",
              " 500  0.04527   0.0  11.93    0  0.573  6.120  ...  1  273  21.0  396.90   9.08  20.6\n",
              " 501  0.06076   0.0  11.93    0  0.573  6.976  ...  1  273  21.0  396.90   5.64  23.9\n",
              " 502  0.10959   0.0  11.93    0  0.573  6.794  ...  1  273  21.0  393.45   6.48  22.0\n",
              " 503  0.04741   0.0  11.93    0  0.573  6.030  ...  1  273  21.0  396.90   7.88  11.9\n",
              " \n",
              " [504 rows x 14 columns],\n",
              "      0.02731     0   7.07  0.1  0.469  6.421  ...  2  242  17.8   396.9   9.14  21.6\n",
              " 0    0.02729   0.0   7.07    0  0.469  7.185  ...  2  242  17.8  392.83   4.03  34.7\n",
              " 1    0.03237   0.0   2.18    0  0.458  6.998  ...  3  222  18.7  394.63   2.94  33.4\n",
              " 2    0.06905   0.0   2.18    0  0.458  7.147  ...  3  222  18.7  396.90   5.33  36.2\n",
              " 3    0.02985   0.0   2.18    0  0.458  6.430  ...  3  222  18.7  394.12   5.21  28.7\n",
              " 4    0.08829  12.5   7.87    0  0.524  6.012  ...  5  311  15.2  395.60  12.43  22.9\n",
              " ..       ...   ...    ...  ...    ...    ...  ... ..  ...   ...     ...    ...   ...\n",
              " 499  0.06263   0.0  11.93    0  0.573  6.593  ...  1  273  21.0  391.99   9.67  22.4\n",
              " 500  0.04527   0.0  11.93    0  0.573  6.120  ...  1  273  21.0  396.90   9.08  20.6\n",
              " 501  0.06076   0.0  11.93    0  0.573  6.976  ...  1  273  21.0  396.90   5.64  23.9\n",
              " 502  0.10959   0.0  11.93    0  0.573  6.794  ...  1  273  21.0  393.45   6.48  22.0\n",
              " 503  0.04741   0.0  11.93    0  0.573  6.030  ...  1  273  21.0  396.90   7.88  11.9\n",
              " \n",
              " [504 rows x 14 columns],\n",
              "      0.02731     0   7.07  0.1  0.469  6.421  ...  2  242  17.8   396.9   9.14  21.6\n",
              " 0    0.02729   0.0   7.07    0  0.469  7.185  ...  2  242  17.8  392.83   4.03  34.7\n",
              " 1    0.03237   0.0   2.18    0  0.458  6.998  ...  3  222  18.7  394.63   2.94  33.4\n",
              " 2    0.06905   0.0   2.18    0  0.458  7.147  ...  3  222  18.7  396.90   5.33  36.2\n",
              " 3    0.02985   0.0   2.18    0  0.458  6.430  ...  3  222  18.7  394.12   5.21  28.7\n",
              " 4    0.08829  12.5   7.87    0  0.524  6.012  ...  5  311  15.2  395.60  12.43  22.9\n",
              " ..       ...   ...    ...  ...    ...    ...  ... ..  ...   ...     ...    ...   ...\n",
              " 499  0.06263   0.0  11.93    0  0.573  6.593  ...  1  273  21.0  391.99   9.67  22.4\n",
              " 500  0.04527   0.0  11.93    0  0.573  6.120  ...  1  273  21.0  396.90   9.08  20.6\n",
              " 501  0.06076   0.0  11.93    0  0.573  6.976  ...  1  273  21.0  396.90   5.64  23.9\n",
              " 502  0.10959   0.0  11.93    0  0.573  6.794  ...  1  273  21.0  393.45   6.48  22.0\n",
              " 503  0.04741   0.0  11.93    0  0.573  6.030  ...  1  273  21.0  396.90   7.88  11.9\n",
              " \n",
              " [504 rows x 14 columns],\n",
              "      0.02731     0   7.07  0.1  0.469  6.421  ...  2  242  17.8   396.9   9.14  21.6\n",
              " 0    0.02729   0.0   7.07    0  0.469  7.185  ...  2  242  17.8  392.83   4.03  34.7\n",
              " 1    0.03237   0.0   2.18    0  0.458  6.998  ...  3  222  18.7  394.63   2.94  33.4\n",
              " 2    0.06905   0.0   2.18    0  0.458  7.147  ...  3  222  18.7  396.90   5.33  36.2\n",
              " 3    0.02985   0.0   2.18    0  0.458  6.430  ...  3  222  18.7  394.12   5.21  28.7\n",
              " 4    0.08829  12.5   7.87    0  0.524  6.012  ...  5  311  15.2  395.60  12.43  22.9\n",
              " ..       ...   ...    ...  ...    ...    ...  ... ..  ...   ...     ...    ...   ...\n",
              " 499  0.06263   0.0  11.93    0  0.573  6.593  ...  1  273  21.0  391.99   9.67  22.4\n",
              " 500  0.04527   0.0  11.93    0  0.573  6.120  ...  1  273  21.0  396.90   9.08  20.6\n",
              " 501  0.06076   0.0  11.93    0  0.573  6.976  ...  1  273  21.0  396.90   5.64  23.9\n",
              " 502  0.10959   0.0  11.93    0  0.573  6.794  ...  1  273  21.0  393.45   6.48  22.0\n",
              " 503  0.04741   0.0  11.93    0  0.573  6.030  ...  1  273  21.0  396.90   7.88  11.9\n",
              " \n",
              " [504 rows x 14 columns],\n",
              "      0.02731     0   7.07  0.1  0.469  6.421  ...  2  242  17.8   396.9   9.14  21.6\n",
              " 0    0.02729   0.0   7.07    0  0.469  7.185  ...  2  242  17.8  392.83   4.03  34.7\n",
              " 1    0.03237   0.0   2.18    0  0.458  6.998  ...  3  222  18.7  394.63   2.94  33.4\n",
              " 2    0.06905   0.0   2.18    0  0.458  7.147  ...  3  222  18.7  396.90   5.33  36.2\n",
              " 3    0.02985   0.0   2.18    0  0.458  6.430  ...  3  222  18.7  394.12   5.21  28.7\n",
              " 4    0.08829  12.5   7.87    0  0.524  6.012  ...  5  311  15.2  395.60  12.43  22.9\n",
              " ..       ...   ...    ...  ...    ...    ...  ... ..  ...   ...     ...    ...   ...\n",
              " 499  0.06263   0.0  11.93    0  0.573  6.593  ...  1  273  21.0  391.99   9.67  22.4\n",
              " 500  0.04527   0.0  11.93    0  0.573  6.120  ...  1  273  21.0  396.90   9.08  20.6\n",
              " 501  0.06076   0.0  11.93    0  0.573  6.976  ...  1  273  21.0  396.90   5.64  23.9\n",
              " 502  0.10959   0.0  11.93    0  0.573  6.794  ...  1  273  21.0  393.45   6.48  22.0\n",
              " 503  0.04741   0.0  11.93    0  0.573  6.030  ...  1  273  21.0  396.90   7.88  11.9\n",
              " \n",
              " [504 rows x 14 columns],\n",
              "      0.02731     0   7.07  0.1  0.469  6.421  ...  2  242  17.8   396.9   9.14  21.6\n",
              " 0    0.02729   0.0   7.07    0  0.469  7.185  ...  2  242  17.8  392.83   4.03  34.7\n",
              " 1    0.03237   0.0   2.18    0  0.458  6.998  ...  3  222  18.7  394.63   2.94  33.4\n",
              " 2    0.06905   0.0   2.18    0  0.458  7.147  ...  3  222  18.7  396.90   5.33  36.2\n",
              " 3    0.02985   0.0   2.18    0  0.458  6.430  ...  3  222  18.7  394.12   5.21  28.7\n",
              " 4    0.08829  12.5   7.87    0  0.524  6.012  ...  5  311  15.2  395.60  12.43  22.9\n",
              " ..       ...   ...    ...  ...    ...    ...  ... ..  ...   ...     ...    ...   ...\n",
              " 499  0.06263   0.0  11.93    0  0.573  6.593  ...  1  273  21.0  391.99   9.67  22.4\n",
              " 500  0.04527   0.0  11.93    0  0.573  6.120  ...  1  273  21.0  396.90   9.08  20.6\n",
              " 501  0.06076   0.0  11.93    0  0.573  6.976  ...  1  273  21.0  396.90   5.64  23.9\n",
              " 502  0.10959   0.0  11.93    0  0.573  6.794  ...  1  273  21.0  393.45   6.48  22.0\n",
              " 503  0.04741   0.0  11.93    0  0.573  6.030  ...  1  273  21.0  396.90   7.88  11.9\n",
              " \n",
              " [504 rows x 14 columns],\n",
              "      0.02731     0   7.07  0.1  0.469  6.421  ...  2  242  17.8   396.9   9.14  21.6\n",
              " 0    0.02729   0.0   7.07    0  0.469  7.185  ...  2  242  17.8  392.83   4.03  34.7\n",
              " 1    0.03237   0.0   2.18    0  0.458  6.998  ...  3  222  18.7  394.63   2.94  33.4\n",
              " 2    0.06905   0.0   2.18    0  0.458  7.147  ...  3  222  18.7  396.90   5.33  36.2\n",
              " 3    0.02985   0.0   2.18    0  0.458  6.430  ...  3  222  18.7  394.12   5.21  28.7\n",
              " 4    0.08829  12.5   7.87    0  0.524  6.012  ...  5  311  15.2  395.60  12.43  22.9\n",
              " ..       ...   ...    ...  ...    ...    ...  ... ..  ...   ...     ...    ...   ...\n",
              " 499  0.06263   0.0  11.93    0  0.573  6.593  ...  1  273  21.0  391.99   9.67  22.4\n",
              " 500  0.04527   0.0  11.93    0  0.573  6.120  ...  1  273  21.0  396.90   9.08  20.6\n",
              " 501  0.06076   0.0  11.93    0  0.573  6.976  ...  1  273  21.0  396.90   5.64  23.9\n",
              " 502  0.10959   0.0  11.93    0  0.573  6.794  ...  1  273  21.0  393.45   6.48  22.0\n",
              " 503  0.04741   0.0  11.93    0  0.573  6.030  ...  1  273  21.0  396.90   7.88  11.9\n",
              " \n",
              " [504 rows x 14 columns],\n",
              "      0.02731     0   7.07  0.1  0.469  6.421  ...  2  242  17.8   396.9   9.14  21.6\n",
              " 0    0.02729   0.0   7.07    0  0.469  7.185  ...  2  242  17.8  392.83   4.03  34.7\n",
              " 1    0.03237   0.0   2.18    0  0.458  6.998  ...  3  222  18.7  394.63   2.94  33.4\n",
              " 2    0.06905   0.0   2.18    0  0.458  7.147  ...  3  222  18.7  396.90   5.33  36.2\n",
              " 3    0.02985   0.0   2.18    0  0.458  6.430  ...  3  222  18.7  394.12   5.21  28.7\n",
              " 4    0.08829  12.5   7.87    0  0.524  6.012  ...  5  311  15.2  395.60  12.43  22.9\n",
              " ..       ...   ...    ...  ...    ...    ...  ... ..  ...   ...     ...    ...   ...\n",
              " 499  0.06263   0.0  11.93    0  0.573  6.593  ...  1  273  21.0  391.99   9.67  22.4\n",
              " 500  0.04527   0.0  11.93    0  0.573  6.120  ...  1  273  21.0  396.90   9.08  20.6\n",
              " 501  0.06076   0.0  11.93    0  0.573  6.976  ...  1  273  21.0  396.90   5.64  23.9\n",
              " 502  0.10959   0.0  11.93    0  0.573  6.794  ...  1  273  21.0  393.45   6.48  22.0\n",
              " 503  0.04741   0.0  11.93    0  0.573  6.030  ...  1  273  21.0  396.90   7.88  11.9\n",
              " \n",
              " [504 rows x 14 columns],\n",
              "      0.02731     0   7.07  0.1  0.469  6.421  ...  2  242  17.8   396.9   9.14  21.6\n",
              " 0    0.02729   0.0   7.07    0  0.469  7.185  ...  2  242  17.8  392.83   4.03  34.7\n",
              " 1    0.03237   0.0   2.18    0  0.458  6.998  ...  3  222  18.7  394.63   2.94  33.4\n",
              " 2    0.06905   0.0   2.18    0  0.458  7.147  ...  3  222  18.7  396.90   5.33  36.2\n",
              " 3    0.02985   0.0   2.18    0  0.458  6.430  ...  3  222  18.7  394.12   5.21  28.7\n",
              " 4    0.08829  12.5   7.87    0  0.524  6.012  ...  5  311  15.2  395.60  12.43  22.9\n",
              " ..       ...   ...    ...  ...    ...    ...  ... ..  ...   ...     ...    ...   ...\n",
              " 499  0.06263   0.0  11.93    0  0.573  6.593  ...  1  273  21.0  391.99   9.67  22.4\n",
              " 500  0.04527   0.0  11.93    0  0.573  6.120  ...  1  273  21.0  396.90   9.08  20.6\n",
              " 501  0.06076   0.0  11.93    0  0.573  6.976  ...  1  273  21.0  396.90   5.64  23.9\n",
              " 502  0.10959   0.0  11.93    0  0.573  6.794  ...  1  273  21.0  393.45   6.48  22.0\n",
              " 503  0.04741   0.0  11.93    0  0.573  6.030  ...  1  273  21.0  396.90   7.88  11.9\n",
              " \n",
              " [504 rows x 14 columns],\n",
              "      0.02731     0   7.07  0.1  0.469  6.421  ...  2  242  17.8   396.9   9.14  21.6\n",
              " 0    0.02729   0.0   7.07    0  0.469  7.185  ...  2  242  17.8  392.83   4.03  34.7\n",
              " 1    0.03237   0.0   2.18    0  0.458  6.998  ...  3  222  18.7  394.63   2.94  33.4\n",
              " 2    0.06905   0.0   2.18    0  0.458  7.147  ...  3  222  18.7  396.90   5.33  36.2\n",
              " 3    0.02985   0.0   2.18    0  0.458  6.430  ...  3  222  18.7  394.12   5.21  28.7\n",
              " 4    0.08829  12.5   7.87    0  0.524  6.012  ...  5  311  15.2  395.60  12.43  22.9\n",
              " ..       ...   ...    ...  ...    ...    ...  ... ..  ...   ...     ...    ...   ...\n",
              " 499  0.06263   0.0  11.93    0  0.573  6.593  ...  1  273  21.0  391.99   9.67  22.4\n",
              " 500  0.04527   0.0  11.93    0  0.573  6.120  ...  1  273  21.0  396.90   9.08  20.6\n",
              " 501  0.06076   0.0  11.93    0  0.573  6.976  ...  1  273  21.0  396.90   5.64  23.9\n",
              " 502  0.10959   0.0  11.93    0  0.573  6.794  ...  1  273  21.0  393.45   6.48  22.0\n",
              " 503  0.04741   0.0  11.93    0  0.573  6.030  ...  1  273  21.0  396.90   7.88  11.9\n",
              " \n",
              " [504 rows x 14 columns],\n",
              "      0.02731     0   7.07  0.1  0.469  6.421  ...  2  242  17.8   396.9   9.14  21.6\n",
              " 0    0.02729   0.0   7.07    0  0.469  7.185  ...  2  242  17.8  392.83   4.03  34.7\n",
              " 1    0.03237   0.0   2.18    0  0.458  6.998  ...  3  222  18.7  394.63   2.94  33.4\n",
              " 2    0.06905   0.0   2.18    0  0.458  7.147  ...  3  222  18.7  396.90   5.33  36.2\n",
              " 3    0.02985   0.0   2.18    0  0.458  6.430  ...  3  222  18.7  394.12   5.21  28.7\n",
              " 4    0.08829  12.5   7.87    0  0.524  6.012  ...  5  311  15.2  395.60  12.43  22.9\n",
              " ..       ...   ...    ...  ...    ...    ...  ... ..  ...   ...     ...    ...   ...\n",
              " 499  0.06263   0.0  11.93    0  0.573  6.593  ...  1  273  21.0  391.99   9.67  22.4\n",
              " 500  0.04527   0.0  11.93    0  0.573  6.120  ...  1  273  21.0  396.90   9.08  20.6\n",
              " 501  0.06076   0.0  11.93    0  0.573  6.976  ...  1  273  21.0  396.90   5.64  23.9\n",
              " 502  0.10959   0.0  11.93    0  0.573  6.794  ...  1  273  21.0  393.45   6.48  22.0\n",
              " 503  0.04741   0.0  11.93    0  0.573  6.030  ...  1  273  21.0  396.90   7.88  11.9\n",
              " \n",
              " [504 rows x 14 columns],\n",
              "      0.02731     0   7.07  0.1  0.469  6.421  ...  2  242  17.8   396.9   9.14  21.6\n",
              " 0    0.02729   0.0   7.07    0  0.469  7.185  ...  2  242  17.8  392.83   4.03  34.7\n",
              " 1    0.03237   0.0   2.18    0  0.458  6.998  ...  3  222  18.7  394.63   2.94  33.4\n",
              " 2    0.06905   0.0   2.18    0  0.458  7.147  ...  3  222  18.7  396.90   5.33  36.2\n",
              " 3    0.02985   0.0   2.18    0  0.458  6.430  ...  3  222  18.7  394.12   5.21  28.7\n",
              " 4    0.08829  12.5   7.87    0  0.524  6.012  ...  5  311  15.2  395.60  12.43  22.9\n",
              " ..       ...   ...    ...  ...    ...    ...  ... ..  ...   ...     ...    ...   ...\n",
              " 499  0.06263   0.0  11.93    0  0.573  6.593  ...  1  273  21.0  391.99   9.67  22.4\n",
              " 500  0.04527   0.0  11.93    0  0.573  6.120  ...  1  273  21.0  396.90   9.08  20.6\n",
              " 501  0.06076   0.0  11.93    0  0.573  6.976  ...  1  273  21.0  396.90   5.64  23.9\n",
              " 502  0.10959   0.0  11.93    0  0.573  6.794  ...  1  273  21.0  393.45   6.48  22.0\n",
              " 503  0.04741   0.0  11.93    0  0.573  6.030  ...  1  273  21.0  396.90   7.88  11.9\n",
              " \n",
              " [504 rows x 14 columns]]"
            ]
          },
          "metadata": {
            "tags": []
          },
          "execution_count": 46
        }
      ]
    },
    {
      "cell_type": "code",
      "metadata": {
        "id": "NjAGcWDZpCi2"
      },
      "source": [
        ""
      ],
      "execution_count": null,
      "outputs": []
    }
  ]
}