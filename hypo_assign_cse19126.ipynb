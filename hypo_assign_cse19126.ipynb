{
  "nbformat": 4,
  "nbformat_minor": 0,
  "metadata": {
    "colab": {
      "name": "hypo_assign_cse19126.ipynb",
      "provenance": []
    },
    "kernelspec": {
      "name": "python3",
      "display_name": "Python 3"
    },
    "language_info": {
      "name": "python"
    }
  },
  "cells": [
    {
      "cell_type": "code",
      "metadata": {
        "id": "E0rAeKtE_u9y"
      },
      "source": [
        "import numpy as np\n",
        "import scipy.stats as st\n",
        "import pandas as pd"
      ],
      "execution_count": 9,
      "outputs": []
    },
    {
      "cell_type": "code",
      "metadata": {
        "colab": {
          "base_uri": "https://localhost:8080/"
        },
        "id": "IrnP0C_W_1-X",
        "outputId": "b928f181-e028-4da1-d05c-82b4e609fa42"
      },
      "source": [
        "#q1 - left tail test - z test\n",
        "#H0 : μ =25.3, Ha :  μ <25.3\n",
        "n = 100\n",
        "xbar = 23.9 #sample\n",
        "mu = 25.3  #population\n",
        "sigma = 6.39\n",
        "alpha = 0.01\n",
        "z_critical = abs(st.norm.ppf(alpha)) \n",
        "#z_critical\n",
        "z = (xbar-mu)/(sigma/np.sqrt(n))\n",
        "#z\n",
        "if (z<z_critical): \n",
        "    print(\"Null hypothesis cannot be rejected\")\n",
        "else:\n",
        "    print(\"Reject null hypothesis\")"
      ],
      "execution_count": 70,
      "outputs": [
        {
          "output_type": "stream",
          "name": "stdout",
          "text": [
            "Null hypothesis cannot be rejected\n"
          ]
        }
      ]
    },
    {
      "cell_type": "code",
      "metadata": {
        "id": "rZ0m_AvEAWW6"
      },
      "source": [
        "#q2 - z test with p val\n",
        "#H0 : μ =10 and Ha : μ <10\n",
        "n = 35\n",
        "xbar = 9.25\n",
        "mu = 10\n",
        "sigma = 2\n",
        "alpha = 0.05\n",
        "z = (xbar-mu)/(sigma/np.sqrt(n))\n"
      ],
      "execution_count": 4,
      "outputs": []
    },
    {
      "cell_type": "code",
      "metadata": {
        "colab": {
          "base_uri": "https://localhost:8080/"
        },
        "id": "OVD5wYtLBtx0",
        "outputId": "b78ea203-e2a7-4519-9a6d-ef833f46c4b0"
      },
      "source": [
        "p_val = (st.norm.cdf(abs(z)))\n",
        "p_val"
      ],
      "execution_count": 7,
      "outputs": [
        {
          "output_type": "execute_result",
          "data": {
            "text/plain": [
              "0.9867406390202846"
            ]
          },
          "metadata": {},
          "execution_count": 7
        }
      ]
    },
    {
      "cell_type": "code",
      "metadata": {
        "colab": {
          "base_uri": "https://localhost:8080/"
        },
        "id": "i8oJqaerBuhg",
        "outputId": "0b8bd254-cc7c-42eb-bf91-c21e1fa94c79"
      },
      "source": [
        "if (p_val>alpha):\n",
        "    print(\"Null hypothesis cannot be rejected\")\n",
        "else:\n",
        "    print(\"Reject null hypothesis\")"
      ],
      "execution_count": 8,
      "outputs": [
        {
          "output_type": "stream",
          "name": "stdout",
          "text": [
            "Null hypothesis cannot be rejected\n"
          ]
        }
      ]
    },
    {
      "cell_type": "code",
      "metadata": {
        "colab": {
          "base_uri": "https://localhost:8080/"
        },
        "id": "uh2jyYCDB3Ya",
        "outputId": "4570f958-94d3-450a-ce03-f28c0661d275"
      },
      "source": [
        "#q3 - t test \n",
        "arr = np.array([8.90,70.20,15.00,29.10,141.00,48.60,83.00,72.70,75.30,59.20,32.40,19.00,190.10])\n",
        "xbar = np.mean(arr, axis=0)\n",
        "\n",
        "#H0 : μ =50, Ha : μ >50\n",
        "n = len(arr)\n",
        "degrees_of_freedom = n-1\n",
        "s = np.std(arr)\n",
        "mu = 50\n",
        "alpha = 0.10\n",
        "t = (xbar-mu)/(s/np.sqrt(n))\n",
        "\n",
        "p_val = (1 - st.t.cdf(abs(t),degrees_of_freedom))\n",
        "\n",
        "if (p_val>alpha):\n",
        "    print(\"Null hypothesis cannot be rejected\")\n",
        "else:\n",
        "    print(\"Reject null hypothesis\")"
      ],
      "execution_count": 68,
      "outputs": [
        {
          "output_type": "stream",
          "name": "stdout",
          "text": [
            "Null hypothesis cannot be rejected\n"
          ]
        }
      ]
    },
    {
      "cell_type": "code",
      "metadata": {
        "colab": {
          "base_uri": "https://localhost:8080/"
        },
        "id": "w-0A8TC8CZm-",
        "outputId": "3b5d7035-a8f7-4d96-eb95-b5105be33051"
      },
      "source": [
        "#q4 - t test  right tail\n",
        "arr = np.array([210,210.2,208.5,209,211.6,206.4,212,209.7,210.3])\n",
        "xbar = np.mean(arr, axis=0)\n",
        "\n",
        "#H0 : μ =208, Ha : μ >208\n",
        "n = len(arr)\n",
        "degrees_of_freedom = n-1\n",
        "s = np.std(arr,axis=0)\n",
        "mu = 208\n",
        "alpha = 0.01\n",
        "t = (xbar-mu)/(s/np.sqrt(n))\n",
        "\n",
        "t_critical = st.t.ppf(alpha,degrees_of_freedom)\n",
        "\n",
        "if (abs(t)>abs(t_critical)): \n",
        "    print(\"Null hypothesis cannot be rejected\")\n",
        "else:\n",
        "    print(\"Reject null hypothesis\")"
      ],
      "execution_count": 61,
      "outputs": [
        {
          "output_type": "stream",
          "name": "stdout",
          "text": [
            "Null hypothesis cannot be rejected\n"
          ]
        }
      ]
    },
    {
      "cell_type": "code",
      "metadata": {
        "colab": {
          "base_uri": "https://localhost:8080/"
        },
        "id": "uD5TiX4NC0w1",
        "outputId": "dbfdcf8b-8cf9-4466-8e50-9cc3b10a9747"
      },
      "source": [
        "#q5 \n",
        "# - Right Tail z test \n",
        "#H0 : μ =60.2, Ha :  μ >60.2\n",
        "p = 260/400\n",
        "alpha = 0.05\n",
        "po = 0.602\n",
        "n = 400\n",
        "\n",
        "z = (p - po) / np.sqrt((po*(1 - po)/n))\n",
        "p_val = (1-st.norm.cdf(abs(z)))\n",
        "if (p_val>alpha):\n",
        "    print(\"Null hypothesis cannot be rejected\")\n",
        "else:\n",
        "    print(\"Reject null hypothesis\")"
      ],
      "execution_count": 58,
      "outputs": [
        {
          "output_type": "stream",
          "name": "stdout",
          "text": [
            "Reject null hypothesis\n"
          ]
        }
      ]
    },
    {
      "cell_type": "code",
      "metadata": {
        "colab": {
          "base_uri": "https://localhost:8080/"
        },
        "id": "P-GOUbIcDKpm",
        "outputId": "aa1fd337-0a9a-422a-c10e-a31d5dbe4a75"
      },
      "source": [
        "#q6 \n",
        "#H0 : p = 0.65, Ha :  p!=0.65\n",
        "p = 57/80\n",
        "alpha = 0.05\n",
        "po = 0.65\n",
        "n = 80\n",
        "\n",
        "z = (p - po) / np.sqrt((po*(1 - po)/n))\n",
        "p_val = 2*(1-st.norm.cdf(abs(z)))\n",
        "if (p_val>alpha):\n",
        "    print(\"Null hypothesis cannot be rejected\")\n",
        "else:\n",
        "    print(\"Reject null hypothesis\")"
      ],
      "execution_count": 55,
      "outputs": [
        {
          "output_type": "stream",
          "name": "stdout",
          "text": [
            "Null hypothesis cannot be rejected\n"
          ]
        }
      ]
    },
    {
      "cell_type": "code",
      "metadata": {
        "colab": {
          "base_uri": "https://localhost:8080/"
        },
        "id": "j0icWKOTDO34",
        "outputId": "237e786d-d2fd-468a-a859-ba97f841972a"
      },
      "source": [
        "#q7 - Right Tail z test with p val\n",
        "#H0 : μ =20.5, Ha :  μ >20.5\n",
        "p = 38/120\n",
        "alpha = 0.10\n",
        "po = 0.205\n",
        "n = 120\n",
        "\n",
        "z = (p - po) / np.sqrt((po*(1 - po)/n))\n",
        "p_val = (1-st.norm.cdf(abs(z)))\n",
        "if (p_val>alpha):\n",
        "    print(\"Null hypothesis cannot be rejected\")\n",
        "else:\n",
        "    print(\"Reject null hypothesis\")"
      ],
      "execution_count": 57,
      "outputs": [
        {
          "output_type": "stream",
          "name": "stdout",
          "text": [
            "Reject null hypothesis\n"
          ]
        }
      ]
    },
    {
      "cell_type": "code",
      "metadata": {
        "colab": {
          "base_uri": "https://localhost:8080/"
        },
        "id": "-KuvcOEQFmT4",
        "outputId": "5fe281c6-344b-48fc-ffbb-3c1ab5084ede"
      },
      "source": [
        "#q8 - Two tail test\n",
        "#H0 : sigma_square = 3.81 , Ha : sigma_square != 3.81\n",
        "n = 15\n",
        "degrees_of_freedom = n-1\n",
        "s_square = 2.08\n",
        "sigma_square = 3.81\n",
        "alpha = 0.05\n",
        "chi_square = ((n-1)*s_square) / (sigma_square)\n",
        "chi_square_critical =  st.chi2.ppf(alpha,degrees_of_freedom)*2\n",
        "if (chi_square > chi_square_critical):\n",
        "    print(\"Null hypothesis cannot be rejected\")\n",
        "else:\n",
        "    print(\"Reject null hypothesis\")"
      ],
      "execution_count": 36,
      "outputs": [
        {
          "output_type": "stream",
          "name": "stdout",
          "text": [
            "Reject null hypothesis\n"
          ]
        }
      ]
    },
    {
      "cell_type": "code",
      "metadata": {
        "colab": {
          "base_uri": "https://localhost:8080/"
        },
        "id": "8E7F1tmXFpOy",
        "outputId": "d11c5701-1f6d-4960-faa7-27b9c6b0c643"
      },
      "source": [
        "#q9 - Two tail test\n",
        "#H0 : sigma = 3.3, Ha : sigma != 3.3\n",
        "n = 18\n",
        "degrees_of_freedom = n-1\n",
        "s = 2.8\n",
        "sigma = 3.3\n",
        "alpha = 0.10\n",
        "chi_square = ((n-1)*(s**2))/(sigma**2)\n",
        "#chi_square\n",
        "p_val = st.chi2.cdf(chi_square,degrees_of_freedom)*2\n",
        "#p_val\n",
        "if (p_val > alpha):\n",
        "    print(\"Null hypothesis cannot be rejected\")\n",
        "else:\n",
        "    print(\"Reject null hypothesis\")"
      ],
      "execution_count": 34,
      "outputs": [
        {
          "output_type": "stream",
          "name": "stdout",
          "text": [
            "Null hypothesis cannot be rejected\n"
          ]
        }
      ]
    },
    {
      "cell_type": "code",
      "metadata": {
        "colab": {
          "base_uri": "https://localhost:8080/"
        },
        "id": "GqZH2NkXFpni",
        "outputId": "9ef2c743-852f-46ec-b304-0c69f2fd5b7a"
      },
      "source": [
        "#q10 - two tail test - z test \n",
        "#H0 : μ =35, Ha : μ !=35\n",
        "n = 36\n",
        "xbar = 33.5 #sample\n",
        "mu = 35 #population\n",
        "sigma = 3\n",
        "alpha = 0.10\n",
        "z_critical = abs(st.norm.ppf(alpha/2)) \n",
        "#z_critical\n",
        "z = (xbar-mu)/(sigma/np.sqrt(n))\n",
        "#z\n",
        "if (z<z_critical): \n",
        "    print(\"Null hypothesis cannot be rejected\")\n",
        "else:\n",
        "    print(\"Reject null hypothesis\")"
      ],
      "execution_count": 29,
      "outputs": [
        {
          "output_type": "stream",
          "name": "stdout",
          "text": [
            "Null hypothesis cannot be rejected\n"
          ]
        }
      ]
    },
    {
      "cell_type": "code",
      "metadata": {
        "colab": {
          "base_uri": "https://localhost:8080/"
        },
        "id": "sRsyRNxLFsWF",
        "outputId": "ba819807-d925-4ad9-a96a-4cfbc2c52341"
      },
      "source": [
        "first = (st.norm.ppf(0.05))\n",
        "last = st.norm.ppf(0.95)\n",
        "print(\"90% interval = \", first, \" to\", last)"
      ],
      "execution_count": 39,
      "outputs": [
        {
          "output_type": "stream",
          "name": "stdout",
          "text": [
            "90% interval =  -1.6448536269514729  to 1.6448536269514722\n"
          ]
        }
      ]
    },
    {
      "cell_type": "code",
      "metadata": {
        "id": "zQrsfzetIenk"
      },
      "source": [
        ""
      ],
      "execution_count": 39,
      "outputs": []
    },
    {
      "cell_type": "code",
      "metadata": {
        "id": "hWYz8aCYIfVL"
      },
      "source": [
        ""
      ],
      "execution_count": null,
      "outputs": []
    }
  ]
}