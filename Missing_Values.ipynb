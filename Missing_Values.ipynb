{
  "nbformat": 4,
  "nbformat_minor": 0,
  "metadata": {
    "colab": {
      "name": "Missing Values.ipynb",
      "provenance": [],
      "authorship_tag": "ABX9TyPHKk2uesFYXXf/MAjOoJkW",
      "include_colab_link": true
    },
    "kernelspec": {
      "name": "python3",
      "display_name": "Python 3"
    },
    "language_info": {
      "name": "python"
    }
  },
  "cells": [
    {
      "cell_type": "markdown",
      "metadata": {
        "id": "view-in-github",
        "colab_type": "text"
      },
      "source": [
        "<a href=\"https://colab.research.google.com/github/darshan-jain/19CSE304/blob/main/Missing_Values.ipynb\" target=\"_parent\"><img src=\"https://colab.research.google.com/assets/colab-badge.svg\" alt=\"Open In Colab\"/></a>"
      ]
    },
    {
      "cell_type": "code",
      "metadata": {
        "id": "5mPUUrnaj_1N"
      },
      "source": [
        "import pandas as pd"
      ],
      "execution_count": 1,
      "outputs": []
    },
    {
      "cell_type": "code",
      "metadata": {
        "id": "JBxnuUXfkDlx"
      },
      "source": [
        "df = pd.read_csv('https://raw.githubusercontent.com/dayanandv/Data-Science/main/dataset/property%20data.csv')\n"
      ],
      "execution_count": 2,
      "outputs": []
    },
    {
      "cell_type": "code",
      "metadata": {
        "colab": {
          "base_uri": "https://localhost:8080/",
          "height": 348
        },
        "id": "y_knXbgbkX07",
        "outputId": "8d7f70ec-964e-41eb-a65a-509171f86172"
      },
      "source": [
        "df"
      ],
      "execution_count": 3,
      "outputs": [
        {
          "output_type": "execute_result",
          "data": {
            "text/html": [
              "<div>\n",
              "<style scoped>\n",
              "    .dataframe tbody tr th:only-of-type {\n",
              "        vertical-align: middle;\n",
              "    }\n",
              "\n",
              "    .dataframe tbody tr th {\n",
              "        vertical-align: top;\n",
              "    }\n",
              "\n",
              "    .dataframe thead th {\n",
              "        text-align: right;\n",
              "    }\n",
              "</style>\n",
              "<table border=\"1\" class=\"dataframe\">\n",
              "  <thead>\n",
              "    <tr style=\"text-align: right;\">\n",
              "      <th></th>\n",
              "      <th>PID</th>\n",
              "      <th>ST_NUM</th>\n",
              "      <th>ST_NAME</th>\n",
              "      <th>OWN_OCCUPIED</th>\n",
              "      <th>NUM_BEDROOMS</th>\n",
              "      <th>NUM_BATH</th>\n",
              "      <th>SQ_FT</th>\n",
              "    </tr>\n",
              "  </thead>\n",
              "  <tbody>\n",
              "    <tr>\n",
              "      <th>0</th>\n",
              "      <td>100001000.0</td>\n",
              "      <td>104.0</td>\n",
              "      <td>PUTNAM</td>\n",
              "      <td>Y</td>\n",
              "      <td>3</td>\n",
              "      <td>1</td>\n",
              "      <td>1000</td>\n",
              "    </tr>\n",
              "    <tr>\n",
              "      <th>1</th>\n",
              "      <td>100002000.0</td>\n",
              "      <td>197.0</td>\n",
              "      <td>LEXINGTON</td>\n",
              "      <td>N</td>\n",
              "      <td>3</td>\n",
              "      <td>1.5</td>\n",
              "      <td>--</td>\n",
              "    </tr>\n",
              "    <tr>\n",
              "      <th>2</th>\n",
              "      <td>100003000.0</td>\n",
              "      <td>NaN</td>\n",
              "      <td>LEXINGTON</td>\n",
              "      <td>N</td>\n",
              "      <td>NaN</td>\n",
              "      <td>1</td>\n",
              "      <td>850</td>\n",
              "    </tr>\n",
              "    <tr>\n",
              "      <th>3</th>\n",
              "      <td>100004000.0</td>\n",
              "      <td>201.0</td>\n",
              "      <td>BERKELEY</td>\n",
              "      <td>12</td>\n",
              "      <td>1</td>\n",
              "      <td>NaN</td>\n",
              "      <td>700</td>\n",
              "    </tr>\n",
              "    <tr>\n",
              "      <th>4</th>\n",
              "      <td>NaN</td>\n",
              "      <td>203.0</td>\n",
              "      <td>BERKELEY</td>\n",
              "      <td>Y</td>\n",
              "      <td>3</td>\n",
              "      <td>2</td>\n",
              "      <td>1600</td>\n",
              "    </tr>\n",
              "    <tr>\n",
              "      <th>5</th>\n",
              "      <td>100006000.0</td>\n",
              "      <td>207.0</td>\n",
              "      <td>BERKELEY</td>\n",
              "      <td>Y</td>\n",
              "      <td>NaN</td>\n",
              "      <td>1</td>\n",
              "      <td>800</td>\n",
              "    </tr>\n",
              "    <tr>\n",
              "      <th>6</th>\n",
              "      <td>100007000.0</td>\n",
              "      <td>NaN</td>\n",
              "      <td>WASHINGTON</td>\n",
              "      <td>NaN</td>\n",
              "      <td>2</td>\n",
              "      <td>HURLEY</td>\n",
              "      <td>950</td>\n",
              "    </tr>\n",
              "    <tr>\n",
              "      <th>7</th>\n",
              "      <td>100008000.0</td>\n",
              "      <td>213.0</td>\n",
              "      <td>TREMONT</td>\n",
              "      <td>Y</td>\n",
              "      <td>1</td>\n",
              "      <td>1</td>\n",
              "      <td>NaN</td>\n",
              "    </tr>\n",
              "    <tr>\n",
              "      <th>8</th>\n",
              "      <td>100009000.0</td>\n",
              "      <td>215.0</td>\n",
              "      <td>TREMONT</td>\n",
              "      <td>Y</td>\n",
              "      <td>na</td>\n",
              "      <td>2</td>\n",
              "      <td>1800</td>\n",
              "    </tr>\n",
              "  </tbody>\n",
              "</table>\n",
              "</div>"
            ],
            "text/plain": [
              "           PID  ST_NUM     ST_NAME OWN_OCCUPIED NUM_BEDROOMS NUM_BATH SQ_FT\n",
              "0  100001000.0   104.0      PUTNAM            Y            3        1  1000\n",
              "1  100002000.0   197.0   LEXINGTON            N            3      1.5    --\n",
              "2  100003000.0     NaN   LEXINGTON            N          NaN        1   850\n",
              "3  100004000.0   201.0    BERKELEY           12            1      NaN   700\n",
              "4          NaN   203.0    BERKELEY            Y            3        2  1600\n",
              "5  100006000.0   207.0    BERKELEY            Y          NaN        1   800\n",
              "6  100007000.0     NaN  WASHINGTON          NaN            2   HURLEY   950\n",
              "7  100008000.0   213.0     TREMONT            Y            1        1   NaN\n",
              "8  100009000.0   215.0     TREMONT            Y           na        2  1800"
            ]
          },
          "metadata": {
            "tags": []
          },
          "execution_count": 3
        }
      ]
    },
    {
      "cell_type": "code",
      "metadata": {
        "colab": {
          "base_uri": "https://localhost:8080/"
        },
        "id": "brfaAyqCkYmd",
        "outputId": "1f73bd2e-79a0-4766-eeec-fc9fb1724ebb"
      },
      "source": [
        "#Nan - Not a number \n",
        "\n",
        "df.dtypes"
      ],
      "execution_count": 4,
      "outputs": [
        {
          "output_type": "execute_result",
          "data": {
            "text/plain": [
              "PID             float64\n",
              "ST_NUM          float64\n",
              "ST_NAME          object\n",
              "OWN_OCCUPIED     object\n",
              "NUM_BEDROOMS     object\n",
              "NUM_BATH         object\n",
              "SQ_FT            object\n",
              "dtype: object"
            ]
          },
          "metadata": {
            "tags": []
          },
          "execution_count": 4
        }
      ]
    },
    {
      "cell_type": "code",
      "metadata": {
        "colab": {
          "base_uri": "https://localhost:8080/"
        },
        "id": "dIsNAj5VlGaG",
        "outputId": "52e9bed7-69b7-4bd3-d2d8-5005683a2338"
      },
      "source": [
        "#check for null return types \n",
        "df['ST_NUM'].isnull()"
      ],
      "execution_count": 5,
      "outputs": [
        {
          "output_type": "execute_result",
          "data": {
            "text/plain": [
              "0    False\n",
              "1    False\n",
              "2     True\n",
              "3    False\n",
              "4    False\n",
              "5    False\n",
              "6     True\n",
              "7    False\n",
              "8    False\n",
              "Name: ST_NUM, dtype: bool"
            ]
          },
          "metadata": {
            "tags": []
          },
          "execution_count": 5
        }
      ]
    },
    {
      "cell_type": "code",
      "metadata": {
        "colab": {
          "base_uri": "https://localhost:8080/"
        },
        "id": "NAcO28CLliDP",
        "outputId": "a84559d1-239e-4111-fe0d-1de717c20255"
      },
      "source": [
        "df['SQ_FT'].isnull()"
      ],
      "execution_count": 6,
      "outputs": [
        {
          "output_type": "execute_result",
          "data": {
            "text/plain": [
              "0    False\n",
              "1    False\n",
              "2    False\n",
              "3    False\n",
              "4    False\n",
              "5    False\n",
              "6    False\n",
              "7     True\n",
              "8    False\n",
              "Name: SQ_FT, dtype: bool"
            ]
          },
          "metadata": {
            "tags": []
          },
          "execution_count": 6
        }
      ]
    },
    {
      "cell_type": "code",
      "metadata": {
        "colab": {
          "base_uri": "https://localhost:8080/",
          "height": 348
        },
        "id": "CQr5bjejl-aS",
        "outputId": "93c1227d-5611-41b7-b179-bc3728957016"
      },
      "source": [
        "#replaces missing values in a more sensible format \n",
        "missing_values = ['na','--']\n",
        "df = pd.read_csv('https://raw.githubusercontent.com/dayanandv/Data-Science/main/dataset/property%20data.csv',na_values=missing_values)\n",
        "df\n"
      ],
      "execution_count": 7,
      "outputs": [
        {
          "output_type": "execute_result",
          "data": {
            "text/html": [
              "<div>\n",
              "<style scoped>\n",
              "    .dataframe tbody tr th:only-of-type {\n",
              "        vertical-align: middle;\n",
              "    }\n",
              "\n",
              "    .dataframe tbody tr th {\n",
              "        vertical-align: top;\n",
              "    }\n",
              "\n",
              "    .dataframe thead th {\n",
              "        text-align: right;\n",
              "    }\n",
              "</style>\n",
              "<table border=\"1\" class=\"dataframe\">\n",
              "  <thead>\n",
              "    <tr style=\"text-align: right;\">\n",
              "      <th></th>\n",
              "      <th>PID</th>\n",
              "      <th>ST_NUM</th>\n",
              "      <th>ST_NAME</th>\n",
              "      <th>OWN_OCCUPIED</th>\n",
              "      <th>NUM_BEDROOMS</th>\n",
              "      <th>NUM_BATH</th>\n",
              "      <th>SQ_FT</th>\n",
              "    </tr>\n",
              "  </thead>\n",
              "  <tbody>\n",
              "    <tr>\n",
              "      <th>0</th>\n",
              "      <td>100001000.0</td>\n",
              "      <td>104.0</td>\n",
              "      <td>PUTNAM</td>\n",
              "      <td>Y</td>\n",
              "      <td>3.0</td>\n",
              "      <td>1</td>\n",
              "      <td>1000.0</td>\n",
              "    </tr>\n",
              "    <tr>\n",
              "      <th>1</th>\n",
              "      <td>100002000.0</td>\n",
              "      <td>197.0</td>\n",
              "      <td>LEXINGTON</td>\n",
              "      <td>N</td>\n",
              "      <td>3.0</td>\n",
              "      <td>1.5</td>\n",
              "      <td>NaN</td>\n",
              "    </tr>\n",
              "    <tr>\n",
              "      <th>2</th>\n",
              "      <td>100003000.0</td>\n",
              "      <td>NaN</td>\n",
              "      <td>LEXINGTON</td>\n",
              "      <td>N</td>\n",
              "      <td>NaN</td>\n",
              "      <td>1</td>\n",
              "      <td>850.0</td>\n",
              "    </tr>\n",
              "    <tr>\n",
              "      <th>3</th>\n",
              "      <td>100004000.0</td>\n",
              "      <td>201.0</td>\n",
              "      <td>BERKELEY</td>\n",
              "      <td>12</td>\n",
              "      <td>1.0</td>\n",
              "      <td>NaN</td>\n",
              "      <td>700.0</td>\n",
              "    </tr>\n",
              "    <tr>\n",
              "      <th>4</th>\n",
              "      <td>NaN</td>\n",
              "      <td>203.0</td>\n",
              "      <td>BERKELEY</td>\n",
              "      <td>Y</td>\n",
              "      <td>3.0</td>\n",
              "      <td>2</td>\n",
              "      <td>1600.0</td>\n",
              "    </tr>\n",
              "    <tr>\n",
              "      <th>5</th>\n",
              "      <td>100006000.0</td>\n",
              "      <td>207.0</td>\n",
              "      <td>BERKELEY</td>\n",
              "      <td>Y</td>\n",
              "      <td>NaN</td>\n",
              "      <td>1</td>\n",
              "      <td>800.0</td>\n",
              "    </tr>\n",
              "    <tr>\n",
              "      <th>6</th>\n",
              "      <td>100007000.0</td>\n",
              "      <td>NaN</td>\n",
              "      <td>WASHINGTON</td>\n",
              "      <td>NaN</td>\n",
              "      <td>2.0</td>\n",
              "      <td>HURLEY</td>\n",
              "      <td>950.0</td>\n",
              "    </tr>\n",
              "    <tr>\n",
              "      <th>7</th>\n",
              "      <td>100008000.0</td>\n",
              "      <td>213.0</td>\n",
              "      <td>TREMONT</td>\n",
              "      <td>Y</td>\n",
              "      <td>1.0</td>\n",
              "      <td>1</td>\n",
              "      <td>NaN</td>\n",
              "    </tr>\n",
              "    <tr>\n",
              "      <th>8</th>\n",
              "      <td>100009000.0</td>\n",
              "      <td>215.0</td>\n",
              "      <td>TREMONT</td>\n",
              "      <td>Y</td>\n",
              "      <td>NaN</td>\n",
              "      <td>2</td>\n",
              "      <td>1800.0</td>\n",
              "    </tr>\n",
              "  </tbody>\n",
              "</table>\n",
              "</div>"
            ],
            "text/plain": [
              "           PID  ST_NUM     ST_NAME OWN_OCCUPIED  NUM_BEDROOMS NUM_BATH   SQ_FT\n",
              "0  100001000.0   104.0      PUTNAM            Y           3.0        1  1000.0\n",
              "1  100002000.0   197.0   LEXINGTON            N           3.0      1.5     NaN\n",
              "2  100003000.0     NaN   LEXINGTON            N           NaN        1   850.0\n",
              "3  100004000.0   201.0    BERKELEY           12           1.0      NaN   700.0\n",
              "4          NaN   203.0    BERKELEY            Y           3.0        2  1600.0\n",
              "5  100006000.0   207.0    BERKELEY            Y           NaN        1   800.0\n",
              "6  100007000.0     NaN  WASHINGTON          NaN           2.0   HURLEY   950.0\n",
              "7  100008000.0   213.0     TREMONT            Y           1.0        1     NaN\n",
              "8  100009000.0   215.0     TREMONT            Y           NaN        2  1800.0"
            ]
          },
          "metadata": {
            "tags": []
          },
          "execution_count": 7
        }
      ]
    },
    {
      "cell_type": "code",
      "metadata": {
        "id": "3Fshv6tjnIRy",
        "colab": {
          "base_uri": "https://localhost:8080/",
          "height": 348
        },
        "outputId": "a39e3543-4b79-4431-8410-582da3150738"
      },
      "source": [
        "# replace illogical values with Nan using regular expression\n",
        "import numpy as np\n",
        "df['OWN_OCCUPIED'] = df['OWN_OCCUPIED'].replace(r'[0-9]+',np.nan,regex=True)\n",
        "df['NUM_BATH'] = df['NUM_BATH'].replace(r'[A-Za-z]+',np.nan,regex=True)\n",
        "df"
      ],
      "execution_count": 8,
      "outputs": [
        {
          "output_type": "execute_result",
          "data": {
            "text/html": [
              "<div>\n",
              "<style scoped>\n",
              "    .dataframe tbody tr th:only-of-type {\n",
              "        vertical-align: middle;\n",
              "    }\n",
              "\n",
              "    .dataframe tbody tr th {\n",
              "        vertical-align: top;\n",
              "    }\n",
              "\n",
              "    .dataframe thead th {\n",
              "        text-align: right;\n",
              "    }\n",
              "</style>\n",
              "<table border=\"1\" class=\"dataframe\">\n",
              "  <thead>\n",
              "    <tr style=\"text-align: right;\">\n",
              "      <th></th>\n",
              "      <th>PID</th>\n",
              "      <th>ST_NUM</th>\n",
              "      <th>ST_NAME</th>\n",
              "      <th>OWN_OCCUPIED</th>\n",
              "      <th>NUM_BEDROOMS</th>\n",
              "      <th>NUM_BATH</th>\n",
              "      <th>SQ_FT</th>\n",
              "    </tr>\n",
              "  </thead>\n",
              "  <tbody>\n",
              "    <tr>\n",
              "      <th>0</th>\n",
              "      <td>100001000.0</td>\n",
              "      <td>104.0</td>\n",
              "      <td>PUTNAM</td>\n",
              "      <td>Y</td>\n",
              "      <td>3.0</td>\n",
              "      <td>1</td>\n",
              "      <td>1000.0</td>\n",
              "    </tr>\n",
              "    <tr>\n",
              "      <th>1</th>\n",
              "      <td>100002000.0</td>\n",
              "      <td>197.0</td>\n",
              "      <td>LEXINGTON</td>\n",
              "      <td>N</td>\n",
              "      <td>3.0</td>\n",
              "      <td>1.5</td>\n",
              "      <td>NaN</td>\n",
              "    </tr>\n",
              "    <tr>\n",
              "      <th>2</th>\n",
              "      <td>100003000.0</td>\n",
              "      <td>NaN</td>\n",
              "      <td>LEXINGTON</td>\n",
              "      <td>N</td>\n",
              "      <td>NaN</td>\n",
              "      <td>1</td>\n",
              "      <td>850.0</td>\n",
              "    </tr>\n",
              "    <tr>\n",
              "      <th>3</th>\n",
              "      <td>100004000.0</td>\n",
              "      <td>201.0</td>\n",
              "      <td>BERKELEY</td>\n",
              "      <td>NaN</td>\n",
              "      <td>1.0</td>\n",
              "      <td>NaN</td>\n",
              "      <td>700.0</td>\n",
              "    </tr>\n",
              "    <tr>\n",
              "      <th>4</th>\n",
              "      <td>NaN</td>\n",
              "      <td>203.0</td>\n",
              "      <td>BERKELEY</td>\n",
              "      <td>Y</td>\n",
              "      <td>3.0</td>\n",
              "      <td>2</td>\n",
              "      <td>1600.0</td>\n",
              "    </tr>\n",
              "    <tr>\n",
              "      <th>5</th>\n",
              "      <td>100006000.0</td>\n",
              "      <td>207.0</td>\n",
              "      <td>BERKELEY</td>\n",
              "      <td>Y</td>\n",
              "      <td>NaN</td>\n",
              "      <td>1</td>\n",
              "      <td>800.0</td>\n",
              "    </tr>\n",
              "    <tr>\n",
              "      <th>6</th>\n",
              "      <td>100007000.0</td>\n",
              "      <td>NaN</td>\n",
              "      <td>WASHINGTON</td>\n",
              "      <td>NaN</td>\n",
              "      <td>2.0</td>\n",
              "      <td>NaN</td>\n",
              "      <td>950.0</td>\n",
              "    </tr>\n",
              "    <tr>\n",
              "      <th>7</th>\n",
              "      <td>100008000.0</td>\n",
              "      <td>213.0</td>\n",
              "      <td>TREMONT</td>\n",
              "      <td>Y</td>\n",
              "      <td>1.0</td>\n",
              "      <td>1</td>\n",
              "      <td>NaN</td>\n",
              "    </tr>\n",
              "    <tr>\n",
              "      <th>8</th>\n",
              "      <td>100009000.0</td>\n",
              "      <td>215.0</td>\n",
              "      <td>TREMONT</td>\n",
              "      <td>Y</td>\n",
              "      <td>NaN</td>\n",
              "      <td>2</td>\n",
              "      <td>1800.0</td>\n",
              "    </tr>\n",
              "  </tbody>\n",
              "</table>\n",
              "</div>"
            ],
            "text/plain": [
              "           PID  ST_NUM     ST_NAME OWN_OCCUPIED  NUM_BEDROOMS NUM_BATH   SQ_FT\n",
              "0  100001000.0   104.0      PUTNAM            Y           3.0        1  1000.0\n",
              "1  100002000.0   197.0   LEXINGTON            N           3.0      1.5     NaN\n",
              "2  100003000.0     NaN   LEXINGTON            N           NaN        1   850.0\n",
              "3  100004000.0   201.0    BERKELEY          NaN           1.0      NaN   700.0\n",
              "4          NaN   203.0    BERKELEY            Y           3.0        2  1600.0\n",
              "5  100006000.0   207.0    BERKELEY            Y           NaN        1   800.0\n",
              "6  100007000.0     NaN  WASHINGTON          NaN           2.0      NaN   950.0\n",
              "7  100008000.0   213.0     TREMONT            Y           1.0        1     NaN\n",
              "8  100009000.0   215.0     TREMONT            Y           NaN        2  1800.0"
            ]
          },
          "metadata": {
            "tags": []
          },
          "execution_count": 8
        }
      ]
    },
    {
      "cell_type": "code",
      "metadata": {
        "colab": {
          "base_uri": "https://localhost:8080/"
        },
        "id": "uaaOxChRRLty",
        "outputId": "05c5e6f7-1cad-4cb1-9506-8fa47f5fcf32"
      },
      "source": [
        "df.isnull().sum()  # full summary for missing data"
      ],
      "execution_count": 9,
      "outputs": [
        {
          "output_type": "execute_result",
          "data": {
            "text/plain": [
              "PID             1\n",
              "ST_NUM          2\n",
              "ST_NAME         0\n",
              "OWN_OCCUPIED    2\n",
              "NUM_BEDROOMS    3\n",
              "NUM_BATH        2\n",
              "SQ_FT           2\n",
              "dtype: int64"
            ]
          },
          "metadata": {
            "tags": []
          },
          "execution_count": 9
        }
      ]
    },
    {
      "cell_type": "code",
      "metadata": {
        "colab": {
          "base_uri": "https://localhost:8080/"
        },
        "id": "rl0J1CieRRTs",
        "outputId": "e0043dc7-d0f4-4b01-d3bf-5cfab0236f8f"
      },
      "source": [
        "df.isnull().sum().sum() # total null values "
      ],
      "execution_count": 10,
      "outputs": [
        {
          "output_type": "execute_result",
          "data": {
            "text/plain": [
              "12"
            ]
          },
          "metadata": {
            "tags": []
          },
          "execution_count": 10
        }
      ]
    },
    {
      "cell_type": "code",
      "metadata": {
        "colab": {
          "base_uri": "https://localhost:8080/",
          "height": 348
        },
        "id": "0-8G7kERRki7",
        "outputId": "c2931ef8-9683-4260-b6c6-afa2d11f05cb"
      },
      "source": [
        "#replace missing values in whole dataframe\n",
        "#backfill - inputation - Nan replaced with next row column value.\n",
        "df.fillna(method='bfill')\n",
        "#disadvantage - last row can't be filled "
      ],
      "execution_count": 11,
      "outputs": [
        {
          "output_type": "execute_result",
          "data": {
            "text/html": [
              "<div>\n",
              "<style scoped>\n",
              "    .dataframe tbody tr th:only-of-type {\n",
              "        vertical-align: middle;\n",
              "    }\n",
              "\n",
              "    .dataframe tbody tr th {\n",
              "        vertical-align: top;\n",
              "    }\n",
              "\n",
              "    .dataframe thead th {\n",
              "        text-align: right;\n",
              "    }\n",
              "</style>\n",
              "<table border=\"1\" class=\"dataframe\">\n",
              "  <thead>\n",
              "    <tr style=\"text-align: right;\">\n",
              "      <th></th>\n",
              "      <th>PID</th>\n",
              "      <th>ST_NUM</th>\n",
              "      <th>ST_NAME</th>\n",
              "      <th>OWN_OCCUPIED</th>\n",
              "      <th>NUM_BEDROOMS</th>\n",
              "      <th>NUM_BATH</th>\n",
              "      <th>SQ_FT</th>\n",
              "    </tr>\n",
              "  </thead>\n",
              "  <tbody>\n",
              "    <tr>\n",
              "      <th>0</th>\n",
              "      <td>100001000.0</td>\n",
              "      <td>104.0</td>\n",
              "      <td>PUTNAM</td>\n",
              "      <td>Y</td>\n",
              "      <td>3.0</td>\n",
              "      <td>1</td>\n",
              "      <td>1000.0</td>\n",
              "    </tr>\n",
              "    <tr>\n",
              "      <th>1</th>\n",
              "      <td>100002000.0</td>\n",
              "      <td>197.0</td>\n",
              "      <td>LEXINGTON</td>\n",
              "      <td>N</td>\n",
              "      <td>3.0</td>\n",
              "      <td>1.5</td>\n",
              "      <td>850.0</td>\n",
              "    </tr>\n",
              "    <tr>\n",
              "      <th>2</th>\n",
              "      <td>100003000.0</td>\n",
              "      <td>201.0</td>\n",
              "      <td>LEXINGTON</td>\n",
              "      <td>N</td>\n",
              "      <td>1.0</td>\n",
              "      <td>1</td>\n",
              "      <td>850.0</td>\n",
              "    </tr>\n",
              "    <tr>\n",
              "      <th>3</th>\n",
              "      <td>100004000.0</td>\n",
              "      <td>201.0</td>\n",
              "      <td>BERKELEY</td>\n",
              "      <td>Y</td>\n",
              "      <td>1.0</td>\n",
              "      <td>2</td>\n",
              "      <td>700.0</td>\n",
              "    </tr>\n",
              "    <tr>\n",
              "      <th>4</th>\n",
              "      <td>100006000.0</td>\n",
              "      <td>203.0</td>\n",
              "      <td>BERKELEY</td>\n",
              "      <td>Y</td>\n",
              "      <td>3.0</td>\n",
              "      <td>2</td>\n",
              "      <td>1600.0</td>\n",
              "    </tr>\n",
              "    <tr>\n",
              "      <th>5</th>\n",
              "      <td>100006000.0</td>\n",
              "      <td>207.0</td>\n",
              "      <td>BERKELEY</td>\n",
              "      <td>Y</td>\n",
              "      <td>2.0</td>\n",
              "      <td>1</td>\n",
              "      <td>800.0</td>\n",
              "    </tr>\n",
              "    <tr>\n",
              "      <th>6</th>\n",
              "      <td>100007000.0</td>\n",
              "      <td>213.0</td>\n",
              "      <td>WASHINGTON</td>\n",
              "      <td>Y</td>\n",
              "      <td>2.0</td>\n",
              "      <td>1</td>\n",
              "      <td>950.0</td>\n",
              "    </tr>\n",
              "    <tr>\n",
              "      <th>7</th>\n",
              "      <td>100008000.0</td>\n",
              "      <td>213.0</td>\n",
              "      <td>TREMONT</td>\n",
              "      <td>Y</td>\n",
              "      <td>1.0</td>\n",
              "      <td>1</td>\n",
              "      <td>1800.0</td>\n",
              "    </tr>\n",
              "    <tr>\n",
              "      <th>8</th>\n",
              "      <td>100009000.0</td>\n",
              "      <td>215.0</td>\n",
              "      <td>TREMONT</td>\n",
              "      <td>Y</td>\n",
              "      <td>NaN</td>\n",
              "      <td>2</td>\n",
              "      <td>1800.0</td>\n",
              "    </tr>\n",
              "  </tbody>\n",
              "</table>\n",
              "</div>"
            ],
            "text/plain": [
              "           PID  ST_NUM     ST_NAME OWN_OCCUPIED  NUM_BEDROOMS NUM_BATH   SQ_FT\n",
              "0  100001000.0   104.0      PUTNAM            Y           3.0        1  1000.0\n",
              "1  100002000.0   197.0   LEXINGTON            N           3.0      1.5   850.0\n",
              "2  100003000.0   201.0   LEXINGTON            N           1.0        1   850.0\n",
              "3  100004000.0   201.0    BERKELEY            Y           1.0        2   700.0\n",
              "4  100006000.0   203.0    BERKELEY            Y           3.0        2  1600.0\n",
              "5  100006000.0   207.0    BERKELEY            Y           2.0        1   800.0\n",
              "6  100007000.0   213.0  WASHINGTON            Y           2.0        1   950.0\n",
              "7  100008000.0   213.0     TREMONT            Y           1.0        1  1800.0\n",
              "8  100009000.0   215.0     TREMONT            Y           NaN        2  1800.0"
            ]
          },
          "metadata": {
            "tags": []
          },
          "execution_count": 11
        }
      ]
    },
    {
      "cell_type": "code",
      "metadata": {
        "colab": {
          "base_uri": "https://localhost:8080/",
          "height": 348
        },
        "id": "ByOTt2h-SKND",
        "outputId": "82226d7c-8b64-423a-c998-9f7bcae9fbfb"
      },
      "source": [
        "#fill with custom value \n",
        "#dp.replace(to_replace = np.nan,value=-99)\n",
        "df.fillna('abcd')"
      ],
      "execution_count": 12,
      "outputs": [
        {
          "output_type": "execute_result",
          "data": {
            "text/html": [
              "<div>\n",
              "<style scoped>\n",
              "    .dataframe tbody tr th:only-of-type {\n",
              "        vertical-align: middle;\n",
              "    }\n",
              "\n",
              "    .dataframe tbody tr th {\n",
              "        vertical-align: top;\n",
              "    }\n",
              "\n",
              "    .dataframe thead th {\n",
              "        text-align: right;\n",
              "    }\n",
              "</style>\n",
              "<table border=\"1\" class=\"dataframe\">\n",
              "  <thead>\n",
              "    <tr style=\"text-align: right;\">\n",
              "      <th></th>\n",
              "      <th>PID</th>\n",
              "      <th>ST_NUM</th>\n",
              "      <th>ST_NAME</th>\n",
              "      <th>OWN_OCCUPIED</th>\n",
              "      <th>NUM_BEDROOMS</th>\n",
              "      <th>NUM_BATH</th>\n",
              "      <th>SQ_FT</th>\n",
              "    </tr>\n",
              "  </thead>\n",
              "  <tbody>\n",
              "    <tr>\n",
              "      <th>0</th>\n",
              "      <td>1.00001e+08</td>\n",
              "      <td>104</td>\n",
              "      <td>PUTNAM</td>\n",
              "      <td>Y</td>\n",
              "      <td>3</td>\n",
              "      <td>1</td>\n",
              "      <td>1000</td>\n",
              "    </tr>\n",
              "    <tr>\n",
              "      <th>1</th>\n",
              "      <td>1.00002e+08</td>\n",
              "      <td>197</td>\n",
              "      <td>LEXINGTON</td>\n",
              "      <td>N</td>\n",
              "      <td>3</td>\n",
              "      <td>1.5</td>\n",
              "      <td>abcd</td>\n",
              "    </tr>\n",
              "    <tr>\n",
              "      <th>2</th>\n",
              "      <td>1.00003e+08</td>\n",
              "      <td>abcd</td>\n",
              "      <td>LEXINGTON</td>\n",
              "      <td>N</td>\n",
              "      <td>abcd</td>\n",
              "      <td>1</td>\n",
              "      <td>850</td>\n",
              "    </tr>\n",
              "    <tr>\n",
              "      <th>3</th>\n",
              "      <td>1.00004e+08</td>\n",
              "      <td>201</td>\n",
              "      <td>BERKELEY</td>\n",
              "      <td>abcd</td>\n",
              "      <td>1</td>\n",
              "      <td>abcd</td>\n",
              "      <td>700</td>\n",
              "    </tr>\n",
              "    <tr>\n",
              "      <th>4</th>\n",
              "      <td>abcd</td>\n",
              "      <td>203</td>\n",
              "      <td>BERKELEY</td>\n",
              "      <td>Y</td>\n",
              "      <td>3</td>\n",
              "      <td>2</td>\n",
              "      <td>1600</td>\n",
              "    </tr>\n",
              "    <tr>\n",
              "      <th>5</th>\n",
              "      <td>1.00006e+08</td>\n",
              "      <td>207</td>\n",
              "      <td>BERKELEY</td>\n",
              "      <td>Y</td>\n",
              "      <td>abcd</td>\n",
              "      <td>1</td>\n",
              "      <td>800</td>\n",
              "    </tr>\n",
              "    <tr>\n",
              "      <th>6</th>\n",
              "      <td>1.00007e+08</td>\n",
              "      <td>abcd</td>\n",
              "      <td>WASHINGTON</td>\n",
              "      <td>abcd</td>\n",
              "      <td>2</td>\n",
              "      <td>abcd</td>\n",
              "      <td>950</td>\n",
              "    </tr>\n",
              "    <tr>\n",
              "      <th>7</th>\n",
              "      <td>1.00008e+08</td>\n",
              "      <td>213</td>\n",
              "      <td>TREMONT</td>\n",
              "      <td>Y</td>\n",
              "      <td>1</td>\n",
              "      <td>1</td>\n",
              "      <td>abcd</td>\n",
              "    </tr>\n",
              "    <tr>\n",
              "      <th>8</th>\n",
              "      <td>1.00009e+08</td>\n",
              "      <td>215</td>\n",
              "      <td>TREMONT</td>\n",
              "      <td>Y</td>\n",
              "      <td>abcd</td>\n",
              "      <td>2</td>\n",
              "      <td>1800</td>\n",
              "    </tr>\n",
              "  </tbody>\n",
              "</table>\n",
              "</div>"
            ],
            "text/plain": [
              "           PID ST_NUM     ST_NAME OWN_OCCUPIED NUM_BEDROOMS NUM_BATH SQ_FT\n",
              "0  1.00001e+08    104      PUTNAM            Y            3        1  1000\n",
              "1  1.00002e+08    197   LEXINGTON            N            3      1.5  abcd\n",
              "2  1.00003e+08   abcd   LEXINGTON            N         abcd        1   850\n",
              "3  1.00004e+08    201    BERKELEY         abcd            1     abcd   700\n",
              "4         abcd    203    BERKELEY            Y            3        2  1600\n",
              "5  1.00006e+08    207    BERKELEY            Y         abcd        1   800\n",
              "6  1.00007e+08   abcd  WASHINGTON         abcd            2     abcd   950\n",
              "7  1.00008e+08    213     TREMONT            Y            1        1  abcd\n",
              "8  1.00009e+08    215     TREMONT            Y         abcd        2  1800"
            ]
          },
          "metadata": {
            "tags": []
          },
          "execution_count": 12
        }
      ]
    },
    {
      "cell_type": "code",
      "metadata": {
        "colab": {
          "base_uri": "https://localhost:8080/",
          "height": 348
        },
        "id": "nWctZeqJSx2R",
        "outputId": "ec047fcb-72e1-41a8-93fe-2ae368ec006e"
      },
      "source": [
        "df"
      ],
      "execution_count": 13,
      "outputs": [
        {
          "output_type": "execute_result",
          "data": {
            "text/html": [
              "<div>\n",
              "<style scoped>\n",
              "    .dataframe tbody tr th:only-of-type {\n",
              "        vertical-align: middle;\n",
              "    }\n",
              "\n",
              "    .dataframe tbody tr th {\n",
              "        vertical-align: top;\n",
              "    }\n",
              "\n",
              "    .dataframe thead th {\n",
              "        text-align: right;\n",
              "    }\n",
              "</style>\n",
              "<table border=\"1\" class=\"dataframe\">\n",
              "  <thead>\n",
              "    <tr style=\"text-align: right;\">\n",
              "      <th></th>\n",
              "      <th>PID</th>\n",
              "      <th>ST_NUM</th>\n",
              "      <th>ST_NAME</th>\n",
              "      <th>OWN_OCCUPIED</th>\n",
              "      <th>NUM_BEDROOMS</th>\n",
              "      <th>NUM_BATH</th>\n",
              "      <th>SQ_FT</th>\n",
              "    </tr>\n",
              "  </thead>\n",
              "  <tbody>\n",
              "    <tr>\n",
              "      <th>0</th>\n",
              "      <td>100001000.0</td>\n",
              "      <td>104.0</td>\n",
              "      <td>PUTNAM</td>\n",
              "      <td>Y</td>\n",
              "      <td>3.0</td>\n",
              "      <td>1</td>\n",
              "      <td>1000.0</td>\n",
              "    </tr>\n",
              "    <tr>\n",
              "      <th>1</th>\n",
              "      <td>100002000.0</td>\n",
              "      <td>197.0</td>\n",
              "      <td>LEXINGTON</td>\n",
              "      <td>N</td>\n",
              "      <td>3.0</td>\n",
              "      <td>1.5</td>\n",
              "      <td>NaN</td>\n",
              "    </tr>\n",
              "    <tr>\n",
              "      <th>2</th>\n",
              "      <td>100003000.0</td>\n",
              "      <td>NaN</td>\n",
              "      <td>LEXINGTON</td>\n",
              "      <td>N</td>\n",
              "      <td>NaN</td>\n",
              "      <td>1</td>\n",
              "      <td>850.0</td>\n",
              "    </tr>\n",
              "    <tr>\n",
              "      <th>3</th>\n",
              "      <td>100004000.0</td>\n",
              "      <td>201.0</td>\n",
              "      <td>BERKELEY</td>\n",
              "      <td>NaN</td>\n",
              "      <td>1.0</td>\n",
              "      <td>NaN</td>\n",
              "      <td>700.0</td>\n",
              "    </tr>\n",
              "    <tr>\n",
              "      <th>4</th>\n",
              "      <td>NaN</td>\n",
              "      <td>203.0</td>\n",
              "      <td>BERKELEY</td>\n",
              "      <td>Y</td>\n",
              "      <td>3.0</td>\n",
              "      <td>2</td>\n",
              "      <td>1600.0</td>\n",
              "    </tr>\n",
              "    <tr>\n",
              "      <th>5</th>\n",
              "      <td>100006000.0</td>\n",
              "      <td>207.0</td>\n",
              "      <td>BERKELEY</td>\n",
              "      <td>Y</td>\n",
              "      <td>NaN</td>\n",
              "      <td>1</td>\n",
              "      <td>800.0</td>\n",
              "    </tr>\n",
              "    <tr>\n",
              "      <th>6</th>\n",
              "      <td>100007000.0</td>\n",
              "      <td>NaN</td>\n",
              "      <td>WASHINGTON</td>\n",
              "      <td>NaN</td>\n",
              "      <td>2.0</td>\n",
              "      <td>NaN</td>\n",
              "      <td>950.0</td>\n",
              "    </tr>\n",
              "    <tr>\n",
              "      <th>7</th>\n",
              "      <td>100008000.0</td>\n",
              "      <td>213.0</td>\n",
              "      <td>TREMONT</td>\n",
              "      <td>Y</td>\n",
              "      <td>1.0</td>\n",
              "      <td>1</td>\n",
              "      <td>NaN</td>\n",
              "    </tr>\n",
              "    <tr>\n",
              "      <th>8</th>\n",
              "      <td>100009000.0</td>\n",
              "      <td>215.0</td>\n",
              "      <td>TREMONT</td>\n",
              "      <td>Y</td>\n",
              "      <td>NaN</td>\n",
              "      <td>2</td>\n",
              "      <td>1800.0</td>\n",
              "    </tr>\n",
              "  </tbody>\n",
              "</table>\n",
              "</div>"
            ],
            "text/plain": [
              "           PID  ST_NUM     ST_NAME OWN_OCCUPIED  NUM_BEDROOMS NUM_BATH   SQ_FT\n",
              "0  100001000.0   104.0      PUTNAM            Y           3.0        1  1000.0\n",
              "1  100002000.0   197.0   LEXINGTON            N           3.0      1.5     NaN\n",
              "2  100003000.0     NaN   LEXINGTON            N           NaN        1   850.0\n",
              "3  100004000.0   201.0    BERKELEY          NaN           1.0      NaN   700.0\n",
              "4          NaN   203.0    BERKELEY            Y           3.0        2  1600.0\n",
              "5  100006000.0   207.0    BERKELEY            Y           NaN        1   800.0\n",
              "6  100007000.0     NaN  WASHINGTON          NaN           2.0      NaN   950.0\n",
              "7  100008000.0   213.0     TREMONT            Y           1.0        1     NaN\n",
              "8  100009000.0   215.0     TREMONT            Y           NaN        2  1800.0"
            ]
          },
          "metadata": {
            "tags": []
          },
          "execution_count": 13
        }
      ]
    },
    {
      "cell_type": "code",
      "metadata": {
        "colab": {
          "base_uri": "https://localhost:8080/",
          "height": 80
        },
        "id": "gLyda1B7Sy9d",
        "outputId": "85793103-0554-4655-b018-bac7616c46fa"
      },
      "source": [
        "#drop all nan rows\n",
        "df.dropna()"
      ],
      "execution_count": 14,
      "outputs": [
        {
          "output_type": "execute_result",
          "data": {
            "text/html": [
              "<div>\n",
              "<style scoped>\n",
              "    .dataframe tbody tr th:only-of-type {\n",
              "        vertical-align: middle;\n",
              "    }\n",
              "\n",
              "    .dataframe tbody tr th {\n",
              "        vertical-align: top;\n",
              "    }\n",
              "\n",
              "    .dataframe thead th {\n",
              "        text-align: right;\n",
              "    }\n",
              "</style>\n",
              "<table border=\"1\" class=\"dataframe\">\n",
              "  <thead>\n",
              "    <tr style=\"text-align: right;\">\n",
              "      <th></th>\n",
              "      <th>PID</th>\n",
              "      <th>ST_NUM</th>\n",
              "      <th>ST_NAME</th>\n",
              "      <th>OWN_OCCUPIED</th>\n",
              "      <th>NUM_BEDROOMS</th>\n",
              "      <th>NUM_BATH</th>\n",
              "      <th>SQ_FT</th>\n",
              "    </tr>\n",
              "  </thead>\n",
              "  <tbody>\n",
              "    <tr>\n",
              "      <th>0</th>\n",
              "      <td>100001000.0</td>\n",
              "      <td>104.0</td>\n",
              "      <td>PUTNAM</td>\n",
              "      <td>Y</td>\n",
              "      <td>3.0</td>\n",
              "      <td>1</td>\n",
              "      <td>1000.0</td>\n",
              "    </tr>\n",
              "  </tbody>\n",
              "</table>\n",
              "</div>"
            ],
            "text/plain": [
              "           PID  ST_NUM ST_NAME OWN_OCCUPIED  NUM_BEDROOMS NUM_BATH   SQ_FT\n",
              "0  100001000.0   104.0  PUTNAM            Y           3.0        1  1000.0"
            ]
          },
          "metadata": {
            "tags": []
          },
          "execution_count": 14
        }
      ]
    },
    {
      "cell_type": "code",
      "metadata": {
        "colab": {
          "base_uri": "https://localhost:8080/",
          "height": 348
        },
        "id": "1-F-tJO_S3im",
        "outputId": "a9cf566a-56f4-46ad-9522-ee4f9c0fe710"
      },
      "source": [
        "#drop only if all values of row are nan\n",
        "df.dropna(how='all')"
      ],
      "execution_count": 15,
      "outputs": [
        {
          "output_type": "execute_result",
          "data": {
            "text/html": [
              "<div>\n",
              "<style scoped>\n",
              "    .dataframe tbody tr th:only-of-type {\n",
              "        vertical-align: middle;\n",
              "    }\n",
              "\n",
              "    .dataframe tbody tr th {\n",
              "        vertical-align: top;\n",
              "    }\n",
              "\n",
              "    .dataframe thead th {\n",
              "        text-align: right;\n",
              "    }\n",
              "</style>\n",
              "<table border=\"1\" class=\"dataframe\">\n",
              "  <thead>\n",
              "    <tr style=\"text-align: right;\">\n",
              "      <th></th>\n",
              "      <th>PID</th>\n",
              "      <th>ST_NUM</th>\n",
              "      <th>ST_NAME</th>\n",
              "      <th>OWN_OCCUPIED</th>\n",
              "      <th>NUM_BEDROOMS</th>\n",
              "      <th>NUM_BATH</th>\n",
              "      <th>SQ_FT</th>\n",
              "    </tr>\n",
              "  </thead>\n",
              "  <tbody>\n",
              "    <tr>\n",
              "      <th>0</th>\n",
              "      <td>100001000.0</td>\n",
              "      <td>104.0</td>\n",
              "      <td>PUTNAM</td>\n",
              "      <td>Y</td>\n",
              "      <td>3.0</td>\n",
              "      <td>1</td>\n",
              "      <td>1000.0</td>\n",
              "    </tr>\n",
              "    <tr>\n",
              "      <th>1</th>\n",
              "      <td>100002000.0</td>\n",
              "      <td>197.0</td>\n",
              "      <td>LEXINGTON</td>\n",
              "      <td>N</td>\n",
              "      <td>3.0</td>\n",
              "      <td>1.5</td>\n",
              "      <td>NaN</td>\n",
              "    </tr>\n",
              "    <tr>\n",
              "      <th>2</th>\n",
              "      <td>100003000.0</td>\n",
              "      <td>NaN</td>\n",
              "      <td>LEXINGTON</td>\n",
              "      <td>N</td>\n",
              "      <td>NaN</td>\n",
              "      <td>1</td>\n",
              "      <td>850.0</td>\n",
              "    </tr>\n",
              "    <tr>\n",
              "      <th>3</th>\n",
              "      <td>100004000.0</td>\n",
              "      <td>201.0</td>\n",
              "      <td>BERKELEY</td>\n",
              "      <td>NaN</td>\n",
              "      <td>1.0</td>\n",
              "      <td>NaN</td>\n",
              "      <td>700.0</td>\n",
              "    </tr>\n",
              "    <tr>\n",
              "      <th>4</th>\n",
              "      <td>NaN</td>\n",
              "      <td>203.0</td>\n",
              "      <td>BERKELEY</td>\n",
              "      <td>Y</td>\n",
              "      <td>3.0</td>\n",
              "      <td>2</td>\n",
              "      <td>1600.0</td>\n",
              "    </tr>\n",
              "    <tr>\n",
              "      <th>5</th>\n",
              "      <td>100006000.0</td>\n",
              "      <td>207.0</td>\n",
              "      <td>BERKELEY</td>\n",
              "      <td>Y</td>\n",
              "      <td>NaN</td>\n",
              "      <td>1</td>\n",
              "      <td>800.0</td>\n",
              "    </tr>\n",
              "    <tr>\n",
              "      <th>6</th>\n",
              "      <td>100007000.0</td>\n",
              "      <td>NaN</td>\n",
              "      <td>WASHINGTON</td>\n",
              "      <td>NaN</td>\n",
              "      <td>2.0</td>\n",
              "      <td>NaN</td>\n",
              "      <td>950.0</td>\n",
              "    </tr>\n",
              "    <tr>\n",
              "      <th>7</th>\n",
              "      <td>100008000.0</td>\n",
              "      <td>213.0</td>\n",
              "      <td>TREMONT</td>\n",
              "      <td>Y</td>\n",
              "      <td>1.0</td>\n",
              "      <td>1</td>\n",
              "      <td>NaN</td>\n",
              "    </tr>\n",
              "    <tr>\n",
              "      <th>8</th>\n",
              "      <td>100009000.0</td>\n",
              "      <td>215.0</td>\n",
              "      <td>TREMONT</td>\n",
              "      <td>Y</td>\n",
              "      <td>NaN</td>\n",
              "      <td>2</td>\n",
              "      <td>1800.0</td>\n",
              "    </tr>\n",
              "  </tbody>\n",
              "</table>\n",
              "</div>"
            ],
            "text/plain": [
              "           PID  ST_NUM     ST_NAME OWN_OCCUPIED  NUM_BEDROOMS NUM_BATH   SQ_FT\n",
              "0  100001000.0   104.0      PUTNAM            Y           3.0        1  1000.0\n",
              "1  100002000.0   197.0   LEXINGTON            N           3.0      1.5     NaN\n",
              "2  100003000.0     NaN   LEXINGTON            N           NaN        1   850.0\n",
              "3  100004000.0   201.0    BERKELEY          NaN           1.0      NaN   700.0\n",
              "4          NaN   203.0    BERKELEY            Y           3.0        2  1600.0\n",
              "5  100006000.0   207.0    BERKELEY            Y           NaN        1   800.0\n",
              "6  100007000.0     NaN  WASHINGTON          NaN           2.0      NaN   950.0\n",
              "7  100008000.0   213.0     TREMONT            Y           1.0        1     NaN\n",
              "8  100009000.0   215.0     TREMONT            Y           NaN        2  1800.0"
            ]
          },
          "metadata": {
            "tags": []
          },
          "execution_count": 15
        }
      ]
    },
    {
      "cell_type": "code",
      "metadata": {
        "colab": {
          "base_uri": "https://localhost:8080/",
          "height": 419
        },
        "id": "MmD9JCf-THxJ",
        "outputId": "19582d5a-4561-4143-b86d-099ede371135"
      },
      "source": [
        "from sklearn.impute import SimpleImputer\n",
        "import pandas as pd\n",
        "dataset = pd.read_csv('https://raw.githubusercontent.com/dayanandv/Data-Science/main/dataset/pima-indians-diabetes.csv',skiprows=1,header=None)\n",
        "dataset"
      ],
      "execution_count": 31,
      "outputs": [
        {
          "output_type": "execute_result",
          "data": {
            "text/html": [
              "<div>\n",
              "<style scoped>\n",
              "    .dataframe tbody tr th:only-of-type {\n",
              "        vertical-align: middle;\n",
              "    }\n",
              "\n",
              "    .dataframe tbody tr th {\n",
              "        vertical-align: top;\n",
              "    }\n",
              "\n",
              "    .dataframe thead th {\n",
              "        text-align: right;\n",
              "    }\n",
              "</style>\n",
              "<table border=\"1\" class=\"dataframe\">\n",
              "  <thead>\n",
              "    <tr style=\"text-align: right;\">\n",
              "      <th></th>\n",
              "      <th>0</th>\n",
              "      <th>1</th>\n",
              "      <th>2</th>\n",
              "      <th>3</th>\n",
              "      <th>4</th>\n",
              "      <th>5</th>\n",
              "      <th>6</th>\n",
              "      <th>7</th>\n",
              "      <th>8</th>\n",
              "    </tr>\n",
              "  </thead>\n",
              "  <tbody>\n",
              "    <tr>\n",
              "      <th>0</th>\n",
              "      <td>6</td>\n",
              "      <td>148</td>\n",
              "      <td>72</td>\n",
              "      <td>35</td>\n",
              "      <td>0</td>\n",
              "      <td>33.6</td>\n",
              "      <td>0.627</td>\n",
              "      <td>50</td>\n",
              "      <td>1</td>\n",
              "    </tr>\n",
              "    <tr>\n",
              "      <th>1</th>\n",
              "      <td>1</td>\n",
              "      <td>85</td>\n",
              "      <td>66</td>\n",
              "      <td>29</td>\n",
              "      <td>0</td>\n",
              "      <td>26.6</td>\n",
              "      <td>0.351</td>\n",
              "      <td>31</td>\n",
              "      <td>0</td>\n",
              "    </tr>\n",
              "    <tr>\n",
              "      <th>2</th>\n",
              "      <td>8</td>\n",
              "      <td>183</td>\n",
              "      <td>64</td>\n",
              "      <td>0</td>\n",
              "      <td>0</td>\n",
              "      <td>23.3</td>\n",
              "      <td>0.672</td>\n",
              "      <td>32</td>\n",
              "      <td>1</td>\n",
              "    </tr>\n",
              "    <tr>\n",
              "      <th>3</th>\n",
              "      <td>1</td>\n",
              "      <td>89</td>\n",
              "      <td>66</td>\n",
              "      <td>23</td>\n",
              "      <td>94</td>\n",
              "      <td>28.1</td>\n",
              "      <td>0.167</td>\n",
              "      <td>21</td>\n",
              "      <td>0</td>\n",
              "    </tr>\n",
              "    <tr>\n",
              "      <th>4</th>\n",
              "      <td>0</td>\n",
              "      <td>137</td>\n",
              "      <td>40</td>\n",
              "      <td>35</td>\n",
              "      <td>168</td>\n",
              "      <td>43.1</td>\n",
              "      <td>2.288</td>\n",
              "      <td>33</td>\n",
              "      <td>1</td>\n",
              "    </tr>\n",
              "    <tr>\n",
              "      <th>...</th>\n",
              "      <td>...</td>\n",
              "      <td>...</td>\n",
              "      <td>...</td>\n",
              "      <td>...</td>\n",
              "      <td>...</td>\n",
              "      <td>...</td>\n",
              "      <td>...</td>\n",
              "      <td>...</td>\n",
              "      <td>...</td>\n",
              "    </tr>\n",
              "    <tr>\n",
              "      <th>763</th>\n",
              "      <td>10</td>\n",
              "      <td>101</td>\n",
              "      <td>76</td>\n",
              "      <td>48</td>\n",
              "      <td>180</td>\n",
              "      <td>32.9</td>\n",
              "      <td>0.171</td>\n",
              "      <td>63</td>\n",
              "      <td>0</td>\n",
              "    </tr>\n",
              "    <tr>\n",
              "      <th>764</th>\n",
              "      <td>2</td>\n",
              "      <td>122</td>\n",
              "      <td>70</td>\n",
              "      <td>27</td>\n",
              "      <td>0</td>\n",
              "      <td>36.8</td>\n",
              "      <td>0.340</td>\n",
              "      <td>27</td>\n",
              "      <td>0</td>\n",
              "    </tr>\n",
              "    <tr>\n",
              "      <th>765</th>\n",
              "      <td>5</td>\n",
              "      <td>121</td>\n",
              "      <td>72</td>\n",
              "      <td>23</td>\n",
              "      <td>112</td>\n",
              "      <td>26.2</td>\n",
              "      <td>0.245</td>\n",
              "      <td>30</td>\n",
              "      <td>0</td>\n",
              "    </tr>\n",
              "    <tr>\n",
              "      <th>766</th>\n",
              "      <td>1</td>\n",
              "      <td>126</td>\n",
              "      <td>60</td>\n",
              "      <td>0</td>\n",
              "      <td>0</td>\n",
              "      <td>30.1</td>\n",
              "      <td>0.349</td>\n",
              "      <td>47</td>\n",
              "      <td>1</td>\n",
              "    </tr>\n",
              "    <tr>\n",
              "      <th>767</th>\n",
              "      <td>1</td>\n",
              "      <td>93</td>\n",
              "      <td>70</td>\n",
              "      <td>31</td>\n",
              "      <td>0</td>\n",
              "      <td>30.4</td>\n",
              "      <td>0.315</td>\n",
              "      <td>23</td>\n",
              "      <td>0</td>\n",
              "    </tr>\n",
              "  </tbody>\n",
              "</table>\n",
              "<p>768 rows × 9 columns</p>\n",
              "</div>"
            ],
            "text/plain": [
              "      0    1   2   3    4     5      6   7  8\n",
              "0     6  148  72  35    0  33.6  0.627  50  1\n",
              "1     1   85  66  29    0  26.6  0.351  31  0\n",
              "2     8  183  64   0    0  23.3  0.672  32  1\n",
              "3     1   89  66  23   94  28.1  0.167  21  0\n",
              "4     0  137  40  35  168  43.1  2.288  33  1\n",
              "..   ..  ...  ..  ..  ...   ...    ...  .. ..\n",
              "763  10  101  76  48  180  32.9  0.171  63  0\n",
              "764   2  122  70  27    0  36.8  0.340  27  0\n",
              "765   5  121  72  23  112  26.2  0.245  30  0\n",
              "766   1  126  60   0    0  30.1  0.349  47  1\n",
              "767   1   93  70  31    0  30.4  0.315  23  0\n",
              "\n",
              "[768 rows x 9 columns]"
            ]
          },
          "metadata": {
            "tags": []
          },
          "execution_count": 31
        }
      ]
    },
    {
      "cell_type": "code",
      "metadata": {
        "colab": {
          "base_uri": "https://localhost:8080/"
        },
        "id": "Dljpv4xZUTT4",
        "outputId": "6548e4f4-c00b-40f0-924f-854ef39d31b5"
      },
      "source": [
        "dataset.isnull().sum().sum()"
      ],
      "execution_count": 29,
      "outputs": [
        {
          "output_type": "execute_result",
          "data": {
            "text/plain": [
              "0"
            ]
          },
          "metadata": {
            "tags": []
          },
          "execution_count": 29
        }
      ]
    },
    {
      "cell_type": "code",
      "metadata": {
        "colab": {
          "base_uri": "https://localhost:8080/"
        },
        "id": "0btMR8pJT0u_",
        "outputId": "043c872a-534c-4230-ef13-35e0b5e8fc38"
      },
      "source": [
        "\n",
        "\n",
        "dataset[[1,2,3,4,5]] = dataset[[1,2,3,4,5]].replace(0, np.nan)\n",
        "dataset\n",
        "values = dataset.values\n",
        "values"
      ],
      "execution_count": 32,
      "outputs": [
        {
          "output_type": "execute_result",
          "data": {
            "text/plain": [
              "array([[  6.   , 148.   ,  72.   , ...,   0.627,  50.   ,   1.   ],\n",
              "       [  1.   ,  85.   ,  66.   , ...,   0.351,  31.   ,   0.   ],\n",
              "       [  8.   , 183.   ,  64.   , ...,   0.672,  32.   ,   1.   ],\n",
              "       ...,\n",
              "       [  5.   , 121.   ,  72.   , ...,   0.245,  30.   ,   0.   ],\n",
              "       [  1.   , 126.   ,  60.   , ...,   0.349,  47.   ,   1.   ],\n",
              "       [  1.   ,  93.   ,  70.   , ...,   0.315,  23.   ,   0.   ]])"
            ]
          },
          "metadata": {
            "tags": []
          },
          "execution_count": 32
        }
      ]
    },
    {
      "cell_type": "code",
      "metadata": {
        "colab": {
          "base_uri": "https://localhost:8080/"
        },
        "id": "HZW57oaZUN_r",
        "outputId": "e24b0a34-fc54-4315-efdb-10112ad54729"
      },
      "source": [
        "imputer = SimpleImputer(missing_values= np.nan,strategy='mean')\n",
        "transformed_values = imputer.fit_transform(values)\n",
        "transformed_values"
      ],
      "execution_count": 33,
      "outputs": [
        {
          "output_type": "execute_result",
          "data": {
            "text/plain": [
              "array([[  6.   , 148.   ,  72.   , ...,   0.627,  50.   ,   1.   ],\n",
              "       [  1.   ,  85.   ,  66.   , ...,   0.351,  31.   ,   0.   ],\n",
              "       [  8.   , 183.   ,  64.   , ...,   0.672,  32.   ,   1.   ],\n",
              "       ...,\n",
              "       [  5.   , 121.   ,  72.   , ...,   0.245,  30.   ,   0.   ],\n",
              "       [  1.   , 126.   ,  60.   , ...,   0.349,  47.   ,   1.   ],\n",
              "       [  1.   ,  93.   ,  70.   , ...,   0.315,  23.   ,   0.   ]])"
            ]
          },
          "metadata": {
            "tags": []
          },
          "execution_count": 33
        }
      ]
    },
    {
      "cell_type": "code",
      "metadata": {
        "id": "OY6tsNvQVYKz"
      },
      "source": [
        ""
      ],
      "execution_count": 35,
      "outputs": []
    },
    {
      "cell_type": "code",
      "metadata": {
        "id": "6ptaFOwYXBWm"
      },
      "source": [
        ""
      ],
      "execution_count": null,
      "outputs": []
    }
  ]
}